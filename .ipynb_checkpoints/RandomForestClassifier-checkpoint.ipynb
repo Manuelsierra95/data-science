{
 "cells": [
  {
   "cell_type": "code",
   "execution_count": 1,
   "id": "946a94e3",
   "metadata": {},
   "outputs": [],
   "source": [
    "import pandas as pd\n",
    "import matplotlib as plt\n",
    "import numpy as np"
   ]
  },
  {
   "cell_type": "code",
   "execution_count": 2,
   "id": "64e04221",
   "metadata": {},
   "outputs": [
    {
     "data": {
      "text/html": [
       "<div>\n",
       "<style scoped>\n",
       "    .dataframe tbody tr th:only-of-type {\n",
       "        vertical-align: middle;\n",
       "    }\n",
       "\n",
       "    .dataframe tbody tr th {\n",
       "        vertical-align: top;\n",
       "    }\n",
       "\n",
       "    .dataframe thead th {\n",
       "        text-align: right;\n",
       "    }\n",
       "</style>\n",
       "<table border=\"1\" class=\"dataframe\">\n",
       "  <thead>\n",
       "    <tr style=\"text-align: right;\">\n",
       "      <th></th>\n",
       "      <th>Unnamed: 0</th>\n",
       "      <th>ID</th>\n",
       "      <th>Name</th>\n",
       "      <th>Age</th>\n",
       "      <th>Nationality</th>\n",
       "      <th>Overall</th>\n",
       "      <th>Potential</th>\n",
       "      <th>Club</th>\n",
       "      <th>Contract</th>\n",
       "      <th>Value</th>\n",
       "      <th>Wage</th>\n",
       "      <th>Total stat</th>\n",
       "    </tr>\n",
       "  </thead>\n",
       "  <tbody>\n",
       "    <tr>\n",
       "      <th>0</th>\n",
       "      <td>0</td>\n",
       "      <td>236988</td>\n",
       "      <td>Eddie Nketiah</td>\n",
       "      <td>22</td>\n",
       "      <td>England</td>\n",
       "      <td>72</td>\n",
       "      <td>79</td>\n",
       "      <td>Arsenal</td>\n",
       "      <td>2016 ~ 2022</td>\n",
       "      <td>€4.8M</td>\n",
       "      <td>€45K</td>\n",
       "      <td>1698</td>\n",
       "    </tr>\n",
       "    <tr>\n",
       "      <th>1</th>\n",
       "      <td>1</td>\n",
       "      <td>225863</td>\n",
       "      <td>Olivier Boscagli</td>\n",
       "      <td>23</td>\n",
       "      <td>France</td>\n",
       "      <td>77</td>\n",
       "      <td>82</td>\n",
       "      <td>PSV</td>\n",
       "      <td>2019 ~ 2025</td>\n",
       "      <td>€14.5M</td>\n",
       "      <td>€15K</td>\n",
       "      <td>1961</td>\n",
       "    </tr>\n",
       "    <tr>\n",
       "      <th>2</th>\n",
       "      <td>2</td>\n",
       "      <td>241721</td>\n",
       "      <td>Rafael da Conceição Leão</td>\n",
       "      <td>22</td>\n",
       "      <td>Portugal</td>\n",
       "      <td>82</td>\n",
       "      <td>90</td>\n",
       "      <td>AC Milan</td>\n",
       "      <td>2019 ~ 2024</td>\n",
       "      <td>€68.5M</td>\n",
       "      <td>€52K</td>\n",
       "      <td>1959</td>\n",
       "    </tr>\n",
       "    <tr>\n",
       "      <th>3</th>\n",
       "      <td>3</td>\n",
       "      <td>224371</td>\n",
       "      <td>Jarrod Bowen</td>\n",
       "      <td>24</td>\n",
       "      <td>England</td>\n",
       "      <td>79</td>\n",
       "      <td>82</td>\n",
       "      <td>West Ham United</td>\n",
       "      <td>2020 ~ 2025</td>\n",
       "      <td>€24M</td>\n",
       "      <td>€63K</td>\n",
       "      <td>1966</td>\n",
       "    </tr>\n",
       "    <tr>\n",
       "      <th>4</th>\n",
       "      <td>4</td>\n",
       "      <td>200104</td>\n",
       "      <td>Heung Min Son</td>\n",
       "      <td>28</td>\n",
       "      <td>Korea Republic</td>\n",
       "      <td>89</td>\n",
       "      <td>89</td>\n",
       "      <td>Tottenham Hotspur</td>\n",
       "      <td>2015 ~ 2025</td>\n",
       "      <td>€104M</td>\n",
       "      <td>€240K</td>\n",
       "      <td>2141</td>\n",
       "    </tr>\n",
       "    <tr>\n",
       "      <th>...</th>\n",
       "      <td>...</td>\n",
       "      <td>...</td>\n",
       "      <td>...</td>\n",
       "      <td>...</td>\n",
       "      <td>...</td>\n",
       "      <td>...</td>\n",
       "      <td>...</td>\n",
       "      <td>...</td>\n",
       "      <td>...</td>\n",
       "      <td>...</td>\n",
       "      <td>...</td>\n",
       "      <td>...</td>\n",
       "    </tr>\n",
       "    <tr>\n",
       "      <th>19820</th>\n",
       "      <td>20036</td>\n",
       "      <td>245534</td>\n",
       "      <td>Carl Spellman</td>\n",
       "      <td>18</td>\n",
       "      <td>England</td>\n",
       "      <td>52</td>\n",
       "      <td>64</td>\n",
       "      <td>Tranmere Rovers</td>\n",
       "      <td>2018 ~ 2020</td>\n",
       "      <td>€80K</td>\n",
       "      <td>€500</td>\n",
       "      <td>1506</td>\n",
       "    </tr>\n",
       "    <tr>\n",
       "      <th>19821</th>\n",
       "      <td>20037</td>\n",
       "      <td>245535</td>\n",
       "      <td>Abdulkadir Parmak</td>\n",
       "      <td>26</td>\n",
       "      <td>Turkey</td>\n",
       "      <td>71</td>\n",
       "      <td>74</td>\n",
       "      <td>Yukatel Kayserispor</td>\n",
       "      <td>May 31, 2022 On Loan</td>\n",
       "      <td>€2.2M</td>\n",
       "      <td>€15K</td>\n",
       "      <td>2008</td>\n",
       "    </tr>\n",
       "    <tr>\n",
       "      <th>19822</th>\n",
       "      <td>20038</td>\n",
       "      <td>245536</td>\n",
       "      <td>Andrea Errico</td>\n",
       "      <td>19</td>\n",
       "      <td>Italy</td>\n",
       "      <td>57</td>\n",
       "      <td>70</td>\n",
       "      <td>Frosinone</td>\n",
       "      <td>2018 ~ 2021</td>\n",
       "      <td>€200K</td>\n",
       "      <td>€2K</td>\n",
       "      <td>1385</td>\n",
       "    </tr>\n",
       "    <tr>\n",
       "      <th>19823</th>\n",
       "      <td>20039</td>\n",
       "      <td>245540</td>\n",
       "      <td>Stratos Svarnas</td>\n",
       "      <td>23</td>\n",
       "      <td>Greece</td>\n",
       "      <td>69</td>\n",
       "      <td>74</td>\n",
       "      <td>AEK Athens</td>\n",
       "      <td>2018 ~ 2025</td>\n",
       "      <td>€1.9M</td>\n",
       "      <td>€500</td>\n",
       "      <td>1589</td>\n",
       "    </tr>\n",
       "    <tr>\n",
       "      <th>19824</th>\n",
       "      <td>20097</td>\n",
       "      <td>259356</td>\n",
       "      <td>Carney Chukwuemeka</td>\n",
       "      <td>17</td>\n",
       "      <td>England</td>\n",
       "      <td>64</td>\n",
       "      <td>87</td>\n",
       "      <td>Aston Villa</td>\n",
       "      <td>2021 ~ 2023</td>\n",
       "      <td>€1.8M</td>\n",
       "      <td>€2K</td>\n",
       "      <td>1630</td>\n",
       "    </tr>\n",
       "  </tbody>\n",
       "</table>\n",
       "<p>19825 rows × 12 columns</p>\n",
       "</div>"
      ],
      "text/plain": [
       "       Unnamed: 0      ID                      Name  Age     Nationality  \\\n",
       "0               0  236988             Eddie Nketiah   22         England   \n",
       "1               1  225863          Olivier Boscagli   23          France   \n",
       "2               2  241721  Rafael da Conceição Leão   22        Portugal   \n",
       "3               3  224371              Jarrod Bowen   24         England   \n",
       "4               4  200104             Heung Min Son   28  Korea Republic   \n",
       "...           ...     ...                       ...  ...             ...   \n",
       "19820       20036  245534             Carl Spellman   18         England   \n",
       "19821       20037  245535         Abdulkadir Parmak   26          Turkey   \n",
       "19822       20038  245536             Andrea Errico   19           Italy   \n",
       "19823       20039  245540           Stratos Svarnas   23          Greece   \n",
       "19824       20097  259356        Carney Chukwuemeka   17         England   \n",
       "\n",
       "       Overall  Potential                 Club              Contract   Value  \\\n",
       "0           72         79              Arsenal           2016 ~ 2022   €4.8M   \n",
       "1           77         82                  PSV           2019 ~ 2025  €14.5M   \n",
       "2           82         90             AC Milan           2019 ~ 2024  €68.5M   \n",
       "3           79         82      West Ham United           2020 ~ 2025    €24M   \n",
       "4           89         89    Tottenham Hotspur           2015 ~ 2025   €104M   \n",
       "...        ...        ...                  ...                   ...     ...   \n",
       "19820       52         64      Tranmere Rovers           2018 ~ 2020    €80K   \n",
       "19821       71         74  Yukatel Kayserispor  May 31, 2022 On Loan   €2.2M   \n",
       "19822       57         70            Frosinone           2018 ~ 2021   €200K   \n",
       "19823       69         74           AEK Athens           2018 ~ 2025   €1.9M   \n",
       "19824       64         87          Aston Villa           2021 ~ 2023   €1.8M   \n",
       "\n",
       "        Wage  Total stat  \n",
       "0       €45K        1698  \n",
       "1       €15K        1961  \n",
       "2       €52K        1959  \n",
       "3       €63K        1966  \n",
       "4      €240K        2141  \n",
       "...      ...         ...  \n",
       "19820   €500        1506  \n",
       "19821   €15K        2008  \n",
       "19822    €2K        1385  \n",
       "19823   €500        1589  \n",
       "19824    €2K        1630  \n",
       "\n",
       "[19825 rows x 12 columns]"
      ]
     },
     "execution_count": 2,
     "metadata": {},
     "output_type": "execute_result"
    }
   ],
   "source": [
    "df = pd.read_csv('basic_info.csv')\n",
    "df"
   ]
  },
  {
   "cell_type": "code",
   "execution_count": 3,
   "id": "54156f53",
   "metadata": {},
   "outputs": [
    {
     "data": {
      "text/html": [
       "<div>\n",
       "<style scoped>\n",
       "    .dataframe tbody tr th:only-of-type {\n",
       "        vertical-align: middle;\n",
       "    }\n",
       "\n",
       "    .dataframe tbody tr th {\n",
       "        vertical-align: top;\n",
       "    }\n",
       "\n",
       "    .dataframe thead th {\n",
       "        text-align: right;\n",
       "    }\n",
       "</style>\n",
       "<table border=\"1\" class=\"dataframe\">\n",
       "  <thead>\n",
       "    <tr style=\"text-align: right;\">\n",
       "      <th></th>\n",
       "      <th>ID</th>\n",
       "      <th>Name</th>\n",
       "      <th>Age</th>\n",
       "      <th>Nationality</th>\n",
       "      <th>Overall</th>\n",
       "      <th>Potential</th>\n",
       "      <th>Club</th>\n",
       "      <th>Contract</th>\n",
       "      <th>Value</th>\n",
       "      <th>Wage</th>\n",
       "      <th>Total stat</th>\n",
       "    </tr>\n",
       "  </thead>\n",
       "  <tbody>\n",
       "    <tr>\n",
       "      <th>0</th>\n",
       "      <td>236988</td>\n",
       "      <td>Eddie Nketiah</td>\n",
       "      <td>22</td>\n",
       "      <td>England</td>\n",
       "      <td>72</td>\n",
       "      <td>79</td>\n",
       "      <td>Arsenal</td>\n",
       "      <td>2016 ~ 2022</td>\n",
       "      <td>€4.8M</td>\n",
       "      <td>€45K</td>\n",
       "      <td>1698</td>\n",
       "    </tr>\n",
       "    <tr>\n",
       "      <th>1</th>\n",
       "      <td>225863</td>\n",
       "      <td>Olivier Boscagli</td>\n",
       "      <td>23</td>\n",
       "      <td>France</td>\n",
       "      <td>77</td>\n",
       "      <td>82</td>\n",
       "      <td>PSV</td>\n",
       "      <td>2019 ~ 2025</td>\n",
       "      <td>€14.5M</td>\n",
       "      <td>€15K</td>\n",
       "      <td>1961</td>\n",
       "    </tr>\n",
       "    <tr>\n",
       "      <th>2</th>\n",
       "      <td>241721</td>\n",
       "      <td>Rafael da Conceição Leão</td>\n",
       "      <td>22</td>\n",
       "      <td>Portugal</td>\n",
       "      <td>82</td>\n",
       "      <td>90</td>\n",
       "      <td>AC Milan</td>\n",
       "      <td>2019 ~ 2024</td>\n",
       "      <td>€68.5M</td>\n",
       "      <td>€52K</td>\n",
       "      <td>1959</td>\n",
       "    </tr>\n",
       "    <tr>\n",
       "      <th>3</th>\n",
       "      <td>224371</td>\n",
       "      <td>Jarrod Bowen</td>\n",
       "      <td>24</td>\n",
       "      <td>England</td>\n",
       "      <td>79</td>\n",
       "      <td>82</td>\n",
       "      <td>West Ham United</td>\n",
       "      <td>2020 ~ 2025</td>\n",
       "      <td>€24M</td>\n",
       "      <td>€63K</td>\n",
       "      <td>1966</td>\n",
       "    </tr>\n",
       "    <tr>\n",
       "      <th>4</th>\n",
       "      <td>200104</td>\n",
       "      <td>Heung Min Son</td>\n",
       "      <td>28</td>\n",
       "      <td>Korea Republic</td>\n",
       "      <td>89</td>\n",
       "      <td>89</td>\n",
       "      <td>Tottenham Hotspur</td>\n",
       "      <td>2015 ~ 2025</td>\n",
       "      <td>€104M</td>\n",
       "      <td>€240K</td>\n",
       "      <td>2141</td>\n",
       "    </tr>\n",
       "    <tr>\n",
       "      <th>...</th>\n",
       "      <td>...</td>\n",
       "      <td>...</td>\n",
       "      <td>...</td>\n",
       "      <td>...</td>\n",
       "      <td>...</td>\n",
       "      <td>...</td>\n",
       "      <td>...</td>\n",
       "      <td>...</td>\n",
       "      <td>...</td>\n",
       "      <td>...</td>\n",
       "      <td>...</td>\n",
       "    </tr>\n",
       "    <tr>\n",
       "      <th>19820</th>\n",
       "      <td>245534</td>\n",
       "      <td>Carl Spellman</td>\n",
       "      <td>18</td>\n",
       "      <td>England</td>\n",
       "      <td>52</td>\n",
       "      <td>64</td>\n",
       "      <td>Tranmere Rovers</td>\n",
       "      <td>2018 ~ 2020</td>\n",
       "      <td>€80K</td>\n",
       "      <td>€500</td>\n",
       "      <td>1506</td>\n",
       "    </tr>\n",
       "    <tr>\n",
       "      <th>19821</th>\n",
       "      <td>245535</td>\n",
       "      <td>Abdulkadir Parmak</td>\n",
       "      <td>26</td>\n",
       "      <td>Turkey</td>\n",
       "      <td>71</td>\n",
       "      <td>74</td>\n",
       "      <td>Yukatel Kayserispor</td>\n",
       "      <td>May 31, 2022 On Loan</td>\n",
       "      <td>€2.2M</td>\n",
       "      <td>€15K</td>\n",
       "      <td>2008</td>\n",
       "    </tr>\n",
       "    <tr>\n",
       "      <th>19822</th>\n",
       "      <td>245536</td>\n",
       "      <td>Andrea Errico</td>\n",
       "      <td>19</td>\n",
       "      <td>Italy</td>\n",
       "      <td>57</td>\n",
       "      <td>70</td>\n",
       "      <td>Frosinone</td>\n",
       "      <td>2018 ~ 2021</td>\n",
       "      <td>€200K</td>\n",
       "      <td>€2K</td>\n",
       "      <td>1385</td>\n",
       "    </tr>\n",
       "    <tr>\n",
       "      <th>19823</th>\n",
       "      <td>245540</td>\n",
       "      <td>Stratos Svarnas</td>\n",
       "      <td>23</td>\n",
       "      <td>Greece</td>\n",
       "      <td>69</td>\n",
       "      <td>74</td>\n",
       "      <td>AEK Athens</td>\n",
       "      <td>2018 ~ 2025</td>\n",
       "      <td>€1.9M</td>\n",
       "      <td>€500</td>\n",
       "      <td>1589</td>\n",
       "    </tr>\n",
       "    <tr>\n",
       "      <th>19824</th>\n",
       "      <td>259356</td>\n",
       "      <td>Carney Chukwuemeka</td>\n",
       "      <td>17</td>\n",
       "      <td>England</td>\n",
       "      <td>64</td>\n",
       "      <td>87</td>\n",
       "      <td>Aston Villa</td>\n",
       "      <td>2021 ~ 2023</td>\n",
       "      <td>€1.8M</td>\n",
       "      <td>€2K</td>\n",
       "      <td>1630</td>\n",
       "    </tr>\n",
       "  </tbody>\n",
       "</table>\n",
       "<p>19825 rows × 11 columns</p>\n",
       "</div>"
      ],
      "text/plain": [
       "           ID                      Name  Age     Nationality  Overall  \\\n",
       "0      236988             Eddie Nketiah   22         England       72   \n",
       "1      225863          Olivier Boscagli   23          France       77   \n",
       "2      241721  Rafael da Conceição Leão   22        Portugal       82   \n",
       "3      224371              Jarrod Bowen   24         England       79   \n",
       "4      200104             Heung Min Son   28  Korea Republic       89   \n",
       "...       ...                       ...  ...             ...      ...   \n",
       "19820  245534             Carl Spellman   18         England       52   \n",
       "19821  245535         Abdulkadir Parmak   26          Turkey       71   \n",
       "19822  245536             Andrea Errico   19           Italy       57   \n",
       "19823  245540           Stratos Svarnas   23          Greece       69   \n",
       "19824  259356        Carney Chukwuemeka   17         England       64   \n",
       "\n",
       "       Potential                 Club              Contract   Value   Wage  \\\n",
       "0             79              Arsenal           2016 ~ 2022   €4.8M   €45K   \n",
       "1             82                  PSV           2019 ~ 2025  €14.5M   €15K   \n",
       "2             90             AC Milan           2019 ~ 2024  €68.5M   €52K   \n",
       "3             82      West Ham United           2020 ~ 2025    €24M   €63K   \n",
       "4             89    Tottenham Hotspur           2015 ~ 2025   €104M  €240K   \n",
       "...          ...                  ...                   ...     ...    ...   \n",
       "19820         64      Tranmere Rovers           2018 ~ 2020    €80K   €500   \n",
       "19821         74  Yukatel Kayserispor  May 31, 2022 On Loan   €2.2M   €15K   \n",
       "19822         70            Frosinone           2018 ~ 2021   €200K    €2K   \n",
       "19823         74           AEK Athens           2018 ~ 2025   €1.9M   €500   \n",
       "19824         87          Aston Villa           2021 ~ 2023   €1.8M    €2K   \n",
       "\n",
       "       Total stat  \n",
       "0            1698  \n",
       "1            1961  \n",
       "2            1959  \n",
       "3            1966  \n",
       "4            2141  \n",
       "...           ...  \n",
       "19820        1506  \n",
       "19821        2008  \n",
       "19822        1385  \n",
       "19823        1589  \n",
       "19824        1630  \n",
       "\n",
       "[19825 rows x 11 columns]"
      ]
     },
     "execution_count": 3,
     "metadata": {},
     "output_type": "execute_result"
    }
   ],
   "source": [
    "df = df.drop('Unnamed: 0', axis=1)\n",
    "df"
   ]
  },
  {
   "cell_type": "code",
   "execution_count": 4,
   "id": "7981c820",
   "metadata": {},
   "outputs": [
    {
     "data": {
      "text/plain": [
       "19825"
      ]
     },
     "execution_count": 4,
     "metadata": {},
     "output_type": "execute_result"
    }
   ],
   "source": [
    "is_spanish = []\n",
    "for rows in df['Nationality']:\n",
    "    if rows == 'Spain':\n",
    "        is_spanish.append(1)\n",
    "    else:\n",
    "        is_spanish.append(0)\n",
    "len(is_spanish)"
   ]
  },
  {
   "cell_type": "code",
   "execution_count": 5,
   "id": "5761a5fd",
   "metadata": {},
   "outputs": [
    {
     "data": {
      "text/html": [
       "<div>\n",
       "<style scoped>\n",
       "    .dataframe tbody tr th:only-of-type {\n",
       "        vertical-align: middle;\n",
       "    }\n",
       "\n",
       "    .dataframe tbody tr th {\n",
       "        vertical-align: top;\n",
       "    }\n",
       "\n",
       "    .dataframe thead th {\n",
       "        text-align: right;\n",
       "    }\n",
       "</style>\n",
       "<table border=\"1\" class=\"dataframe\">\n",
       "  <thead>\n",
       "    <tr style=\"text-align: right;\">\n",
       "      <th></th>\n",
       "      <th>ID</th>\n",
       "      <th>Name</th>\n",
       "      <th>Age</th>\n",
       "      <th>Nationality</th>\n",
       "      <th>Overall</th>\n",
       "      <th>Potential</th>\n",
       "      <th>Club</th>\n",
       "      <th>Contract</th>\n",
       "      <th>Value</th>\n",
       "      <th>Wage</th>\n",
       "      <th>Total stat</th>\n",
       "      <th>is_spanish</th>\n",
       "    </tr>\n",
       "  </thead>\n",
       "  <tbody>\n",
       "    <tr>\n",
       "      <th>0</th>\n",
       "      <td>236988</td>\n",
       "      <td>Eddie Nketiah</td>\n",
       "      <td>22</td>\n",
       "      <td>England</td>\n",
       "      <td>72</td>\n",
       "      <td>79</td>\n",
       "      <td>Arsenal</td>\n",
       "      <td>2016 ~ 2022</td>\n",
       "      <td>€4.8M</td>\n",
       "      <td>€45K</td>\n",
       "      <td>1698</td>\n",
       "      <td>0</td>\n",
       "    </tr>\n",
       "    <tr>\n",
       "      <th>1</th>\n",
       "      <td>225863</td>\n",
       "      <td>Olivier Boscagli</td>\n",
       "      <td>23</td>\n",
       "      <td>France</td>\n",
       "      <td>77</td>\n",
       "      <td>82</td>\n",
       "      <td>PSV</td>\n",
       "      <td>2019 ~ 2025</td>\n",
       "      <td>€14.5M</td>\n",
       "      <td>€15K</td>\n",
       "      <td>1961</td>\n",
       "      <td>0</td>\n",
       "    </tr>\n",
       "    <tr>\n",
       "      <th>2</th>\n",
       "      <td>241721</td>\n",
       "      <td>Rafael da Conceição Leão</td>\n",
       "      <td>22</td>\n",
       "      <td>Portugal</td>\n",
       "      <td>82</td>\n",
       "      <td>90</td>\n",
       "      <td>AC Milan</td>\n",
       "      <td>2019 ~ 2024</td>\n",
       "      <td>€68.5M</td>\n",
       "      <td>€52K</td>\n",
       "      <td>1959</td>\n",
       "      <td>0</td>\n",
       "    </tr>\n",
       "    <tr>\n",
       "      <th>3</th>\n",
       "      <td>224371</td>\n",
       "      <td>Jarrod Bowen</td>\n",
       "      <td>24</td>\n",
       "      <td>England</td>\n",
       "      <td>79</td>\n",
       "      <td>82</td>\n",
       "      <td>West Ham United</td>\n",
       "      <td>2020 ~ 2025</td>\n",
       "      <td>€24M</td>\n",
       "      <td>€63K</td>\n",
       "      <td>1966</td>\n",
       "      <td>0</td>\n",
       "    </tr>\n",
       "    <tr>\n",
       "      <th>4</th>\n",
       "      <td>200104</td>\n",
       "      <td>Heung Min Son</td>\n",
       "      <td>28</td>\n",
       "      <td>Korea Republic</td>\n",
       "      <td>89</td>\n",
       "      <td>89</td>\n",
       "      <td>Tottenham Hotspur</td>\n",
       "      <td>2015 ~ 2025</td>\n",
       "      <td>€104M</td>\n",
       "      <td>€240K</td>\n",
       "      <td>2141</td>\n",
       "      <td>0</td>\n",
       "    </tr>\n",
       "    <tr>\n",
       "      <th>...</th>\n",
       "      <td>...</td>\n",
       "      <td>...</td>\n",
       "      <td>...</td>\n",
       "      <td>...</td>\n",
       "      <td>...</td>\n",
       "      <td>...</td>\n",
       "      <td>...</td>\n",
       "      <td>...</td>\n",
       "      <td>...</td>\n",
       "      <td>...</td>\n",
       "      <td>...</td>\n",
       "      <td>...</td>\n",
       "    </tr>\n",
       "    <tr>\n",
       "      <th>19820</th>\n",
       "      <td>245534</td>\n",
       "      <td>Carl Spellman</td>\n",
       "      <td>18</td>\n",
       "      <td>England</td>\n",
       "      <td>52</td>\n",
       "      <td>64</td>\n",
       "      <td>Tranmere Rovers</td>\n",
       "      <td>2018 ~ 2020</td>\n",
       "      <td>€80K</td>\n",
       "      <td>€500</td>\n",
       "      <td>1506</td>\n",
       "      <td>0</td>\n",
       "    </tr>\n",
       "    <tr>\n",
       "      <th>19821</th>\n",
       "      <td>245535</td>\n",
       "      <td>Abdulkadir Parmak</td>\n",
       "      <td>26</td>\n",
       "      <td>Turkey</td>\n",
       "      <td>71</td>\n",
       "      <td>74</td>\n",
       "      <td>Yukatel Kayserispor</td>\n",
       "      <td>May 31, 2022 On Loan</td>\n",
       "      <td>€2.2M</td>\n",
       "      <td>€15K</td>\n",
       "      <td>2008</td>\n",
       "      <td>0</td>\n",
       "    </tr>\n",
       "    <tr>\n",
       "      <th>19822</th>\n",
       "      <td>245536</td>\n",
       "      <td>Andrea Errico</td>\n",
       "      <td>19</td>\n",
       "      <td>Italy</td>\n",
       "      <td>57</td>\n",
       "      <td>70</td>\n",
       "      <td>Frosinone</td>\n",
       "      <td>2018 ~ 2021</td>\n",
       "      <td>€200K</td>\n",
       "      <td>€2K</td>\n",
       "      <td>1385</td>\n",
       "      <td>0</td>\n",
       "    </tr>\n",
       "    <tr>\n",
       "      <th>19823</th>\n",
       "      <td>245540</td>\n",
       "      <td>Stratos Svarnas</td>\n",
       "      <td>23</td>\n",
       "      <td>Greece</td>\n",
       "      <td>69</td>\n",
       "      <td>74</td>\n",
       "      <td>AEK Athens</td>\n",
       "      <td>2018 ~ 2025</td>\n",
       "      <td>€1.9M</td>\n",
       "      <td>€500</td>\n",
       "      <td>1589</td>\n",
       "      <td>0</td>\n",
       "    </tr>\n",
       "    <tr>\n",
       "      <th>19824</th>\n",
       "      <td>259356</td>\n",
       "      <td>Carney Chukwuemeka</td>\n",
       "      <td>17</td>\n",
       "      <td>England</td>\n",
       "      <td>64</td>\n",
       "      <td>87</td>\n",
       "      <td>Aston Villa</td>\n",
       "      <td>2021 ~ 2023</td>\n",
       "      <td>€1.8M</td>\n",
       "      <td>€2K</td>\n",
       "      <td>1630</td>\n",
       "      <td>0</td>\n",
       "    </tr>\n",
       "  </tbody>\n",
       "</table>\n",
       "<p>19825 rows × 12 columns</p>\n",
       "</div>"
      ],
      "text/plain": [
       "           ID                      Name  Age     Nationality  Overall  \\\n",
       "0      236988             Eddie Nketiah   22         England       72   \n",
       "1      225863          Olivier Boscagli   23          France       77   \n",
       "2      241721  Rafael da Conceição Leão   22        Portugal       82   \n",
       "3      224371              Jarrod Bowen   24         England       79   \n",
       "4      200104             Heung Min Son   28  Korea Republic       89   \n",
       "...       ...                       ...  ...             ...      ...   \n",
       "19820  245534             Carl Spellman   18         England       52   \n",
       "19821  245535         Abdulkadir Parmak   26          Turkey       71   \n",
       "19822  245536             Andrea Errico   19           Italy       57   \n",
       "19823  245540           Stratos Svarnas   23          Greece       69   \n",
       "19824  259356        Carney Chukwuemeka   17         England       64   \n",
       "\n",
       "       Potential                 Club              Contract   Value   Wage  \\\n",
       "0             79              Arsenal           2016 ~ 2022   €4.8M   €45K   \n",
       "1             82                  PSV           2019 ~ 2025  €14.5M   €15K   \n",
       "2             90             AC Milan           2019 ~ 2024  €68.5M   €52K   \n",
       "3             82      West Ham United           2020 ~ 2025    €24M   €63K   \n",
       "4             89    Tottenham Hotspur           2015 ~ 2025   €104M  €240K   \n",
       "...          ...                  ...                   ...     ...    ...   \n",
       "19820         64      Tranmere Rovers           2018 ~ 2020    €80K   €500   \n",
       "19821         74  Yukatel Kayserispor  May 31, 2022 On Loan   €2.2M   €15K   \n",
       "19822         70            Frosinone           2018 ~ 2021   €200K    €2K   \n",
       "19823         74           AEK Athens           2018 ~ 2025   €1.9M   €500   \n",
       "19824         87          Aston Villa           2021 ~ 2023   €1.8M    €2K   \n",
       "\n",
       "       Total stat  is_spanish  \n",
       "0            1698           0  \n",
       "1            1961           0  \n",
       "2            1959           0  \n",
       "3            1966           0  \n",
       "4            2141           0  \n",
       "...           ...         ...  \n",
       "19820        1506           0  \n",
       "19821        2008           0  \n",
       "19822        1385           0  \n",
       "19823        1589           0  \n",
       "19824        1630           0  \n",
       "\n",
       "[19825 rows x 12 columns]"
      ]
     },
     "execution_count": 5,
     "metadata": {},
     "output_type": "execute_result"
    }
   ],
   "source": [
    "df['is_spanish'] = is_spanish\n",
    "df"
   ]
  },
  {
   "cell_type": "code",
   "execution_count": 6,
   "id": "9a4474d0",
   "metadata": {
    "scrolled": true
   },
   "outputs": [
    {
     "data": {
      "text/html": [
       "<div>\n",
       "<style scoped>\n",
       "    .dataframe tbody tr th:only-of-type {\n",
       "        vertical-align: middle;\n",
       "    }\n",
       "\n",
       "    .dataframe tbody tr th {\n",
       "        vertical-align: top;\n",
       "    }\n",
       "\n",
       "    .dataframe thead th {\n",
       "        text-align: right;\n",
       "    }\n",
       "</style>\n",
       "<table border=\"1\" class=\"dataframe\">\n",
       "  <thead>\n",
       "    <tr style=\"text-align: right;\">\n",
       "      <th></th>\n",
       "      <th>ID</th>\n",
       "      <th>Age</th>\n",
       "      <th>Overall</th>\n",
       "      <th>Potential</th>\n",
       "      <th>Club</th>\n",
       "      <th>Value</th>\n",
       "      <th>Wage</th>\n",
       "      <th>Total stat</th>\n",
       "      <th>is_spanish</th>\n",
       "    </tr>\n",
       "  </thead>\n",
       "  <tbody>\n",
       "    <tr>\n",
       "      <th>0</th>\n",
       "      <td>236988</td>\n",
       "      <td>22</td>\n",
       "      <td>72</td>\n",
       "      <td>79</td>\n",
       "      <td>Arsenal</td>\n",
       "      <td>€4.8M</td>\n",
       "      <td>€45K</td>\n",
       "      <td>1698</td>\n",
       "      <td>0</td>\n",
       "    </tr>\n",
       "    <tr>\n",
       "      <th>1</th>\n",
       "      <td>225863</td>\n",
       "      <td>23</td>\n",
       "      <td>77</td>\n",
       "      <td>82</td>\n",
       "      <td>PSV</td>\n",
       "      <td>€14.5M</td>\n",
       "      <td>€15K</td>\n",
       "      <td>1961</td>\n",
       "      <td>0</td>\n",
       "    </tr>\n",
       "    <tr>\n",
       "      <th>2</th>\n",
       "      <td>241721</td>\n",
       "      <td>22</td>\n",
       "      <td>82</td>\n",
       "      <td>90</td>\n",
       "      <td>AC Milan</td>\n",
       "      <td>€68.5M</td>\n",
       "      <td>€52K</td>\n",
       "      <td>1959</td>\n",
       "      <td>0</td>\n",
       "    </tr>\n",
       "    <tr>\n",
       "      <th>3</th>\n",
       "      <td>224371</td>\n",
       "      <td>24</td>\n",
       "      <td>79</td>\n",
       "      <td>82</td>\n",
       "      <td>West Ham United</td>\n",
       "      <td>€24M</td>\n",
       "      <td>€63K</td>\n",
       "      <td>1966</td>\n",
       "      <td>0</td>\n",
       "    </tr>\n",
       "    <tr>\n",
       "      <th>4</th>\n",
       "      <td>200104</td>\n",
       "      <td>28</td>\n",
       "      <td>89</td>\n",
       "      <td>89</td>\n",
       "      <td>Tottenham Hotspur</td>\n",
       "      <td>€104M</td>\n",
       "      <td>€240K</td>\n",
       "      <td>2141</td>\n",
       "      <td>0</td>\n",
       "    </tr>\n",
       "    <tr>\n",
       "      <th>...</th>\n",
       "      <td>...</td>\n",
       "      <td>...</td>\n",
       "      <td>...</td>\n",
       "      <td>...</td>\n",
       "      <td>...</td>\n",
       "      <td>...</td>\n",
       "      <td>...</td>\n",
       "      <td>...</td>\n",
       "      <td>...</td>\n",
       "    </tr>\n",
       "    <tr>\n",
       "      <th>19820</th>\n",
       "      <td>245534</td>\n",
       "      <td>18</td>\n",
       "      <td>52</td>\n",
       "      <td>64</td>\n",
       "      <td>Tranmere Rovers</td>\n",
       "      <td>€80K</td>\n",
       "      <td>€500</td>\n",
       "      <td>1506</td>\n",
       "      <td>0</td>\n",
       "    </tr>\n",
       "    <tr>\n",
       "      <th>19821</th>\n",
       "      <td>245535</td>\n",
       "      <td>26</td>\n",
       "      <td>71</td>\n",
       "      <td>74</td>\n",
       "      <td>Yukatel Kayserispor</td>\n",
       "      <td>€2.2M</td>\n",
       "      <td>€15K</td>\n",
       "      <td>2008</td>\n",
       "      <td>0</td>\n",
       "    </tr>\n",
       "    <tr>\n",
       "      <th>19822</th>\n",
       "      <td>245536</td>\n",
       "      <td>19</td>\n",
       "      <td>57</td>\n",
       "      <td>70</td>\n",
       "      <td>Frosinone</td>\n",
       "      <td>€200K</td>\n",
       "      <td>€2K</td>\n",
       "      <td>1385</td>\n",
       "      <td>0</td>\n",
       "    </tr>\n",
       "    <tr>\n",
       "      <th>19823</th>\n",
       "      <td>245540</td>\n",
       "      <td>23</td>\n",
       "      <td>69</td>\n",
       "      <td>74</td>\n",
       "      <td>AEK Athens</td>\n",
       "      <td>€1.9M</td>\n",
       "      <td>€500</td>\n",
       "      <td>1589</td>\n",
       "      <td>0</td>\n",
       "    </tr>\n",
       "    <tr>\n",
       "      <th>19824</th>\n",
       "      <td>259356</td>\n",
       "      <td>17</td>\n",
       "      <td>64</td>\n",
       "      <td>87</td>\n",
       "      <td>Aston Villa</td>\n",
       "      <td>€1.8M</td>\n",
       "      <td>€2K</td>\n",
       "      <td>1630</td>\n",
       "      <td>0</td>\n",
       "    </tr>\n",
       "  </tbody>\n",
       "</table>\n",
       "<p>19825 rows × 9 columns</p>\n",
       "</div>"
      ],
      "text/plain": [
       "           ID  Age  Overall  Potential                 Club   Value   Wage  \\\n",
       "0      236988   22       72         79              Arsenal   €4.8M   €45K   \n",
       "1      225863   23       77         82                  PSV  €14.5M   €15K   \n",
       "2      241721   22       82         90             AC Milan  €68.5M   €52K   \n",
       "3      224371   24       79         82      West Ham United    €24M   €63K   \n",
       "4      200104   28       89         89    Tottenham Hotspur   €104M  €240K   \n",
       "...       ...  ...      ...        ...                  ...     ...    ...   \n",
       "19820  245534   18       52         64      Tranmere Rovers    €80K   €500   \n",
       "19821  245535   26       71         74  Yukatel Kayserispor   €2.2M   €15K   \n",
       "19822  245536   19       57         70            Frosinone   €200K    €2K   \n",
       "19823  245540   23       69         74           AEK Athens   €1.9M   €500   \n",
       "19824  259356   17       64         87          Aston Villa   €1.8M    €2K   \n",
       "\n",
       "       Total stat  is_spanish  \n",
       "0            1698           0  \n",
       "1            1961           0  \n",
       "2            1959           0  \n",
       "3            1966           0  \n",
       "4            2141           0  \n",
       "...           ...         ...  \n",
       "19820        1506           0  \n",
       "19821        2008           0  \n",
       "19822        1385           0  \n",
       "19823        1589           0  \n",
       "19824        1630           0  \n",
       "\n",
       "[19825 rows x 9 columns]"
      ]
     },
     "execution_count": 6,
     "metadata": {},
     "output_type": "execute_result"
    }
   ],
   "source": [
    "df = df.drop(['Contract', 'Name', 'Nationality'], axis=1)\n",
    "df"
   ]
  },
  {
   "cell_type": "code",
   "execution_count": 7,
   "id": "e6bc2b67",
   "metadata": {},
   "outputs": [
    {
     "name": "stderr",
     "output_type": "stream",
     "text": [
      "/tmp/ipykernel_26392/3880873135.py:2: FutureWarning: The default value of regex will change from True to False in a future version.\n",
      "  temp_data = df.str.replace('[M, K, €]', '').astype(float)\n"
     ]
    },
    {
     "data": {
      "text/html": [
       "<div>\n",
       "<style scoped>\n",
       "    .dataframe tbody tr th:only-of-type {\n",
       "        vertical-align: middle;\n",
       "    }\n",
       "\n",
       "    .dataframe tbody tr th {\n",
       "        vertical-align: top;\n",
       "    }\n",
       "\n",
       "    .dataframe thead th {\n",
       "        text-align: right;\n",
       "    }\n",
       "</style>\n",
       "<table border=\"1\" class=\"dataframe\">\n",
       "  <thead>\n",
       "    <tr style=\"text-align: right;\">\n",
       "      <th></th>\n",
       "      <th>ID</th>\n",
       "      <th>Age</th>\n",
       "      <th>Overall</th>\n",
       "      <th>Potential</th>\n",
       "      <th>Club</th>\n",
       "      <th>Value</th>\n",
       "      <th>Wage</th>\n",
       "      <th>Total stat</th>\n",
       "      <th>is_spanish</th>\n",
       "    </tr>\n",
       "  </thead>\n",
       "  <tbody>\n",
       "    <tr>\n",
       "      <th>0</th>\n",
       "      <td>236988</td>\n",
       "      <td>22</td>\n",
       "      <td>72</td>\n",
       "      <td>79</td>\n",
       "      <td>Arsenal</td>\n",
       "      <td>4800000.0</td>\n",
       "      <td>45000.0</td>\n",
       "      <td>1698</td>\n",
       "      <td>0</td>\n",
       "    </tr>\n",
       "    <tr>\n",
       "      <th>1</th>\n",
       "      <td>225863</td>\n",
       "      <td>23</td>\n",
       "      <td>77</td>\n",
       "      <td>82</td>\n",
       "      <td>PSV</td>\n",
       "      <td>14500000.0</td>\n",
       "      <td>15000.0</td>\n",
       "      <td>1961</td>\n",
       "      <td>0</td>\n",
       "    </tr>\n",
       "    <tr>\n",
       "      <th>2</th>\n",
       "      <td>241721</td>\n",
       "      <td>22</td>\n",
       "      <td>82</td>\n",
       "      <td>90</td>\n",
       "      <td>AC Milan</td>\n",
       "      <td>68500000.0</td>\n",
       "      <td>52000.0</td>\n",
       "      <td>1959</td>\n",
       "      <td>0</td>\n",
       "    </tr>\n",
       "    <tr>\n",
       "      <th>3</th>\n",
       "      <td>224371</td>\n",
       "      <td>24</td>\n",
       "      <td>79</td>\n",
       "      <td>82</td>\n",
       "      <td>West Ham United</td>\n",
       "      <td>24000000.0</td>\n",
       "      <td>63000.0</td>\n",
       "      <td>1966</td>\n",
       "      <td>0</td>\n",
       "    </tr>\n",
       "    <tr>\n",
       "      <th>4</th>\n",
       "      <td>200104</td>\n",
       "      <td>28</td>\n",
       "      <td>89</td>\n",
       "      <td>89</td>\n",
       "      <td>Tottenham Hotspur</td>\n",
       "      <td>104000000.0</td>\n",
       "      <td>240000.0</td>\n",
       "      <td>2141</td>\n",
       "      <td>0</td>\n",
       "    </tr>\n",
       "    <tr>\n",
       "      <th>...</th>\n",
       "      <td>...</td>\n",
       "      <td>...</td>\n",
       "      <td>...</td>\n",
       "      <td>...</td>\n",
       "      <td>...</td>\n",
       "      <td>...</td>\n",
       "      <td>...</td>\n",
       "      <td>...</td>\n",
       "      <td>...</td>\n",
       "    </tr>\n",
       "    <tr>\n",
       "      <th>19820</th>\n",
       "      <td>245534</td>\n",
       "      <td>18</td>\n",
       "      <td>52</td>\n",
       "      <td>64</td>\n",
       "      <td>Tranmere Rovers</td>\n",
       "      <td>80000.0</td>\n",
       "      <td>500.0</td>\n",
       "      <td>1506</td>\n",
       "      <td>0</td>\n",
       "    </tr>\n",
       "    <tr>\n",
       "      <th>19821</th>\n",
       "      <td>245535</td>\n",
       "      <td>26</td>\n",
       "      <td>71</td>\n",
       "      <td>74</td>\n",
       "      <td>Yukatel Kayserispor</td>\n",
       "      <td>2200000.0</td>\n",
       "      <td>15000.0</td>\n",
       "      <td>2008</td>\n",
       "      <td>0</td>\n",
       "    </tr>\n",
       "    <tr>\n",
       "      <th>19822</th>\n",
       "      <td>245536</td>\n",
       "      <td>19</td>\n",
       "      <td>57</td>\n",
       "      <td>70</td>\n",
       "      <td>Frosinone</td>\n",
       "      <td>200000.0</td>\n",
       "      <td>2000.0</td>\n",
       "      <td>1385</td>\n",
       "      <td>0</td>\n",
       "    </tr>\n",
       "    <tr>\n",
       "      <th>19823</th>\n",
       "      <td>245540</td>\n",
       "      <td>23</td>\n",
       "      <td>69</td>\n",
       "      <td>74</td>\n",
       "      <td>AEK Athens</td>\n",
       "      <td>1900000.0</td>\n",
       "      <td>500.0</td>\n",
       "      <td>1589</td>\n",
       "      <td>0</td>\n",
       "    </tr>\n",
       "    <tr>\n",
       "      <th>19824</th>\n",
       "      <td>259356</td>\n",
       "      <td>17</td>\n",
       "      <td>64</td>\n",
       "      <td>87</td>\n",
       "      <td>Aston Villa</td>\n",
       "      <td>1800000.0</td>\n",
       "      <td>2000.0</td>\n",
       "      <td>1630</td>\n",
       "      <td>0</td>\n",
       "    </tr>\n",
       "  </tbody>\n",
       "</table>\n",
       "<p>19825 rows × 9 columns</p>\n",
       "</div>"
      ],
      "text/plain": [
       "           ID  Age  Overall  Potential                 Club        Value  \\\n",
       "0      236988   22       72         79              Arsenal    4800000.0   \n",
       "1      225863   23       77         82                  PSV   14500000.0   \n",
       "2      241721   22       82         90             AC Milan   68500000.0   \n",
       "3      224371   24       79         82      West Ham United   24000000.0   \n",
       "4      200104   28       89         89    Tottenham Hotspur  104000000.0   \n",
       "...       ...  ...      ...        ...                  ...          ...   \n",
       "19820  245534   18       52         64      Tranmere Rovers      80000.0   \n",
       "19821  245535   26       71         74  Yukatel Kayserispor    2200000.0   \n",
       "19822  245536   19       57         70            Frosinone     200000.0   \n",
       "19823  245540   23       69         74           AEK Athens    1900000.0   \n",
       "19824  259356   17       64         87          Aston Villa    1800000.0   \n",
       "\n",
       "           Wage  Total stat  is_spanish  \n",
       "0       45000.0        1698           0  \n",
       "1       15000.0        1961           0  \n",
       "2       52000.0        1959           0  \n",
       "3       63000.0        1966           0  \n",
       "4      240000.0        2141           0  \n",
       "...         ...         ...         ...  \n",
       "19820     500.0        1506           0  \n",
       "19821   15000.0        2008           0  \n",
       "19822    2000.0        1385           0  \n",
       "19823     500.0        1589           0  \n",
       "19824    2000.0        1630           0  \n",
       "\n",
       "[19825 rows x 9 columns]"
      ]
     },
     "execution_count": 7,
     "metadata": {},
     "output_type": "execute_result"
    }
   ],
   "source": [
    "def clean_data_money(df):\n",
    "    temp_data = df.str.replace('[M, K, €]', '').astype(float)\n",
    "    for values, indx in zip(df, df.index):\n",
    "        if values[-1] == 'M':\n",
    "            temp_data[indx] = temp_data[indx] * 1000000\n",
    "        elif values[-1] == 'K':\n",
    "            temp_data[indx] = temp_data[indx] * 1000\n",
    "        else:\n",
    "            pass\n",
    "    return temp_data\n",
    "df['Value'] = clean_data_money(df['Value'])\n",
    "df['Wage'] = clean_data_money(df['Wage'])\n",
    "df"
   ]
  },
  {
   "cell_type": "code",
   "execution_count": 8,
   "id": "d31546a3",
   "metadata": {},
   "outputs": [],
   "source": [
    "X = df.drop('is_spanish', axis=1)\n",
    "y = df['is_spanish']"
   ]
  },
  {
   "cell_type": "code",
   "execution_count": 9,
   "id": "a2970a0e",
   "metadata": {},
   "outputs": [
    {
     "data": {
      "text/plain": [
       "<19825x940 sparse matrix of type '<class 'numpy.float64'>'\n",
       "\twith 157896 stored elements in Compressed Sparse Row format>"
      ]
     },
     "execution_count": 9,
     "metadata": {},
     "output_type": "execute_result"
    }
   ],
   "source": [
    "from sklearn.preprocessing import OneHotEncoder\n",
    "from sklearn.compose import ColumnTransformer\n",
    "\n",
    "categorical_features = ['Club'] # columnas que queremos transformar en nums\n",
    "one_hot = OneHotEncoder()\n",
    "transformer = ColumnTransformer([('one_hot',\n",
    "                                  one_hot,\n",
    "                                  categorical_features)], # aqui le pasamos la columnas\n",
    "                                  remainder='passthrough') # esto es para no alterar el resto de columnas\n",
    "transformed_X = transformer.fit_transform(X)\n",
    "transformed_X"
   ]
  },
  {
   "cell_type": "code",
   "execution_count": 10,
   "id": "5d6b150f",
   "metadata": {},
   "outputs": [
    {
     "data": {
      "text/html": [
       "<style>#sk-container-id-1 {color: black;background-color: white;}#sk-container-id-1 pre{padding: 0;}#sk-container-id-1 div.sk-toggleable {background-color: white;}#sk-container-id-1 label.sk-toggleable__label {cursor: pointer;display: block;width: 100%;margin-bottom: 0;padding: 0.3em;box-sizing: border-box;text-align: center;}#sk-container-id-1 label.sk-toggleable__label-arrow:before {content: \"▸\";float: left;margin-right: 0.25em;color: #696969;}#sk-container-id-1 label.sk-toggleable__label-arrow:hover:before {color: black;}#sk-container-id-1 div.sk-estimator:hover label.sk-toggleable__label-arrow:before {color: black;}#sk-container-id-1 div.sk-toggleable__content {max-height: 0;max-width: 0;overflow: hidden;text-align: left;background-color: #f0f8ff;}#sk-container-id-1 div.sk-toggleable__content pre {margin: 0.2em;color: black;border-radius: 0.25em;background-color: #f0f8ff;}#sk-container-id-1 input.sk-toggleable__control:checked~div.sk-toggleable__content {max-height: 200px;max-width: 100%;overflow: auto;}#sk-container-id-1 input.sk-toggleable__control:checked~label.sk-toggleable__label-arrow:before {content: \"▾\";}#sk-container-id-1 div.sk-estimator input.sk-toggleable__control:checked~label.sk-toggleable__label {background-color: #d4ebff;}#sk-container-id-1 div.sk-label input.sk-toggleable__control:checked~label.sk-toggleable__label {background-color: #d4ebff;}#sk-container-id-1 input.sk-hidden--visually {border: 0;clip: rect(1px 1px 1px 1px);clip: rect(1px, 1px, 1px, 1px);height: 1px;margin: -1px;overflow: hidden;padding: 0;position: absolute;width: 1px;}#sk-container-id-1 div.sk-estimator {font-family: monospace;background-color: #f0f8ff;border: 1px dotted black;border-radius: 0.25em;box-sizing: border-box;margin-bottom: 0.5em;}#sk-container-id-1 div.sk-estimator:hover {background-color: #d4ebff;}#sk-container-id-1 div.sk-parallel-item::after {content: \"\";width: 100%;border-bottom: 1px solid gray;flex-grow: 1;}#sk-container-id-1 div.sk-label:hover label.sk-toggleable__label {background-color: #d4ebff;}#sk-container-id-1 div.sk-serial::before {content: \"\";position: absolute;border-left: 1px solid gray;box-sizing: border-box;top: 0;bottom: 0;left: 50%;z-index: 0;}#sk-container-id-1 div.sk-serial {display: flex;flex-direction: column;align-items: center;background-color: white;padding-right: 0.2em;padding-left: 0.2em;position: relative;}#sk-container-id-1 div.sk-item {position: relative;z-index: 1;}#sk-container-id-1 div.sk-parallel {display: flex;align-items: stretch;justify-content: center;background-color: white;position: relative;}#sk-container-id-1 div.sk-item::before, #sk-container-id-1 div.sk-parallel-item::before {content: \"\";position: absolute;border-left: 1px solid gray;box-sizing: border-box;top: 0;bottom: 0;left: 50%;z-index: -1;}#sk-container-id-1 div.sk-parallel-item {display: flex;flex-direction: column;z-index: 1;position: relative;background-color: white;}#sk-container-id-1 div.sk-parallel-item:first-child::after {align-self: flex-end;width: 50%;}#sk-container-id-1 div.sk-parallel-item:last-child::after {align-self: flex-start;width: 50%;}#sk-container-id-1 div.sk-parallel-item:only-child::after {width: 0;}#sk-container-id-1 div.sk-dashed-wrapped {border: 1px dashed gray;margin: 0 0.4em 0.5em 0.4em;box-sizing: border-box;padding-bottom: 0.4em;background-color: white;}#sk-container-id-1 div.sk-label label {font-family: monospace;font-weight: bold;display: inline-block;line-height: 1.2em;}#sk-container-id-1 div.sk-label-container {text-align: center;}#sk-container-id-1 div.sk-container {/* jupyter's `normalize.less` sets `[hidden] { display: none; }` but bootstrap.min.css set `[hidden] { display: none !important; }` so we also need the `!important` here to be able to override the default hidden behavior on the sphinx rendered scikit-learn.org. See: https://github.com/scikit-learn/scikit-learn/issues/21755 */display: inline-block !important;position: relative;}#sk-container-id-1 div.sk-text-repr-fallback {display: none;}</style><div id=\"sk-container-id-1\" class=\"sk-top-container\"><div class=\"sk-text-repr-fallback\"><pre>RandomForestClassifier()</pre><b>In a Jupyter environment, please rerun this cell to show the HTML representation or trust the notebook. <br />On GitHub, the HTML representation is unable to render, please try loading this page with nbviewer.org.</b></div><div class=\"sk-container\" hidden><div class=\"sk-item\"><div class=\"sk-estimator sk-toggleable\"><input class=\"sk-toggleable__control sk-hidden--visually\" id=\"sk-estimator-id-1\" type=\"checkbox\" checked><label for=\"sk-estimator-id-1\" class=\"sk-toggleable__label sk-toggleable__label-arrow\">RandomForestClassifier</label><div class=\"sk-toggleable__content\"><pre>RandomForestClassifier()</pre></div></div></div></div></div>"
      ],
      "text/plain": [
       "RandomForestClassifier()"
      ]
     },
     "execution_count": 10,
     "metadata": {},
     "output_type": "execute_result"
    }
   ],
   "source": [
    "from sklearn.model_selection import train_test_split\n",
    "from sklearn.ensemble import RandomForestClassifier\n",
    "\n",
    "X_train, X_test, y_train, y_test = train_test_split(transformed_X, y, test_size=0.2)\n",
    "\n",
    "model = RandomForestClassifier()\n",
    "model.fit(X_train, y_train)"
   ]
  },
  {
   "cell_type": "code",
   "execution_count": 32,
   "id": "ac585ed0",
   "metadata": {},
   "outputs": [
    {
     "data": {
      "text/plain": [
       "0.9621689785624212"
      ]
     },
     "execution_count": 32,
     "metadata": {},
     "output_type": "execute_result"
    }
   ],
   "source": [
    "model.score(X_test, y_test)"
   ]
  },
  {
   "cell_type": "code",
   "execution_count": 14,
   "id": "f691a7d0",
   "metadata": {},
   "outputs": [
    {
     "data": {
      "text/plain": [
       "array([0, 0, 0, ..., 0, 0, 0])"
      ]
     },
     "execution_count": 14,
     "metadata": {},
     "output_type": "execute_result"
    }
   ],
   "source": [
    "y_pred = model.predict(X_test)\n",
    "y_pred"
   ]
  },
  {
   "cell_type": "code",
   "execution_count": 29,
   "id": "9d460ff8",
   "metadata": {},
   "outputs": [
    {
     "name": "stdout",
     "output_type": "stream",
     "text": [
      "dict_keys(['fit_time', 'score_time', 'test_accuracy', 'train_accuracy', 'test_preccision', 'train_preccision', 'test_recall', 'train_recall'])\n"
     ]
    }
   ],
   "source": [
    "from sklearn.model_selection import cross_validate\n",
    "\n",
    "scoring = {'accuracy': 'accuracy',\n",
    "           'preccision': 'precision_macro',\n",
    "           'recall': 'recall_macro'}\n",
    "scores = cross_validate(model, transformed_X, y, scoring=scoring,\n",
    "                         cv=5, return_train_score=True)\n",
    "print(scores.keys())"
   ]
  },
  {
   "cell_type": "code",
   "execution_count": 30,
   "id": "aee94db0",
   "metadata": {},
   "outputs": [
    {
     "data": {
      "text/plain": [
       "{'fit_time': array([2.64368153, 3.78132629, 3.05836821, 3.11964726, 3.50521183]),\n",
       " 'score_time': array([0.09737039, 0.09014082, 0.07026315, 0.07644105, 0.07566381]),\n",
       " 'test_accuracy': array([0.93215637, 0.96343001, 0.95889029, 0.96469105, 0.95889029]),\n",
       " 'train_accuracy': array([1.        , 1.        , 0.99993695, 1.        , 1.        ]),\n",
       " 'test_preccision': array([0.69505472, 0.84731563, 0.88171206, 0.88878859, 0.89694924]),\n",
       " 'train_preccision': array([1.        , 1.        , 0.99996654, 1.        , 1.        ]),\n",
       " 'test_recall': array([0.71805015, 0.79408306, 0.68919541, 0.75171119, 0.68033293]),\n",
       " 'train_recall': array([1.        , 1.        , 0.99945474, 1.        , 1.        ])}"
      ]
     },
     "execution_count": 30,
     "metadata": {},
     "output_type": "execute_result"
    }
   ],
   "source": [
    "scores"
   ]
  },
  {
   "cell_type": "code",
   "execution_count": 31,
   "id": "4f27a580",
   "metadata": {},
   "outputs": [
    {
     "name": "stdout",
     "output_type": "stream",
     "text": [
      "fit_time --> 3.221647024154663\n",
      "score_time --> 0.08197584152221679\n",
      "test_accuracy --> 0.9556116015132409\n",
      "train_accuracy --> 0.9999873896595208\n",
      "test_preccision --> 0.8419640485847179\n",
      "train_preccision --> 0.9999933083511777\n",
      "test_recall --> 0.7266745492369233\n",
      "train_recall --> 0.9998909487459106\n"
     ]
    }
   ],
   "source": [
    "for key, values in scores.items():\n",
    "    print(f'{key} --> {values.mean()}')"
   ]
  },
  {
   "cell_type": "code",
   "execution_count": 44,
   "id": "0072a707",
   "metadata": {},
   "outputs": [
    {
     "name": "stdout",
     "output_type": "stream",
     "text": [
      "              precision    recall  f1-score   support\n",
      "\n",
      "           0       0.97      0.99      0.98      3722\n",
      "           1       0.75      0.58      0.65       243\n",
      "\n",
      "    accuracy                           0.96      3965\n",
      "   macro avg       0.86      0.78      0.82      3965\n",
      "weighted avg       0.96      0.96      0.96      3965\n",
      "\n"
     ]
    }
   ],
   "source": [
    "from sklearn.metrics import classification_report\n",
    "\n",
    "print(classification_report(y_test, y_pred))\n",
    "# Forma simple de hacer lo de arriba, pero solo usa una simulacion ya hecha de nuestro modelo (y_pred)\n",
    "# las de arriba puedes poner las veces que se genere el modelo (va cambiando de data cada vez),\n",
    "# por lo que es mas precisa la forma de arriba"
   ]
  },
  {
   "cell_type": "code",
   "execution_count": 33,
   "id": "7e104e5f",
   "metadata": {},
   "outputs": [
    {
     "data": {
      "text/plain": [
       "array([[3674,   48],\n",
       "       [ 102,  141]])"
      ]
     },
     "execution_count": 33,
     "metadata": {},
     "output_type": "execute_result"
    }
   ],
   "source": [
    "from sklearn.metrics import confusion_matrix\n",
    "\n",
    "y_preds = model.predict(X_test)\n",
    "confusion_matrix(y_test, y_pred)"
   ]
  },
  {
   "cell_type": "code",
   "execution_count": 39,
   "id": "d0d4af7f",
   "metadata": {
    "scrolled": false
   },
   "outputs": [
    {
     "data": {
      "text/html": [
       "<div>\n",
       "<style scoped>\n",
       "    .dataframe tbody tr th:only-of-type {\n",
       "        vertical-align: middle;\n",
       "    }\n",
       "\n",
       "    .dataframe tbody tr th {\n",
       "        vertical-align: top;\n",
       "    }\n",
       "\n",
       "    .dataframe thead th {\n",
       "        text-align: right;\n",
       "    }\n",
       "</style>\n",
       "<table border=\"1\" class=\"dataframe\">\n",
       "  <thead>\n",
       "    <tr style=\"text-align: right;\">\n",
       "      <th>Predict</th>\n",
       "      <th>0</th>\n",
       "      <th>1</th>\n",
       "    </tr>\n",
       "    <tr>\n",
       "      <th>Test</th>\n",
       "      <th></th>\n",
       "      <th></th>\n",
       "    </tr>\n",
       "  </thead>\n",
       "  <tbody>\n",
       "    <tr>\n",
       "      <th>0</th>\n",
       "      <td>3674</td>\n",
       "      <td>48</td>\n",
       "    </tr>\n",
       "    <tr>\n",
       "      <th>1</th>\n",
       "      <td>102</td>\n",
       "      <td>141</td>\n",
       "    </tr>\n",
       "  </tbody>\n",
       "</table>\n",
       "</div>"
      ],
      "text/plain": [
       "Predict     0    1\n",
       "Test              \n",
       "0        3674   48\n",
       "1         102  141"
      ]
     },
     "execution_count": 39,
     "metadata": {},
     "output_type": "execute_result"
    }
   ],
   "source": [
    "pd.crosstab(y_test,\n",
    "           y_pred,\n",
    "           rownames=['Test'],\n",
    "           colnames=['Predict'])"
   ]
  },
  {
   "attachments": {
    "1664884847389.jpeg": {
     "image/jpeg": "[encoded data removed]"
    }
   },
   "cell_type": "markdown",
   "id": "ecf4905d",
   "metadata": {},
   "source": [
    "<div>\n",
    "<img src=\"attachment:1664884847389.jpeg\" width=\"700\"/>\n",
    "</div>"
   ]
  },
  {
   "cell_type": "code",
   "execution_count": 38,
   "id": "deddb10b",
   "metadata": {
    "scrolled": true
   },
   "outputs": [
    {
     "data": {
      "text/plain": [
       "<sklearn.metrics._plot.confusion_matrix.ConfusionMatrixDisplay at 0x7fb80eb8c280>"
      ]
     },
     "execution_count": 38,
     "metadata": {},
     "output_type": "execute_result"
    },
    {
     "data": {
      "image/png": "[encoded data removed]",
      "text/plain": [
       "<Figure size 640x480 with 2 Axes>"
      ]
     },
     "metadata": {},
     "output_type": "display_data"
    }
   ],
   "source": [
    "from sklearn.metrics import ConfusionMatrixDisplay\n",
    "\n",
    "ConfusionMatrixDisplay.from_estimator(estimator=model, X=transformed_X, y=y)\n",
    "# Confusion matrix (tiene mas data que y_pred, ya que se le vuelve a pasar toda la data (X, y) \n",
    "# y hace la medicion sobre todo, por eso es from_estimator) "
   ]
  },
  {
   "cell_type": "code",
   "execution_count": 42,
   "id": "10218110",
   "metadata": {},
   "outputs": [
    {
     "data": {
      "text/plain": [
       "<sklearn.metrics._plot.confusion_matrix.ConfusionMatrixDisplay at 0x7fb811051e70>"
      ]
     },
     "execution_count": 42,
     "metadata": {},
     "output_type": "execute_result"
    },
    {
     "data": {
      "image/png": "[encoded data removed]",
      "text/plain": [
       "<Figure size 640x480 with 2 Axes>"
      ]
     },
     "metadata": {},
     "output_type": "display_data"
    }
   ],
   "source": [
    "ConfusionMatrixDisplay.from_predictions(y_true=y_test, y_pred=y_pred)\n",
    "# Esta Confusion Matrix estaria hecha sobre el test y la prediccion"
   ]
  },
  {
   "attachments": {
    "13244_2018_639_Fig8_HTML.png": {
     "image/png": "[encoded data removed]"
    }
   },
   "cell_type": "markdown",
   "id": "a16e0a1a",
   "metadata": {},
   "source": [
    "<div>\n",
    "<img src=\"attachment:13244_2018_639_Fig8_HTML.png\" width=\"600\"/>\n",
    "</div>"
   ]
  },
  {
   "cell_type": "code",
   "execution_count": 14,
   "id": "79cd420d",
   "metadata": {},
   "outputs": [],
   "source": [
    "X = transformed_X"
   ]
  },
  {
   "cell_type": "code",
   "execution_count": 42,
   "id": "1ee5bcc1",
   "metadata": {},
   "outputs": [],
   "source": [
    "from sklearn.metrics import accuracy_score, precision_score, recall_score, f1_score\n",
    "\n",
    "def evaluate_preds(y_true, y_pred):\n",
    "    accuracy = accuracy_score(y_true, y_pred)\n",
    "    precision = precision_score(y_true, y_pred)\n",
    "    recall = recall_score(y_true, y_pred)\n",
    "    f1 = f1_score(y_true, y_pred)\n",
    "    metric_dict = {'accuracy': round(accuracy, 2),\n",
    "                  'precision': round(precision, 2),\n",
    "                  'recall': round(recall, 2),\n",
    "                  'f1': round(f1, 2)}\n",
    "    print(f'Acc: {accuracy * 100:.2f}%')\n",
    "    print(f'Precision: {precision:.2f}')\n",
    "    print(f'Recall: {recall:.2f}')\n",
    "    print(f'F1: {f1:.2f}')\n",
    "    return metric_dict"
   ]
  },
  {
   "cell_type": "code",
   "execution_count": 43,
   "id": "09e48e6a",
   "metadata": {},
   "outputs": [
    {
     "name": "stdout",
     "output_type": "stream",
     "text": [
      "Acc: 96.60%\n",
      "Precision: 0.73\n",
      "Recall: 0.59\n",
      "F1: 0.65\n"
     ]
    }
   ],
   "source": [
    "from sklearn.model_selection import train_test_split\n",
    "from sklearn.ensemble import RandomForestClassifier\n",
    "\n",
    "np.random.seed(42)\n",
    "\n",
    "# Primero -> Split en 70% data y 30% test_size\n",
    "X_train, X_val_test, y_train, y_val_test = train_test_split(X, y, test_size=0.3)\n",
    "# Segundo -> Split del 30%(X_val_test, y_val_test) en dos partes de 15% para val y test\n",
    "X_val, X_test, y_val, y_test = train_test_split(X_val_test, y_val_test, test_size=0.5)\n",
    "\n",
    "# Aqui vemos la division 100% data (df), 70%(X_train), 30%(15% X_val y 15% X_test)\n",
    "df.shape[0], X_train.shape[0], X_val.shape[0], X_test.shape[0]\n",
    "\n",
    "clf = RandomForestClassifier()\n",
    "clf.fit(X_train, y_train)\n",
    "\n",
    "# Predict en la validation data\n",
    "y_pred = clf.predict(X_val)\n",
    "# Evaluar el model en la validation data\n",
    "valid_data = evaluate_preds(y_val, y_pred)"
   ]
  },
  {
   "cell_type": "code",
   "execution_count": 44,
   "id": "8352c624",
   "metadata": {},
   "outputs": [
    {
     "data": {
      "text/plain": [
       "{'bootstrap': True,\n",
       " 'ccp_alpha': 0.0,\n",
       " 'class_weight': None,\n",
       " 'criterion': 'gini',\n",
       " 'max_depth': None,\n",
       " 'max_features': 'sqrt',\n",
       " 'max_leaf_nodes': None,\n",
       " 'max_samples': None,\n",
       " 'min_impurity_decrease': 0.0,\n",
       " 'min_samples_leaf': 1,\n",
       " 'min_samples_split': 2,\n",
       " 'min_weight_fraction_leaf': 0.0,\n",
       " 'n_estimators': 100,\n",
       " 'n_jobs': None,\n",
       " 'oob_score': False,\n",
       " 'random_state': None,\n",
       " 'verbose': 0,\n",
       " 'warm_start': False}"
      ]
     },
     "execution_count": 44,
     "metadata": {},
     "output_type": "execute_result"
    }
   ],
   "source": [
    "clf.get_params()"
   ]
  },
  {
   "cell_type": "code",
   "execution_count": 85,
   "id": "74cc9105",
   "metadata": {},
   "outputs": [
    {
     "name": "stdout",
     "output_type": "stream",
     "text": [
      "Acc: 96.74%\n",
      "Precision: 0.72\n",
      "Recall: 0.66\n",
      "F1: 0.69\n"
     ]
    }
   ],
   "source": [
    "np.random.seed(42)\n",
    "\n",
    "clf_2 = RandomForestClassifier(max_features=100)\n",
    "clf_2.fit(X_train, y_train)\n",
    "y_pred_2 = clf_2.predict(X_val)\n",
    "valid_data_2 = evaluate_preds(y_val, y_pred_2)"
   ]
  },
  {
   "attachments": {
    "5-fold-cv.jpeg": {
     "image/jpeg": "[encoded data removed]"
    }
   },
   "cell_type": "markdown",
   "id": "34d768c1",
   "metadata": {},
   "source": [
    "<div>\n",
    "    <img src=\"attachment:5-fold-cv.jpeg\" width=\"600\"/>\n",
    "</div>"
   ]
  },
  {
   "cell_type": "code",
   "execution_count": 96,
   "id": "666ca740",
   "metadata": {},
   "outputs": [
    {
     "name": "stdout",
     "output_type": "stream",
     "text": [
      "Fitting 5 folds for each of 10 candidates, totalling 50 fits\n",
      "[CV] END max_depth=5, max_features=sqrt, min_samples_leaf=2, min_samples_split=4, n_estimators=10; total time=   0.0s\n",
      "[CV] END max_depth=5, max_features=sqrt, min_samples_leaf=2, min_samples_split=4, n_estimators=10; total time=   0.0s\n",
      "[CV] END max_depth=5, max_features=sqrt, min_samples_leaf=2, min_samples_split=4, n_estimators=10; total time=   0.0s\n",
      "[CV] END max_depth=5, max_features=sqrt, min_samples_leaf=2, min_samples_split=4, n_estimators=10; total time=   0.0s\n",
      "[CV] END max_depth=5, max_features=sqrt, min_samples_leaf=2, min_samples_split=4, n_estimators=10; total time=   0.0s\n"
     ]
    },
    {
     "name": "stderr",
     "output_type": "stream",
     "text": [
      "/home/manu/miniconda3/envs/data-science/lib/python3.10/site-packages/sklearn/ensemble/_forest.py:427: FutureWarning: `max_features='auto'` has been deprecated in 1.1 and will be removed in 1.3. To keep the past behaviour, explicitly set `max_features='sqrt'` or remove this parameter as it is also the default value for RandomForestClassifiers and ExtraTreesClassifiers.\n",
      "  warn(\n"
     ]
    },
    {
     "name": "stdout",
     "output_type": "stream",
     "text": [
      "[CV] END max_depth=10, max_features=auto, min_samples_leaf=1, min_samples_split=6, n_estimators=200; total time=   0.9s\n"
     ]
    },
    {
     "name": "stderr",
     "output_type": "stream",
     "text": [
      "/home/manu/miniconda3/envs/data-science/lib/python3.10/site-packages/sklearn/ensemble/_forest.py:427: FutureWarning: `max_features='auto'` has been deprecated in 1.1 and will be removed in 1.3. To keep the past behaviour, explicitly set `max_features='sqrt'` or remove this parameter as it is also the default value for RandomForestClassifiers and ExtraTreesClassifiers.\n",
      "  warn(\n"
     ]
    },
    {
     "name": "stdout",
     "output_type": "stream",
     "text": [
      "[CV] END max_depth=10, max_features=auto, min_samples_leaf=1, min_samples_split=6, n_estimators=200; total time=   0.9s\n"
     ]
    },
    {
     "name": "stderr",
     "output_type": "stream",
     "text": [
      "/home/manu/miniconda3/envs/data-science/lib/python3.10/site-packages/sklearn/ensemble/_forest.py:427: FutureWarning: `max_features='auto'` has been deprecated in 1.1 and will be removed in 1.3. To keep the past behaviour, explicitly set `max_features='sqrt'` or remove this parameter as it is also the default value for RandomForestClassifiers and ExtraTreesClassifiers.\n",
      "  warn(\n"
     ]
    },
    {
     "name": "stdout",
     "output_type": "stream",
     "text": [
      "[CV] END max_depth=10, max_features=auto, min_samples_leaf=1, min_samples_split=6, n_estimators=200; total time=   1.0s\n"
     ]
    },
    {
     "name": "stderr",
     "output_type": "stream",
     "text": [
      "/home/manu/miniconda3/envs/data-science/lib/python3.10/site-packages/sklearn/ensemble/_forest.py:427: FutureWarning: `max_features='auto'` has been deprecated in 1.1 and will be removed in 1.3. To keep the past behaviour, explicitly set `max_features='sqrt'` or remove this parameter as it is also the default value for RandomForestClassifiers and ExtraTreesClassifiers.\n",
      "  warn(\n"
     ]
    },
    {
     "name": "stdout",
     "output_type": "stream",
     "text": [
      "[CV] END max_depth=10, max_features=auto, min_samples_leaf=1, min_samples_split=6, n_estimators=200; total time=   0.8s\n"
     ]
    },
    {
     "name": "stderr",
     "output_type": "stream",
     "text": [
      "/home/manu/miniconda3/envs/data-science/lib/python3.10/site-packages/sklearn/ensemble/_forest.py:427: FutureWarning: `max_features='auto'` has been deprecated in 1.1 and will be removed in 1.3. To keep the past behaviour, explicitly set `max_features='sqrt'` or remove this parameter as it is also the default value for RandomForestClassifiers and ExtraTreesClassifiers.\n",
      "  warn(\n"
     ]
    },
    {
     "name": "stdout",
     "output_type": "stream",
     "text": [
      "[CV] END max_depth=10, max_features=auto, min_samples_leaf=1, min_samples_split=6, n_estimators=200; total time=   1.0s\n"
     ]
    },
    {
     "name": "stderr",
     "output_type": "stream",
     "text": [
      "/home/manu/miniconda3/envs/data-science/lib/python3.10/site-packages/sklearn/ensemble/_forest.py:427: FutureWarning: `max_features='auto'` has been deprecated in 1.1 and will be removed in 1.3. To keep the past behaviour, explicitly set `max_features='sqrt'` or remove this parameter as it is also the default value for RandomForestClassifiers and ExtraTreesClassifiers.\n",
      "  warn(\n"
     ]
    },
    {
     "name": "stdout",
     "output_type": "stream",
     "text": [
      "[CV] END max_depth=30, max_features=auto, min_samples_leaf=1, min_samples_split=4, n_estimators=1200; total time=  11.9s\n"
     ]
    },
    {
     "name": "stderr",
     "output_type": "stream",
     "text": [
      "/home/manu/miniconda3/envs/data-science/lib/python3.10/site-packages/sklearn/ensemble/_forest.py:427: FutureWarning: `max_features='auto'` has been deprecated in 1.1 and will be removed in 1.3. To keep the past behaviour, explicitly set `max_features='sqrt'` or remove this parameter as it is also the default value for RandomForestClassifiers and ExtraTreesClassifiers.\n",
      "  warn(\n"
     ]
    },
    {
     "name": "stdout",
     "output_type": "stream",
     "text": [
      "[CV] END max_depth=30, max_features=auto, min_samples_leaf=1, min_samples_split=4, n_estimators=1200; total time=  12.5s\n"
     ]
    },
    {
     "name": "stderr",
     "output_type": "stream",
     "text": [
      "/home/manu/miniconda3/envs/data-science/lib/python3.10/site-packages/sklearn/ensemble/_forest.py:427: FutureWarning: `max_features='auto'` has been deprecated in 1.1 and will be removed in 1.3. To keep the past behaviour, explicitly set `max_features='sqrt'` or remove this parameter as it is also the default value for RandomForestClassifiers and ExtraTreesClassifiers.\n",
      "  warn(\n"
     ]
    },
    {
     "name": "stdout",
     "output_type": "stream",
     "text": [
      "[CV] END max_depth=30, max_features=auto, min_samples_leaf=1, min_samples_split=4, n_estimators=1200; total time=  14.0s\n"
     ]
    },
    {
     "name": "stderr",
     "output_type": "stream",
     "text": [
      "/home/manu/miniconda3/envs/data-science/lib/python3.10/site-packages/sklearn/ensemble/_forest.py:427: FutureWarning: `max_features='auto'` has been deprecated in 1.1 and will be removed in 1.3. To keep the past behaviour, explicitly set `max_features='sqrt'` or remove this parameter as it is also the default value for RandomForestClassifiers and ExtraTreesClassifiers.\n",
      "  warn(\n"
     ]
    },
    {
     "name": "stdout",
     "output_type": "stream",
     "text": [
      "[CV] END max_depth=30, max_features=auto, min_samples_leaf=1, min_samples_split=4, n_estimators=1200; total time=  12.1s\n"
     ]
    },
    {
     "name": "stderr",
     "output_type": "stream",
     "text": [
      "/home/manu/miniconda3/envs/data-science/lib/python3.10/site-packages/sklearn/ensemble/_forest.py:427: FutureWarning: `max_features='auto'` has been deprecated in 1.1 and will be removed in 1.3. To keep the past behaviour, explicitly set `max_features='sqrt'` or remove this parameter as it is also the default value for RandomForestClassifiers and ExtraTreesClassifiers.\n",
      "  warn(\n"
     ]
    },
    {
     "name": "stdout",
     "output_type": "stream",
     "text": [
      "[CV] END max_depth=30, max_features=auto, min_samples_leaf=1, min_samples_split=4, n_estimators=1200; total time=  14.2s\n",
      "[CV] END max_depth=None, max_features=sqrt, min_samples_leaf=4, min_samples_split=4, n_estimators=500; total time=   6.6s\n",
      "[CV] END max_depth=None, max_features=sqrt, min_samples_leaf=4, min_samples_split=4, n_estimators=500; total time=   6.8s\n",
      "[CV] END max_depth=None, max_features=sqrt, min_samples_leaf=4, min_samples_split=4, n_estimators=500; total time=   6.8s\n",
      "[CV] END max_depth=None, max_features=sqrt, min_samples_leaf=4, min_samples_split=4, n_estimators=500; total time=   6.0s\n",
      "[CV] END max_depth=None, max_features=sqrt, min_samples_leaf=4, min_samples_split=4, n_estimators=500; total time=   7.0s\n",
      "[CV] END max_depth=10, max_features=sqrt, min_samples_leaf=1, min_samples_split=2, n_estimators=10; total time=   0.0s\n",
      "[CV] END max_depth=10, max_features=sqrt, min_samples_leaf=1, min_samples_split=2, n_estimators=10; total time=   0.0s\n",
      "[CV] END max_depth=10, max_features=sqrt, min_samples_leaf=1, min_samples_split=2, n_estimators=10; total time=   0.1s\n",
      "[CV] END max_depth=10, max_features=sqrt, min_samples_leaf=1, min_samples_split=2, n_estimators=10; total time=   0.0s\n",
      "[CV] END max_depth=10, max_features=sqrt, min_samples_leaf=1, min_samples_split=2, n_estimators=10; total time=   0.1s\n",
      "[CV] END max_depth=None, max_features=sqrt, min_samples_leaf=1, min_samples_split=2, n_estimators=200; total time=   5.1s\n",
      "[CV] END max_depth=None, max_features=sqrt, min_samples_leaf=1, min_samples_split=2, n_estimators=200; total time=   5.1s\n",
      "[CV] END max_depth=None, max_features=sqrt, min_samples_leaf=1, min_samples_split=2, n_estimators=200; total time=   5.5s\n",
      "[CV] END max_depth=None, max_features=sqrt, min_samples_leaf=1, min_samples_split=2, n_estimators=200; total time=   4.9s\n",
      "[CV] END max_depth=None, max_features=sqrt, min_samples_leaf=1, min_samples_split=2, n_estimators=200; total time=   5.5s\n",
      "[CV] END max_depth=None, max_features=auto, min_samples_leaf=2, min_samples_split=4, n_estimators=10; total time=   0.2s\n"
     ]
    },
    {
     "name": "stderr",
     "output_type": "stream",
     "text": [
      "/home/manu/miniconda3/envs/data-science/lib/python3.10/site-packages/sklearn/ensemble/_forest.py:427: FutureWarning: `max_features='auto'` has been deprecated in 1.1 and will be removed in 1.3. To keep the past behaviour, explicitly set `max_features='sqrt'` or remove this parameter as it is also the default value for RandomForestClassifiers and ExtraTreesClassifiers.\n",
      "  warn(\n",
      "/home/manu/miniconda3/envs/data-science/lib/python3.10/site-packages/sklearn/ensemble/_forest.py:427: FutureWarning: `max_features='auto'` has been deprecated in 1.1 and will be removed in 1.3. To keep the past behaviour, explicitly set `max_features='sqrt'` or remove this parameter as it is also the default value for RandomForestClassifiers and ExtraTreesClassifiers.\n",
      "  warn(\n"
     ]
    },
    {
     "name": "stdout",
     "output_type": "stream",
     "text": [
      "[CV] END max_depth=None, max_features=auto, min_samples_leaf=2, min_samples_split=4, n_estimators=10; total time=   0.2s\n"
     ]
    },
    {
     "name": "stderr",
     "output_type": "stream",
     "text": [
      "/home/manu/miniconda3/envs/data-science/lib/python3.10/site-packages/sklearn/ensemble/_forest.py:427: FutureWarning: `max_features='auto'` has been deprecated in 1.1 and will be removed in 1.3. To keep the past behaviour, explicitly set `max_features='sqrt'` or remove this parameter as it is also the default value for RandomForestClassifiers and ExtraTreesClassifiers.\n",
      "  warn(\n"
     ]
    },
    {
     "name": "stdout",
     "output_type": "stream",
     "text": [
      "[CV] END max_depth=None, max_features=auto, min_samples_leaf=2, min_samples_split=4, n_estimators=10; total time=   0.2s\n",
      "[CV] END max_depth=None, max_features=auto, min_samples_leaf=2, min_samples_split=4, n_estimators=10; total time=   0.2s\n"
     ]
    },
    {
     "name": "stderr",
     "output_type": "stream",
     "text": [
      "/home/manu/miniconda3/envs/data-science/lib/python3.10/site-packages/sklearn/ensemble/_forest.py:427: FutureWarning: `max_features='auto'` has been deprecated in 1.1 and will be removed in 1.3. To keep the past behaviour, explicitly set `max_features='sqrt'` or remove this parameter as it is also the default value for RandomForestClassifiers and ExtraTreesClassifiers.\n",
      "  warn(\n",
      "/home/manu/miniconda3/envs/data-science/lib/python3.10/site-packages/sklearn/ensemble/_forest.py:427: FutureWarning: `max_features='auto'` has been deprecated in 1.1 and will be removed in 1.3. To keep the past behaviour, explicitly set `max_features='sqrt'` or remove this parameter as it is also the default value for RandomForestClassifiers and ExtraTreesClassifiers.\n",
      "  warn(\n"
     ]
    },
    {
     "name": "stdout",
     "output_type": "stream",
     "text": [
      "[CV] END max_depth=None, max_features=auto, min_samples_leaf=2, min_samples_split=4, n_estimators=10; total time=   0.2s\n",
      "[CV] END max_depth=20, max_features=sqrt, min_samples_leaf=1, min_samples_split=2, n_estimators=200; total time=   1.5s\n",
      "[CV] END max_depth=20, max_features=sqrt, min_samples_leaf=1, min_samples_split=2, n_estimators=200; total time=   1.5s\n",
      "[CV] END max_depth=20, max_features=sqrt, min_samples_leaf=1, min_samples_split=2, n_estimators=200; total time=   1.6s\n",
      "[CV] END max_depth=20, max_features=sqrt, min_samples_leaf=1, min_samples_split=2, n_estimators=200; total time=   1.4s\n",
      "[CV] END max_depth=20, max_features=sqrt, min_samples_leaf=1, min_samples_split=2, n_estimators=200; total time=   1.7s\n",
      "[CV] END max_depth=30, max_features=sqrt, min_samples_leaf=1, min_samples_split=6, n_estimators=1000; total time=   9.9s\n",
      "[CV] END max_depth=30, max_features=sqrt, min_samples_leaf=1, min_samples_split=6, n_estimators=1000; total time=  10.9s\n",
      "[CV] END max_depth=30, max_features=sqrt, min_samples_leaf=1, min_samples_split=6, n_estimators=1000; total time=  11.3s\n",
      "[CV] END max_depth=30, max_features=sqrt, min_samples_leaf=1, min_samples_split=6, n_estimators=1000; total time=   9.9s\n",
      "[CV] END max_depth=30, max_features=sqrt, min_samples_leaf=1, min_samples_split=6, n_estimators=1000; total time=  11.5s\n"
     ]
    },
    {
     "name": "stderr",
     "output_type": "stream",
     "text": [
      "/home/manu/miniconda3/envs/data-science/lib/python3.10/site-packages/sklearn/ensemble/_forest.py:427: FutureWarning: `max_features='auto'` has been deprecated in 1.1 and will be removed in 1.3. To keep the past behaviour, explicitly set `max_features='sqrt'` or remove this parameter as it is also the default value for RandomForestClassifiers and ExtraTreesClassifiers.\n",
      "  warn(\n"
     ]
    },
    {
     "name": "stdout",
     "output_type": "stream",
     "text": [
      "[CV] END max_depth=None, max_features=auto, min_samples_leaf=2, min_samples_split=4, n_estimators=200; total time=   4.0s\n"
     ]
    },
    {
     "name": "stderr",
     "output_type": "stream",
     "text": [
      "/home/manu/miniconda3/envs/data-science/lib/python3.10/site-packages/sklearn/ensemble/_forest.py:427: FutureWarning: `max_features='auto'` has been deprecated in 1.1 and will be removed in 1.3. To keep the past behaviour, explicitly set `max_features='sqrt'` or remove this parameter as it is also the default value for RandomForestClassifiers and ExtraTreesClassifiers.\n",
      "  warn(\n"
     ]
    },
    {
     "name": "stdout",
     "output_type": "stream",
     "text": [
      "[CV] END max_depth=None, max_features=auto, min_samples_leaf=2, min_samples_split=4, n_estimators=200; total time=   3.9s\n"
     ]
    },
    {
     "name": "stderr",
     "output_type": "stream",
     "text": [
      "/home/manu/miniconda3/envs/data-science/lib/python3.10/site-packages/sklearn/ensemble/_forest.py:427: FutureWarning: `max_features='auto'` has been deprecated in 1.1 and will be removed in 1.3. To keep the past behaviour, explicitly set `max_features='sqrt'` or remove this parameter as it is also the default value for RandomForestClassifiers and ExtraTreesClassifiers.\n",
      "  warn(\n"
     ]
    },
    {
     "name": "stdout",
     "output_type": "stream",
     "text": [
      "[CV] END max_depth=None, max_features=auto, min_samples_leaf=2, min_samples_split=4, n_estimators=200; total time=   3.9s\n"
     ]
    },
    {
     "name": "stderr",
     "output_type": "stream",
     "text": [
      "/home/manu/miniconda3/envs/data-science/lib/python3.10/site-packages/sklearn/ensemble/_forest.py:427: FutureWarning: `max_features='auto'` has been deprecated in 1.1 and will be removed in 1.3. To keep the past behaviour, explicitly set `max_features='sqrt'` or remove this parameter as it is also the default value for RandomForestClassifiers and ExtraTreesClassifiers.\n",
      "  warn(\n"
     ]
    },
    {
     "name": "stdout",
     "output_type": "stream",
     "text": [
      "[CV] END max_depth=None, max_features=auto, min_samples_leaf=2, min_samples_split=4, n_estimators=200; total time=   3.5s\n"
     ]
    },
    {
     "name": "stderr",
     "output_type": "stream",
     "text": [
      "/home/manu/miniconda3/envs/data-science/lib/python3.10/site-packages/sklearn/ensemble/_forest.py:427: FutureWarning: `max_features='auto'` has been deprecated in 1.1 and will be removed in 1.3. To keep the past behaviour, explicitly set `max_features='sqrt'` or remove this parameter as it is also the default value for RandomForestClassifiers and ExtraTreesClassifiers.\n",
      "  warn(\n"
     ]
    },
    {
     "name": "stdout",
     "output_type": "stream",
     "text": [
      "[CV] END max_depth=None, max_features=auto, min_samples_leaf=2, min_samples_split=4, n_estimators=200; total time=   3.9s\n"
     ]
    },
    {
     "data": {
      "text/html": [
       "<style>#sk-container-id-1 {color: black;background-color: white;}#sk-container-id-1 pre{padding: 0;}#sk-container-id-1 div.sk-toggleable {background-color: white;}#sk-container-id-1 label.sk-toggleable__label {cursor: pointer;display: block;width: 100%;margin-bottom: 0;padding: 0.3em;box-sizing: border-box;text-align: center;}#sk-container-id-1 label.sk-toggleable__label-arrow:before {content: \"▸\";float: left;margin-right: 0.25em;color: #696969;}#sk-container-id-1 label.sk-toggleable__label-arrow:hover:before {color: black;}#sk-container-id-1 div.sk-estimator:hover label.sk-toggleable__label-arrow:before {color: black;}#sk-container-id-1 div.sk-toggleable__content {max-height: 0;max-width: 0;overflow: hidden;text-align: left;background-color: #f0f8ff;}#sk-container-id-1 div.sk-toggleable__content pre {margin: 0.2em;color: black;border-radius: 0.25em;background-color: #f0f8ff;}#sk-container-id-1 input.sk-toggleable__control:checked~div.sk-toggleable__content {max-height: 200px;max-width: 100%;overflow: auto;}#sk-container-id-1 input.sk-toggleable__control:checked~label.sk-toggleable__label-arrow:before {content: \"▾\";}#sk-container-id-1 div.sk-estimator input.sk-toggleable__control:checked~label.sk-toggleable__label {background-color: #d4ebff;}#sk-container-id-1 div.sk-label input.sk-toggleable__control:checked~label.sk-toggleable__label {background-color: #d4ebff;}#sk-container-id-1 input.sk-hidden--visually {border: 0;clip: rect(1px 1px 1px 1px);clip: rect(1px, 1px, 1px, 1px);height: 1px;margin: -1px;overflow: hidden;padding: 0;position: absolute;width: 1px;}#sk-container-id-1 div.sk-estimator {font-family: monospace;background-color: #f0f8ff;border: 1px dotted black;border-radius: 0.25em;box-sizing: border-box;margin-bottom: 0.5em;}#sk-container-id-1 div.sk-estimator:hover {background-color: #d4ebff;}#sk-container-id-1 div.sk-parallel-item::after {content: \"\";width: 100%;border-bottom: 1px solid gray;flex-grow: 1;}#sk-container-id-1 div.sk-label:hover label.sk-toggleable__label {background-color: #d4ebff;}#sk-container-id-1 div.sk-serial::before {content: \"\";position: absolute;border-left: 1px solid gray;box-sizing: border-box;top: 0;bottom: 0;left: 50%;z-index: 0;}#sk-container-id-1 div.sk-serial {display: flex;flex-direction: column;align-items: center;background-color: white;padding-right: 0.2em;padding-left: 0.2em;position: relative;}#sk-container-id-1 div.sk-item {position: relative;z-index: 1;}#sk-container-id-1 div.sk-parallel {display: flex;align-items: stretch;justify-content: center;background-color: white;position: relative;}#sk-container-id-1 div.sk-item::before, #sk-container-id-1 div.sk-parallel-item::before {content: \"\";position: absolute;border-left: 1px solid gray;box-sizing: border-box;top: 0;bottom: 0;left: 50%;z-index: -1;}#sk-container-id-1 div.sk-parallel-item {display: flex;flex-direction: column;z-index: 1;position: relative;background-color: white;}#sk-container-id-1 div.sk-parallel-item:first-child::after {align-self: flex-end;width: 50%;}#sk-container-id-1 div.sk-parallel-item:last-child::after {align-self: flex-start;width: 50%;}#sk-container-id-1 div.sk-parallel-item:only-child::after {width: 0;}#sk-container-id-1 div.sk-dashed-wrapped {border: 1px dashed gray;margin: 0 0.4em 0.5em 0.4em;box-sizing: border-box;padding-bottom: 0.4em;background-color: white;}#sk-container-id-1 div.sk-label label {font-family: monospace;font-weight: bold;display: inline-block;line-height: 1.2em;}#sk-container-id-1 div.sk-label-container {text-align: center;}#sk-container-id-1 div.sk-container {/* jupyter's `normalize.less` sets `[hidden] { display: none; }` but bootstrap.min.css set `[hidden] { display: none !important; }` so we also need the `!important` here to be able to override the default hidden behavior on the sphinx rendered scikit-learn.org. See: https://github.com/scikit-learn/scikit-learn/issues/21755 */display: inline-block !important;position: relative;}#sk-container-id-1 div.sk-text-repr-fallback {display: none;}</style><div id=\"sk-container-id-1\" class=\"sk-top-container\"><div class=\"sk-text-repr-fallback\"><pre>RandomizedSearchCV(cv=5, estimator=RandomForestClassifier(n_jobs=1),\n",
       "                   param_distributions={&#x27;max_depth&#x27;: [None, 5, 10, 20, 30],\n",
       "                                        &#x27;max_features&#x27;: [&#x27;auto&#x27;, &#x27;sqrt&#x27;],\n",
       "                                        &#x27;min_samples_leaf&#x27;: [1, 2, 4],\n",
       "                                        &#x27;min_samples_split&#x27;: [2, 4, 6],\n",
       "                                        &#x27;n_estimators&#x27;: [10, 100, 200, 500,\n",
       "                                                         1000, 1200]},\n",
       "                   verbose=2)</pre><b>In a Jupyter environment, please rerun this cell to show the HTML representation or trust the notebook. <br />On GitHub, the HTML representation is unable to render, please try loading this page with nbviewer.org.</b></div><div class=\"sk-container\" hidden><div class=\"sk-item sk-dashed-wrapped\"><div class=\"sk-label-container\"><div class=\"sk-label sk-toggleable\"><input class=\"sk-toggleable__control sk-hidden--visually\" id=\"sk-estimator-id-1\" type=\"checkbox\" ><label for=\"sk-estimator-id-1\" class=\"sk-toggleable__label sk-toggleable__label-arrow\">RandomizedSearchCV</label><div class=\"sk-toggleable__content\"><pre>RandomizedSearchCV(cv=5, estimator=RandomForestClassifier(n_jobs=1),\n",
       "                   param_distributions={&#x27;max_depth&#x27;: [None, 5, 10, 20, 30],\n",
       "                                        &#x27;max_features&#x27;: [&#x27;auto&#x27;, &#x27;sqrt&#x27;],\n",
       "                                        &#x27;min_samples_leaf&#x27;: [1, 2, 4],\n",
       "                                        &#x27;min_samples_split&#x27;: [2, 4, 6],\n",
       "                                        &#x27;n_estimators&#x27;: [10, 100, 200, 500,\n",
       "                                                         1000, 1200]},\n",
       "                   verbose=2)</pre></div></div></div><div class=\"sk-parallel\"><div class=\"sk-parallel-item\"><div class=\"sk-item\"><div class=\"sk-label-container\"><div class=\"sk-label sk-toggleable\"><input class=\"sk-toggleable__control sk-hidden--visually\" id=\"sk-estimator-id-2\" type=\"checkbox\" ><label for=\"sk-estimator-id-2\" class=\"sk-toggleable__label sk-toggleable__label-arrow\">estimator: RandomForestClassifier</label><div class=\"sk-toggleable__content\"><pre>RandomForestClassifier(n_jobs=1)</pre></div></div></div><div class=\"sk-serial\"><div class=\"sk-item\"><div class=\"sk-estimator sk-toggleable\"><input class=\"sk-toggleable__control sk-hidden--visually\" id=\"sk-estimator-id-3\" type=\"checkbox\" ><label for=\"sk-estimator-id-3\" class=\"sk-toggleable__label sk-toggleable__label-arrow\">RandomForestClassifier</label><div class=\"sk-toggleable__content\"><pre>RandomForestClassifier(n_jobs=1)</pre></div></div></div></div></div></div></div></div></div></div>"
      ],
      "text/plain": [
       "RandomizedSearchCV(cv=5, estimator=RandomForestClassifier(n_jobs=1),\n",
       "                   param_distributions={'max_depth': [None, 5, 10, 20, 30],\n",
       "                                        'max_features': ['auto', 'sqrt'],\n",
       "                                        'min_samples_leaf': [1, 2, 4],\n",
       "                                        'min_samples_split': [2, 4, 6],\n",
       "                                        'n_estimators': [10, 100, 200, 500,\n",
       "                                                         1000, 1200]},\n",
       "                   verbose=2)"
      ]
     },
     "execution_count": 96,
     "metadata": {},
     "output_type": "execute_result"
    }
   ],
   "source": [
    "from sklearn.model_selection import RandomizedSearchCV\n",
    "\n",
    "grid = {'n_estimators': [10, 100, 200, 500, 1000, 1200],\n",
    "       'max_depth': [None, 5, 10, 20, 30],\n",
    "       'max_features': ['auto', 'sqrt'],\n",
    "       'min_samples_split': [2, 4, 6],\n",
    "       'min_samples_leaf': [1, 2, 4]}\n",
    "\n",
    "np.random.seed(42)\n",
    "X_train, X_test, y_train, y_test = train_test_split(X, y, test_size=0.2)\n",
    "clf = RandomForestClassifier(n_jobs=1) # Numero de cores que queremos dedicarle | n_jobs=-1 (dedicaria todos)\n",
    "\n",
    "# Crea el numero de modelos que le pases (n_iter) con las opciones del grid que le pasamos,\n",
    "# y coge entre todos los valores de cada parametro(en el grid, los que no esten se quedaran default),\n",
    "# un valor random y va probando (para probar todas las convinaciones, calcular las opciones del grid)\n",
    "rs_clf = RandomizedSearchCV(estimator=clf,\n",
    "                          param_distributions=grid,\n",
    "                          n_iter=10, # Numero de modelos que hara\n",
    "                          cv=5, # Versiones diferentes de la data (cross_validations, ver foto arriba)\n",
    "                          verbose=2)\n",
    "rs_clf.fit(X_train, y_train)"
   ]
  },
  {
   "cell_type": "code",
   "execution_count": 97,
   "id": "3b4d6589",
   "metadata": {},
   "outputs": [
    {
     "data": {
      "text/plain": [
       "{'n_estimators': 200,\n",
       " 'min_samples_split': 2,\n",
       " 'min_samples_leaf': 1,\n",
       " 'max_features': 'sqrt',\n",
       " 'max_depth': None}"
      ]
     },
     "execution_count": 97,
     "metadata": {},
     "output_type": "execute_result"
    }
   ],
   "source": [
    "rs_clf.best_params_ # Saca la mejor convinacion de parametros"
   ]
  },
  {
   "cell_type": "code",
   "execution_count": 99,
   "id": "648c7eff",
   "metadata": {},
   "outputs": [
    {
     "name": "stdout",
     "output_type": "stream",
     "text": [
      "Acc: 96.27%\n",
      "Precision: 0.73\n",
      "Recall: 0.58\n",
      "F1: 0.65\n"
     ]
    }
   ],
   "source": [
    "rs_y_pred = rs_cv.predict(X_test)\n",
    "rs_metrics = evaluate_preds(y_test, rs_y_pred) # Comprobamos si cambia la metrica a la de default"
   ]
  },
  {
   "cell_type": "code",
   "execution_count": null,
   "id": "e5828fae",
   "metadata": {},
   "outputs": [],
   "source": []
  },
  {
   "cell_type": "code",
   "execution_count": null,
   "id": "c5ec5efd",
   "metadata": {},
   "outputs": [],
   "source": []
  },
  {
   "cell_type": "code",
   "execution_count": null,
   "id": "c8875efe",
   "metadata": {},
   "outputs": [],
   "source": []
  },
  {
   "cell_type": "code",
   "execution_count": null,
   "id": "52ed4710",
   "metadata": {},
   "outputs": [],
   "source": []
  },
  {
   "cell_type": "code",
   "execution_count": null,
   "id": "38620e5c",
   "metadata": {},
   "outputs": [],
   "source": []
  },
  {
   "cell_type": "code",
   "execution_count": null,
   "id": "bbad9fa2",
   "metadata": {},
   "outputs": [],
   "source": []
  },
  {
   "cell_type": "code",
   "execution_count": null,
   "id": "993340be",
   "metadata": {},
   "outputs": [],
   "source": []
  },
  {
   "cell_type": "code",
   "execution_count": null,
   "id": "6fff65fc",
   "metadata": {},
   "outputs": [],
   "source": []
  },
  {
   "cell_type": "code",
   "execution_count": null,
   "id": "f6320186",
   "metadata": {},
   "outputs": [],
   "source": []
  }
 ],
 "metadata": {
  "kernelspec": {
   "display_name": "Python 3 (ipykernel)",
   "language": "python",
   "name": "python3"
  },
  "language_info": {
   "codemirror_mode": {
    "name": "ipython",
    "version": 3
   },
   "file_extension": ".py",
   "mimetype": "text/x-python",
   "name": "python",
   "nbconvert_exporter": "python",
   "pygments_lexer": "ipython3",
   "version": "3.10.8"
  }
 },
 "nbformat": 4,
 "nbformat_minor": 5
}
