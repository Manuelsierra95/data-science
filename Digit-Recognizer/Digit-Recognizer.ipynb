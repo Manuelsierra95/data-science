{
 "cells": [
  {
   "cell_type": "markdown",
   "id": "6a2f5c8f",
   "metadata": {},
   "source": [
    "# Title: Digit Recognizer\n",
    "\n",
    "# Database: https://www.kaggle.com/competitions/digit-recognizer/overview\n",
    "\n",
    "## Goal: \n",
    "* The goal in this competition is to take an image of a handwritten single digit, and determine what that digit is.\n",
    "For every in the test set, you should predict the correct label.\n",
    "## Evaluation:\n",
    "* This competition is evaluated on the categorization accuracy of your predictions (the percentage of images you get correct)."
   ]
  },
  {
   "cell_type": "code",
   "execution_count": 1,
   "id": "7837667e",
   "metadata": {
    "code_folding": []
   },
   "outputs": [],
   "source": [
    "import sys  \n",
    "sys.path.insert(0, '../Utils/')\n",
    "\n",
    "import ntfy"
   ]
  },
  {
   "cell_type": "code",
   "execution_count": 2,
   "id": "999db67a",
   "metadata": {
    "code_folding": [
     0
    ]
   },
   "outputs": [],
   "source": [
    "# Imports\n",
    "## Data manage and plot\n",
    "import pandas as pd\n",
    "import numpy as np\n",
    "import matplotlib.pyplot as plt\n",
    "import seaborn as sns\n",
    "## Modeling\n",
    "from catboost import Pool, CatBoostRegressor\n",
    "from sklearn.model_selection import train_test_split\n",
    "## Deep Modeling\n"
   ]
  },
  {
   "cell_type": "markdown",
   "id": "ec29a2f1",
   "metadata": {},
   "source": [
    "# Lets compare Supervised models with Neural Networks"
   ]
  },
  {
   "cell_type": "markdown",
   "id": "753613a1",
   "metadata": {},
   "source": [
    "# Supervised test:"
   ]
  },
  {
   "cell_type": "code",
   "execution_count": 3,
   "id": "86dcfb02",
   "metadata": {},
   "outputs": [],
   "source": [
    "train_df = pd.read_csv('train.csv')\n",
    "test_df = pd.read_csv('test.csv')"
   ]
  },
  {
   "cell_type": "code",
   "execution_count": 4,
   "id": "8517796e",
   "metadata": {},
   "outputs": [
    {
     "data": {
      "text/html": [
       "<div>\n",
       "<style scoped>\n",
       "    .dataframe tbody tr th:only-of-type {\n",
       "        vertical-align: middle;\n",
       "    }\n",
       "\n",
       "    .dataframe tbody tr th {\n",
       "        vertical-align: top;\n",
       "    }\n",
       "\n",
       "    .dataframe thead th {\n",
       "        text-align: right;\n",
       "    }\n",
       "</style>\n",
       "<table border=\"1\" class=\"dataframe\">\n",
       "  <thead>\n",
       "    <tr style=\"text-align: right;\">\n",
       "      <th></th>\n",
       "      <th>label</th>\n",
       "      <th>pixel0</th>\n",
       "      <th>pixel1</th>\n",
       "      <th>pixel2</th>\n",
       "      <th>pixel3</th>\n",
       "      <th>pixel4</th>\n",
       "      <th>pixel5</th>\n",
       "      <th>pixel6</th>\n",
       "      <th>pixel7</th>\n",
       "      <th>pixel8</th>\n",
       "      <th>...</th>\n",
       "      <th>pixel774</th>\n",
       "      <th>pixel775</th>\n",
       "      <th>pixel776</th>\n",
       "      <th>pixel777</th>\n",
       "      <th>pixel778</th>\n",
       "      <th>pixel779</th>\n",
       "      <th>pixel780</th>\n",
       "      <th>pixel781</th>\n",
       "      <th>pixel782</th>\n",
       "      <th>pixel783</th>\n",
       "    </tr>\n",
       "  </thead>\n",
       "  <tbody>\n",
       "    <tr>\n",
       "      <th>0</th>\n",
       "      <td>1</td>\n",
       "      <td>0</td>\n",
       "      <td>0</td>\n",
       "      <td>0</td>\n",
       "      <td>0</td>\n",
       "      <td>0</td>\n",
       "      <td>0</td>\n",
       "      <td>0</td>\n",
       "      <td>0</td>\n",
       "      <td>0</td>\n",
       "      <td>...</td>\n",
       "      <td>0</td>\n",
       "      <td>0</td>\n",
       "      <td>0</td>\n",
       "      <td>0</td>\n",
       "      <td>0</td>\n",
       "      <td>0</td>\n",
       "      <td>0</td>\n",
       "      <td>0</td>\n",
       "      <td>0</td>\n",
       "      <td>0</td>\n",
       "    </tr>\n",
       "    <tr>\n",
       "      <th>1</th>\n",
       "      <td>0</td>\n",
       "      <td>0</td>\n",
       "      <td>0</td>\n",
       "      <td>0</td>\n",
       "      <td>0</td>\n",
       "      <td>0</td>\n",
       "      <td>0</td>\n",
       "      <td>0</td>\n",
       "      <td>0</td>\n",
       "      <td>0</td>\n",
       "      <td>...</td>\n",
       "      <td>0</td>\n",
       "      <td>0</td>\n",
       "      <td>0</td>\n",
       "      <td>0</td>\n",
       "      <td>0</td>\n",
       "      <td>0</td>\n",
       "      <td>0</td>\n",
       "      <td>0</td>\n",
       "      <td>0</td>\n",
       "      <td>0</td>\n",
       "    </tr>\n",
       "    <tr>\n",
       "      <th>2</th>\n",
       "      <td>1</td>\n",
       "      <td>0</td>\n",
       "      <td>0</td>\n",
       "      <td>0</td>\n",
       "      <td>0</td>\n",
       "      <td>0</td>\n",
       "      <td>0</td>\n",
       "      <td>0</td>\n",
       "      <td>0</td>\n",
       "      <td>0</td>\n",
       "      <td>...</td>\n",
       "      <td>0</td>\n",
       "      <td>0</td>\n",
       "      <td>0</td>\n",
       "      <td>0</td>\n",
       "      <td>0</td>\n",
       "      <td>0</td>\n",
       "      <td>0</td>\n",
       "      <td>0</td>\n",
       "      <td>0</td>\n",
       "      <td>0</td>\n",
       "    </tr>\n",
       "    <tr>\n",
       "      <th>3</th>\n",
       "      <td>4</td>\n",
       "      <td>0</td>\n",
       "      <td>0</td>\n",
       "      <td>0</td>\n",
       "      <td>0</td>\n",
       "      <td>0</td>\n",
       "      <td>0</td>\n",
       "      <td>0</td>\n",
       "      <td>0</td>\n",
       "      <td>0</td>\n",
       "      <td>...</td>\n",
       "      <td>0</td>\n",
       "      <td>0</td>\n",
       "      <td>0</td>\n",
       "      <td>0</td>\n",
       "      <td>0</td>\n",
       "      <td>0</td>\n",
       "      <td>0</td>\n",
       "      <td>0</td>\n",
       "      <td>0</td>\n",
       "      <td>0</td>\n",
       "    </tr>\n",
       "    <tr>\n",
       "      <th>4</th>\n",
       "      <td>0</td>\n",
       "      <td>0</td>\n",
       "      <td>0</td>\n",
       "      <td>0</td>\n",
       "      <td>0</td>\n",
       "      <td>0</td>\n",
       "      <td>0</td>\n",
       "      <td>0</td>\n",
       "      <td>0</td>\n",
       "      <td>0</td>\n",
       "      <td>...</td>\n",
       "      <td>0</td>\n",
       "      <td>0</td>\n",
       "      <td>0</td>\n",
       "      <td>0</td>\n",
       "      <td>0</td>\n",
       "      <td>0</td>\n",
       "      <td>0</td>\n",
       "      <td>0</td>\n",
       "      <td>0</td>\n",
       "      <td>0</td>\n",
       "    </tr>\n",
       "  </tbody>\n",
       "</table>\n",
       "<p>5 rows × 785 columns</p>\n",
       "</div>"
      ],
      "text/plain": [
       "   label  pixel0  pixel1  pixel2  pixel3  pixel4  pixel5  pixel6  pixel7  \\\n",
       "0      1       0       0       0       0       0       0       0       0   \n",
       "1      0       0       0       0       0       0       0       0       0   \n",
       "2      1       0       0       0       0       0       0       0       0   \n",
       "3      4       0       0       0       0       0       0       0       0   \n",
       "4      0       0       0       0       0       0       0       0       0   \n",
       "\n",
       "   pixel8  ...  pixel774  pixel775  pixel776  pixel777  pixel778  pixel779  \\\n",
       "0       0  ...         0         0         0         0         0         0   \n",
       "1       0  ...         0         0         0         0         0         0   \n",
       "2       0  ...         0         0         0         0         0         0   \n",
       "3       0  ...         0         0         0         0         0         0   \n",
       "4       0  ...         0         0         0         0         0         0   \n",
       "\n",
       "   pixel780  pixel781  pixel782  pixel783  \n",
       "0         0         0         0         0  \n",
       "1         0         0         0         0  \n",
       "2         0         0         0         0  \n",
       "3         0         0         0         0  \n",
       "4         0         0         0         0  \n",
       "\n",
       "[5 rows x 785 columns]"
      ]
     },
     "execution_count": 4,
     "metadata": {},
     "output_type": "execute_result"
    }
   ],
   "source": [
    "train_df.head()"
   ]
  },
  {
   "cell_type": "code",
   "execution_count": 4,
   "id": "3c575572",
   "metadata": {},
   "outputs": [
    {
     "data": {
      "text/plain": [
       "<catboost.core.CatBoostRegressor at 0x7efc804c5070>"
      ]
     },
     "execution_count": 4,
     "metadata": {},
     "output_type": "execute_result"
    }
   ],
   "source": [
    "np.random.seed(42)\n",
    "\n",
    "X_train, X_test, y_train, y_test = train_test_split(train_df.drop('label', axis=1), train_df['label'])\n",
    "\n",
    "model = CatBoostRegressor(logging_level='Silent')\n",
    "model.fit(X_train, y_train)"
   ]
  },
  {
   "cell_type": "code",
   "execution_count": 5,
   "id": "b053e391",
   "metadata": {},
   "outputs": [
    {
     "data": {
      "text/plain": [
       "0.8982814721150002"
      ]
     },
     "execution_count": 5,
     "metadata": {},
     "output_type": "execute_result"
    }
   ],
   "source": [
    "model.score(X_test, y_test)"
   ]
  },
  {
   "cell_type": "code",
   "execution_count": 6,
   "id": "1d13790b",
   "metadata": {},
   "outputs": [
    {
     "data": {
      "text/plain": [
       "array([ 1.70230534, -0.43309995,  7.55466399, ...,  3.20529371,\n",
       "        7.99197427,  1.86270634])"
      ]
     },
     "execution_count": 6,
     "metadata": {},
     "output_type": "execute_result"
    }
   ],
   "source": [
    "preds = model.predict(test_df)\n",
    "preds"
   ]
  },
  {
   "cell_type": "code",
   "execution_count": 7,
   "id": "a8da84ad",
   "metadata": {},
   "outputs": [
    {
     "ename": "TypeError",
     "evalue": "type numpy.ndarray doesn't define __round__ method",
     "output_type": "error",
     "traceback": [
      "\u001b[0;31m---------------------------------------------------------------------------\u001b[0m",
      "\u001b[0;31mTypeError\u001b[0m                                 Traceback (most recent call last)",
      "Cell \u001b[0;32mIn[7], line 1\u001b[0m\n\u001b[0;32m----> 1\u001b[0m \u001b[38;5;28mprint\u001b[39m(\u001b[38;5;28;43mround\u001b[39;49m\u001b[43m(\u001b[49m\u001b[43mpreds\u001b[49m\u001b[43m)\u001b[49m)\n",
      "\u001b[0;31mTypeError\u001b[0m: type numpy.ndarray doesn't define __round__ method"
     ]
    }
   ],
   "source": [
    "print(round(preds))"
   ]
  },
  {
   "cell_type": "markdown",
   "id": "65327cee",
   "metadata": {},
   "source": [
    "\n",
    "\n",
    "# With NN from scratch\n",
    "#\n",
    "### We will have 2 layers with 784 units corresponding to 784 pixels for num image, this will be in format 28x28 matrix for each number\n",
    "###\n",
    "* First layer will be a hidden layer and will have 10 units with ReLU activation.\n",
    "* Second layer will be a output layer and will have 10 units, corresponding to the 10 digits (0 - 9), with softmax activation."
   ]
  },
  {
   "cell_type": "markdown",
   "id": "a4c39af4",
   "metadata": {},
   "source": [
    "# Test-1"
   ]
  },
  {
   "cell_type": "code",
   "execution_count": 5,
   "id": "b36de7f5",
   "metadata": {
    "code_folding": [
     0
    ]
   },
   "outputs": [],
   "source": [
    "# Setup data\n",
    "data = np.array(train_df)\n",
    "rows, cols = data.shape\n",
    "np.random.shuffle(data) # shuffle before splitting into dev and training sets\n",
    "\n",
    "test_data = data[0:1000].T\n",
    "y_test = test_data[0]\n",
    "X_test = test_data[1:cols]\n",
    "X_test = X_test / 255.\n",
    "\n",
    "train_data = data[1000:rows].T\n",
    "y_train = train_data[0]\n",
    "X_train = train_data[1:cols]\n",
    "X_train = X_train / 255."
   ]
  },
  {
   "cell_type": "code",
   "execution_count": 6,
   "id": "7edaef27",
   "metadata": {
    "code_folding": [
     0
    ]
   },
   "outputs": [],
   "source": [
    "# NN with 2 layers\n",
    "def init_params():\n",
    "    W1 = np.random.rand(10, 784) - 0.5 # weights1\n",
    "    b1 = np.random.rand(10, 1) - 0.5 # bias1\n",
    "    W2 = np.random.rand(10, 10) - 0.5 # weights2\n",
    "    b2 = np.random.rand(10, 1) - 0.5 # bias2\n",
    "    return W1, b1, W2, b2\n",
    "\n",
    "def ReLU(Z): # returns 0 if the num is negative, else return the num\n",
    "    return np.maximum(Z, 0)\n",
    "\n",
    "def softmax(Z):\n",
    "    return np.exp(Z) / sum(np.exp(Z))\n",
    "\n",
    "def forward_prop(W1, b1, W2, b2, X):\n",
    "    Z1 = W1.dot(X) + b1 # Z1 correspond to the first layer, X would be the input layer and b the bias\n",
    "    A1 = ReLU(Z1) # A1 correspond to the first activation, in this case ReLU\n",
    "    Z2 = W2.dot(A1) + b2\n",
    "    A2 = softmax(Z2)\n",
    "    return Z1, A1, Z2, A2\n",
    "\n",
    "def one_hot(y):\n",
    "    one_hot_y = np.zeros((y.size, y.max() + 1)) # create a matrix with zeros with the size of y\n",
    "    one_hot_y[np.arange(y.size), y] = 1 # change the value position from 0 to 1 (Ex.: 3 -> [0, 0, 0, 1, 0, 0, 0, 0, 0, 0])\n",
    "    one_hot_y = one_hot_y.T # T cause now each row is a example, and we want to be each columns\n",
    "    return one_hot_y\n",
    "\n",
    "def ReLU_deriv(Z):\n",
    "    return Z > 0\n",
    "\n",
    "def backward_prop(Z1, A1, Z2, A2, W1, W2, X, y):\n",
    "    rows = y.size\n",
    "    one_hot_y = one_hot(y)\n",
    "    # taking how much the second layer pred was off the true pred\n",
    "    dZ2 = A2 - one_hot_y\n",
    "    # calculate how much weights and bias contributed to the error\n",
    "    dW2 = 1 / rows * dZ2.dot(A1.T)\n",
    "    db2 = 1 / rows * np.sum(dZ2)\n",
    "    # taking how much the second layer pred was off and apply to the first layer using deriv\n",
    "    dZ1 = W2.T.dot(dZ2) * ReLU_deriv(Z1)\n",
    "    # calculate how much weights and bias contributed to the error\n",
    "    dW1 = 1 / rows * dZ1.dot(X.T)\n",
    "    db1 = 1 / rows * np.sum(dZ1)\n",
    "    return dW1, db1, dW2, db2\n",
    "\n",
    "def update_params(W1, b1, W2, b2, dW1, db1, dW2, db2, learning_rate):\n",
    "    # update the last params with the news applying the learning_rate\n",
    "    W1 = W1 - learning_rate * dW1\n",
    "    b1 = b1 - learning_rate * db1\n",
    "    W2 = W2 - learning_rate * dW2\n",
    "    b2 = b2 - learning_rate * db2\n",
    "    return W1, b1, W2, b2"
   ]
  },
  {
   "cell_type": "code",
   "execution_count": 13,
   "id": "e10198d8",
   "metadata": {
    "code_folding": [
     0
    ]
   },
   "outputs": [],
   "source": [
    "# gradient_descent\n",
    "def get_pred(A2):\n",
    "    return np.argmax(A2, 0)\n",
    "    \n",
    "def get_accu(preds, true_values):\n",
    "    return np.sum(preds == true_values) / true_values.size # sum the amount of true preds and / for the total\n",
    "    \n",
    "def gradient_descent(X, y, iterations, learning_rate):\n",
    "    W1, b1, W2, b2 = init_params()\n",
    "    last_accu = 0\n",
    "    for i in range(iterations):\n",
    "        Z1, A1, Z2, A2 = forward_prop(W1, b1, W2, b2, X)\n",
    "        dW1, db1, dW2, db2 = backward_prop(Z1, A1, Z2, A2, W1, W2, X, y)\n",
    "        W1, b1, W2, b2 = update_params(W1, b1, W2, b2, dW1, db1, dW2, db2, learning_rate)\n",
    "        if i % 30 == 0: # print every 30 iters\n",
    "            accu = get_accu(get_pred(A2), y)\n",
    "            print('Iteration: ', i)\n",
    "            print(get_pred(A2), y)\n",
    "            print('Accuracy: ', accu)\n",
    "            if accu < last_accu: # stopper when accu goes down\n",
    "                print('Stopping...')\n",
    "                break\n",
    "            last_accu = get_accu(get_pred(A2), y)\n",
    "    ntfy.send_notification(f'Finish gradient_descent from scratch with a {last_accu} accuracy')\n",
    "    return W1, b1, W2, b2"
   ]
  },
  {
   "cell_type": "code",
   "execution_count": 8,
   "id": "0c014405",
   "metadata": {
    "code_folding": []
   },
   "outputs": [],
   "source": [
    "# test preds\n",
    "def make_predictions(X, W1, b1, W2, b2):\n",
    "    _, _, _, A2 = forward_prop(W1, b1, W2, b2, X)\n",
    "    predictions = get_pred(A2)\n",
    "    return predictions\n",
    "\n",
    "def test_prediction(index, W1, b1, W2, b2, X, y):\n",
    "    current_image = X[:, index, None]\n",
    "    prediction = make_predictions(X[:, index, None], W1, b1, W2, b2)\n",
    "    label = y[index]\n",
    "    print(\"Prediction: \", prediction)\n",
    "    print(\"Label: \", label)\n",
    "    \n",
    "    current_image = current_image.reshape((28, 28)) * 255\n",
    "    plt.gray()\n",
    "    plt.imshow(current_image, interpolation='nearest')\n",
    "    plt.show()"
   ]
  },
  {
   "cell_type": "code",
   "execution_count": 14,
   "id": "40d0ac25",
   "metadata": {},
   "outputs": [
    {
     "name": "stdout",
     "output_type": "stream",
     "text": [
      "Iteration:  0\n",
      "[7 5 5 ... 4 4 9] [6 5 1 ... 3 4 2]\n",
      "Accuracy:  0.1165609756097561\n",
      "Iteration:  30\n",
      "[3 5 7 ... 1 1 7] [6 5 1 ... 3 4 2]\n",
      "Accuracy:  0.3427317073170732\n"
     ]
    },
    {
     "data": {
      "text/plain": [
       "0.478"
      ]
     },
     "execution_count": 14,
     "metadata": {},
     "output_type": "execute_result"
    }
   ],
   "source": [
    "W1, b1, W2, b2 = gradient_descent(X_train, y_train, 50, 0.1)\n",
    "get_accu(make_predictions(X_test, W1, b1, W2, b2), y_test)"
   ]
  },
  {
   "cell_type": "code",
   "execution_count": null,
   "id": "93916023",
   "metadata": {},
   "outputs": [],
   "source": [
    "get_accu(make_predictions(X_test, W1, b1, W2, b2), y_test)"
   ]
  },
  {
   "cell_type": "code",
   "execution_count": 73,
   "id": "572133d1",
   "metadata": {},
   "outputs": [
    {
     "name": "stdout",
     "output_type": "stream",
     "text": [
      "Prediction:  [1]\n",
      "Label:  1\n"
     ]
    },
    {
     "data": {
      "image/png": "[encoded data removed]",
      "text/plain": [
       "<Figure size 640x480 with 1 Axes>"
      ]
     },
     "metadata": {},
     "output_type": "display_data"
    }
   ],
   "source": [
    "test_prediction(1, W1, b1, W2, b2, X_test, y_test)"
   ]
  },
  {
   "cell_type": "code",
   "execution_count": 61,
   "id": "adece833",
   "metadata": {
    "code_folding": [
     0
    ]
   },
   "outputs": [],
   "source": [
    "def plot_decision_boundary(W1, b1, W2, b2, X, y):\n",
    "    '''\n",
    "    Plot the decision boundary created by a model predicting on X\n",
    "    '''\n",
    "    # Define the axis boundaries of the plot and create a meshgrid\n",
    "    x_min, x_max = X[:, 0].min() - 0.1, X[:, 0].max() + 0.1\n",
    "    y_min, y_max = X[:, 1].min() - 0.1, X[:, 1].max() + 0.1\n",
    "    xx, yy = np.meshgrid(np.linspace(x_min, x_max, 100),\n",
    "                         np.linspace(y_min, y_max, 100))\n",
    "    # Create X value (we're going to make predictions on these)\n",
    "    x_in = np.c_[xx.ravel(), yy.ravel()] # stack 2D arrays together\n",
    "\n",
    "    # Make predictions\n",
    "    y_pred = make_predictions(X, W1, b1, W2, b2)\n",
    "\n",
    "    # Check for multi-class\n",
    "    if len(y_pred) > 1:\n",
    "        print(\"doing multiclass classification...\")\n",
    "        # We have to reshape our predictions to get them ready for plotting\n",
    "        y_pred = np.argmax(y_pred, axis=1).reshape(xx.shape)\n",
    "    else:\n",
    "        print(\"doing binary classification...\")\n",
    "        y_pred = np.round(y_pred).reshape(xx.shape)\n",
    "\n",
    "    # Plot the decision boundary\n",
    "    plt.contourf(xx, yy, y_pred, cmap=plt.cm.RdYlBu, alpha=0.7)\n",
    "    plt.scatter(X[:, 0], X[:, 1], c=y, s=40, cmap=plt.cm.RdYlBu)\n",
    "    plt.xlim(xx.min(), xx.max())\n",
    "    plt.ylim(yy.min(), yy.max())"
   ]
  },
  {
   "cell_type": "code",
   "execution_count": 62,
   "id": "3f3586c3",
   "metadata": {},
   "outputs": [
    {
     "name": "stdout",
     "output_type": "stream",
     "text": [
      "doing binary classification...\n"
     ]
    },
    {
     "ename": "ValueError",
     "evalue": "cannot reshape array of size 1000 into shape (100,100)",
     "output_type": "error",
     "traceback": [
      "\u001b[0;31m---------------------------------------------------------------------------\u001b[0m",
      "\u001b[0;31mValueError\u001b[0m                                Traceback (most recent call last)",
      "Cell \u001b[0;32mIn[62], line 1\u001b[0m\n\u001b[0;32m----> 1\u001b[0m \u001b[43mplot_decision_boundary\u001b[49m\u001b[43m(\u001b[49m\u001b[43mW1\u001b[49m\u001b[43m,\u001b[49m\u001b[43m \u001b[49m\u001b[43mb1\u001b[49m\u001b[43m,\u001b[49m\u001b[43m \u001b[49m\u001b[43mW2\u001b[49m\u001b[43m,\u001b[49m\u001b[43m \u001b[49m\u001b[43mb2\u001b[49m\u001b[43m,\u001b[49m\u001b[43m \u001b[49m\u001b[43mX_test\u001b[49m\u001b[43m,\u001b[49m\u001b[43m \u001b[49m\u001b[43my_test\u001b[49m\u001b[43m)\u001b[49m\n",
      "Cell \u001b[0;32mIn[61], line 23\u001b[0m, in \u001b[0;36mplot_decision_boundary\u001b[0;34m(W1, b1, W2, b2, X, y)\u001b[0m\n\u001b[1;32m     16\u001b[0m     \u001b[38;5;66;03m# Check for multi-class\u001b[39;00m\n\u001b[1;32m     17\u001b[0m \u001b[38;5;66;03m#     if len(y_pred) > 1:\u001b[39;00m\n\u001b[1;32m     18\u001b[0m \u001b[38;5;66;03m#         print(\"doing multiclass classification...\")\u001b[39;00m\n\u001b[1;32m     19\u001b[0m \u001b[38;5;66;03m#         # We have to reshape our predictions to get them ready for plotting\u001b[39;00m\n\u001b[1;32m     20\u001b[0m \u001b[38;5;66;03m#         y_pred = np.argmax(y_pred).reshape(xx.shape)\u001b[39;00m\n\u001b[1;32m     21\u001b[0m \u001b[38;5;66;03m#     else:\u001b[39;00m\n\u001b[1;32m     22\u001b[0m     \u001b[38;5;28mprint\u001b[39m(\u001b[38;5;124m\"\u001b[39m\u001b[38;5;124mdoing binary classification...\u001b[39m\u001b[38;5;124m\"\u001b[39m)\n\u001b[0;32m---> 23\u001b[0m     y_pred \u001b[38;5;241m=\u001b[39m \u001b[43mnp\u001b[49m\u001b[38;5;241;43m.\u001b[39;49m\u001b[43mround\u001b[49m\u001b[43m(\u001b[49m\u001b[43my_pred\u001b[49m\u001b[43m)\u001b[49m\u001b[38;5;241;43m.\u001b[39;49m\u001b[43mreshape\u001b[49m\u001b[43m(\u001b[49m\u001b[43mxx\u001b[49m\u001b[38;5;241;43m.\u001b[39;49m\u001b[43mshape\u001b[49m\u001b[43m)\u001b[49m\n\u001b[1;32m     25\u001b[0m     \u001b[38;5;66;03m# Plot the decision boundary\u001b[39;00m\n\u001b[1;32m     26\u001b[0m     plt\u001b[38;5;241m.\u001b[39mcontourf(xx, yy, y_pred, cmap\u001b[38;5;241m=\u001b[39mplt\u001b[38;5;241m.\u001b[39mcm\u001b[38;5;241m.\u001b[39mRdYlBu, alpha\u001b[38;5;241m=\u001b[39m\u001b[38;5;241m0.7\u001b[39m)\n",
      "\u001b[0;31mValueError\u001b[0m: cannot reshape array of size 1000 into shape (100,100)"
     ]
    }
   ],
   "source": [
    "plot_decision_boundary(W1, b1, W2, b2, X_test, y_test)"
   ]
  },
  {
   "cell_type": "code",
   "execution_count": 76,
   "id": "6211ed5e",
   "metadata": {},
   "outputs": [],
   "source": [
    "np_test_df = np.array(test_df)\n",
    "np_test_df = np_test_df.T\n",
    "np_test_df = np_test_df / 255."
   ]
  },
  {
   "cell_type": "code",
   "execution_count": 77,
   "id": "0226c021",
   "metadata": {},
   "outputs": [
    {
     "data": {
      "text/plain": [
       "((784, 28000), (784, 41000))"
      ]
     },
     "execution_count": 77,
     "metadata": {},
     "output_type": "execute_result"
    }
   ],
   "source": [
    "np_test_df.shape, X_train.shape"
   ]
  },
  {
   "cell_type": "code",
   "execution_count": 78,
   "id": "cc9c31d3",
   "metadata": {},
   "outputs": [],
   "source": [
    "preds = make_predictions(np_test_df, W1, b1, W2, b2)"
   ]
  },
  {
   "cell_type": "code",
   "execution_count": 79,
   "id": "783a9d37",
   "metadata": {},
   "outputs": [
    {
     "data": {
      "text/plain": [
       "array([2, 0, 9, ..., 3, 9, 2])"
      ]
     },
     "execution_count": 79,
     "metadata": {},
     "output_type": "execute_result"
    }
   ],
   "source": [
    "preds"
   ]
  },
  {
   "cell_type": "markdown",
   "id": "16786a57",
   "metadata": {},
   "source": [
    "# Test-2\n"
   ]
  },
  {
   "cell_type": "code",
   "execution_count": 208,
   "id": "82c14f69",
   "metadata": {},
   "outputs": [],
   "source": [
    "# Setup data\n",
    "data = np.array(train_df)\n",
    "rows, cols = data.shape\n",
    "np.random.shuffle(data) # shuffle before splitting into dev and training sets\n",
    "\n",
    "test_data = data[0:100].T\n",
    "y_test = test_data[0]\n",
    "X_test = test_data[1:cols]\n",
    "X_test = X_test / 255.\n",
    "\n",
    "train_data = data[1000:rows].T\n",
    "y_train = train_data[0]\n",
    "X_train = train_data[1:cols]\n",
    "X_train = X_train / 255."
   ]
  },
  {
   "cell_type": "code",
   "execution_count": 15,
   "id": "1300a5f8",
   "metadata": {},
   "outputs": [],
   "source": [
    "n = 100\n",
    "p = 784\n",
    "\n",
    "class neural_layer():\n",
    "    def __init__(self, n_conn, n_neur, act_f):\n",
    "        self.act_f = act_f\n",
    "        self.b = (np.random.rand(1, n_neur) * 2 - 1).T\n",
    "        self.W = (np.random.rand(n_conn, n_neur) * 2 - 1).T"
   ]
  },
  {
   "cell_type": "code",
   "execution_count": 16,
   "id": "57313dca",
   "metadata": {
    "code_folding": [
     0
    ]
   },
   "outputs": [
    {
     "data": {
      "image/png": "[encoded data removed]",
      "text/plain": [
       "<Figure size 1000x1000 with 6 Axes>"
      ]
     },
     "metadata": {},
     "output_type": "display_data"
    }
   ],
   "source": [
    "## Activation func\n",
    "\n",
    "sigm = (lambda x: 1 / (1 + np.exp(-x)), # Activation\n",
    "        lambda x: x * (1 - x))            # Deriv\n",
    "\n",
    "ReLU = (lambda x: np.maximum(0, x),\n",
    "        lambda x: x > 0)\n",
    "\n",
    "tanh = (lambda x: (np.exp(x) - np.exp(-x)) / (np.exp(x) + np.exp(-x)),\n",
    "        lambda x: 1 - tanh[0](x) ** 2)\n",
    "\n",
    "_x = np.linspace(-5, 5, 100)\n",
    "\n",
    "fig, ax = plt.subplots(nrows=3, ncols=2, figsize=(10,10), sharex=True)\n",
    "ax1 = sns.lineplot(x=_x, y=sigm[0](_x), ax=ax[0][0])\n",
    "ax1.set_title('Sigmoid Activation')\n",
    "ax2 = sns.lineplot(x=_x, y=sigm[1](_x), ax=ax[0][1])\n",
    "ax2.set_title('Sigmoid Deriv')\n",
    "ax3 = sns.lineplot(x=_x, y=ReLU[0](_x), ax=ax[1][0])\n",
    "ax3.set_title('ReLU Activation')\n",
    "ax4 = sns.lineplot(x=_x, y=ReLU[1](_x), ax=ax[1][1])\n",
    "ax4.set_title('ReLU Deriv')\n",
    "ax5 = sns.lineplot(x=_x, y=tanh[0](_x), ax=ax[2][0])\n",
    "ax5.set_title('Tanh Activation')\n",
    "ax6 = sns.lineplot(x=_x, y=tanh[1](_x), ax=ax[2][1])\n",
    "ax6.set_title('Tanh Deriv')\n",
    "plt.show()\n",
    "\n"
   ]
  },
  {
   "cell_type": "code",
   "execution_count": 17,
   "id": "157b0259",
   "metadata": {
    "code_folding": []
   },
   "outputs": [],
   "source": [
    "def create_nn(nn_struct, act_f):\n",
    "    nn = []\n",
    "    for l, layer in enumerate(nn_struct[:-1]):\n",
    "        nn.append(neural_layer(nn_struct[l], nn_struct[l+1], act_f))\n",
    "    return nn"
   ]
  },
  {
   "cell_type": "code",
   "execution_count": 18,
   "id": "493f9cf4",
   "metadata": {},
   "outputs": [],
   "source": [
    "nn_struct = [p, 4, 8, 16, 8, 4, 1]\n",
    "neural_net = create_nn(nn_struct, sigm)"
   ]
  },
  {
   "cell_type": "code",
   "execution_count": 19,
   "id": "f1d76700",
   "metadata": {},
   "outputs": [
    {
     "data": {
      "text/plain": [
       "((784, 1000), (1000,))"
      ]
     },
     "execution_count": 19,
     "metadata": {},
     "output_type": "execute_result"
    }
   ],
   "source": [
    "X_test.shape, y_test.shape"
   ]
  },
  {
   "cell_type": "code",
   "execution_count": 20,
   "id": "081752c3",
   "metadata": {},
   "outputs": [
    {
     "data": {
      "text/plain": [
       "((4, 784), (784, 41000))"
      ]
     },
     "execution_count": 20,
     "metadata": {},
     "output_type": "execute_result"
    }
   ],
   "source": [
    "neural_net[0].W.shape, X_train.shape"
   ]
  },
  {
   "cell_type": "code",
   "execution_count": 21,
   "id": "8559b4bf",
   "metadata": {},
   "outputs": [
    {
     "data": {
      "text/plain": [
       "array([[-3.75375088,  9.10204576,  1.82050036, ...,  9.36075135,\n",
       "        -2.17861754,  2.59605967],\n",
       "       [-2.20968689,  1.40409346, -0.95724604, ..., -0.33604847,\n",
       "         2.78884627, -1.10520766],\n",
       "       [ 3.28887148, -1.42897333, -1.03596753, ...,  9.27253482,\n",
       "         0.45772353,  7.53692292],\n",
       "       [ 0.2081829 ,  7.17412852,  1.2963087 , ..., 11.68041636,\n",
       "        -4.24501746, 13.14348827]])"
      ]
     },
     "execution_count": 21,
     "metadata": {},
     "output_type": "execute_result"
    }
   ],
   "source": [
    "neural_net[0].W.dot(X_train)"
   ]
  },
  {
   "cell_type": "code",
   "execution_count": 22,
   "id": "1598abaa",
   "metadata": {},
   "outputs": [
    {
     "data": {
      "text/plain": [
       "(1000, 1)"
      ]
     },
     "execution_count": 22,
     "metadata": {},
     "output_type": "execute_result"
    }
   ],
   "source": [
    "y_test = y_test[:, np.newaxis]\n",
    "y_test.shape"
   ]
  },
  {
   "cell_type": "code",
   "execution_count": 23,
   "id": "90241087",
   "metadata": {},
   "outputs": [
    {
     "data": {
      "text/plain": [
       "(784, 1000)"
      ]
     },
     "execution_count": 23,
     "metadata": {},
     "output_type": "execute_result"
    }
   ],
   "source": [
    "X_test.shape"
   ]
  },
  {
   "cell_type": "code",
   "execution_count": 35,
   "id": "87afbda7",
   "metadata": {
    "scrolled": true
   },
   "outputs": [
    {
     "name": "stdout",
     "output_type": "stream",
     "text": [
      "y:  (1000, 1)\n",
      "(4, 1000) (4, 1)\n"
     ]
    },
    {
     "ename": "ValueError",
     "evalue": "operands could not be broadcast together with shapes (1,4) (4,1000) ",
     "output_type": "error",
     "traceback": [
      "\u001b[0;31m---------------------------------------------------------------------------\u001b[0m",
      "\u001b[0;31mValueError\u001b[0m                                Traceback (most recent call last)",
      "Cell \u001b[0;32mIn[35], line 37\u001b[0m\n\u001b[1;32m     33\u001b[0m             neural_net[l]\u001b[38;5;241m.\u001b[39mW \u001b[38;5;241m=\u001b[39m neural_net[l]\u001b[38;5;241m.\u001b[39mW \u001b[38;5;241m-\u001b[39m output[l][\u001b[38;5;241m1\u001b[39m]\u001b[38;5;241m.\u001b[39mdot(deltas[\u001b[38;5;241m0\u001b[39m]\u001b[38;5;241m.\u001b[39mT) \u001b[38;5;241m*\u001b[39m lr\n\u001b[1;32m     35\u001b[0m     \u001b[38;5;28;01mreturn\u001b[39;00m output[\u001b[38;5;241m-\u001b[39m\u001b[38;5;241m1\u001b[39m][\u001b[38;5;241m1\u001b[39m]\n\u001b[0;32m---> 37\u001b[0m \u001b[43mtrain\u001b[49m\u001b[43m(\u001b[49m\u001b[43mneural_net\u001b[49m\u001b[43m,\u001b[49m\u001b[43m \u001b[49m\u001b[43mX_test\u001b[49m\u001b[43m,\u001b[49m\u001b[43m \u001b[49m\u001b[43my_test\u001b[49m\u001b[43m,\u001b[49m\u001b[43m \u001b[49m\u001b[43ml2_loss\u001b[49m\u001b[43m)\u001b[49m\n",
      "Cell \u001b[0;32mIn[35], line 33\u001b[0m, in \u001b[0;36mtrain\u001b[0;34m(neural_net, X, y, l2_loss, lr, train)\u001b[0m\n\u001b[1;32m     31\u001b[0m         neural_net[l]\u001b[38;5;241m.\u001b[39mb \u001b[38;5;241m=\u001b[39m neural_net[l]\u001b[38;5;241m.\u001b[39mb \u001b[38;5;241m-\u001b[39m np\u001b[38;5;241m.\u001b[39mmean(deltas[\u001b[38;5;241m0\u001b[39m], axis\u001b[38;5;241m=\u001b[39m\u001b[38;5;241m0\u001b[39m, keepdims\u001b[38;5;241m=\u001b[39m\u001b[38;5;28;01mTrue\u001b[39;00m) \u001b[38;5;241m*\u001b[39m lr\n\u001b[1;32m     32\u001b[0m         \u001b[38;5;28mprint\u001b[39m((output[l][\u001b[38;5;241m1\u001b[39m]\u001b[38;5;241m.\u001b[39mdot(deltas[\u001b[38;5;241m0\u001b[39m]\u001b[38;5;241m.\u001b[39mT) \u001b[38;5;241m*\u001b[39m lr)\u001b[38;5;241m.\u001b[39mshape, neural_net[l]\u001b[38;5;241m.\u001b[39mW\u001b[38;5;241m.\u001b[39mT\u001b[38;5;241m.\u001b[39mshape)\n\u001b[0;32m---> 33\u001b[0m         neural_net[l]\u001b[38;5;241m.\u001b[39mW \u001b[38;5;241m=\u001b[39m \u001b[43mneural_net\u001b[49m\u001b[43m[\u001b[49m\u001b[43ml\u001b[49m\u001b[43m]\u001b[49m\u001b[38;5;241;43m.\u001b[39;49m\u001b[43mW\u001b[49m\u001b[43m \u001b[49m\u001b[38;5;241;43m-\u001b[39;49m\u001b[43m \u001b[49m\u001b[43moutput\u001b[49m\u001b[43m[\u001b[49m\u001b[43ml\u001b[49m\u001b[43m]\u001b[49m\u001b[43m[\u001b[49m\u001b[38;5;241;43m1\u001b[39;49m\u001b[43m]\u001b[49m\u001b[38;5;241;43m.\u001b[39;49m\u001b[43mdot\u001b[49m\u001b[43m(\u001b[49m\u001b[43mdeltas\u001b[49m\u001b[43m[\u001b[49m\u001b[38;5;241;43m0\u001b[39;49m\u001b[43m]\u001b[49m\u001b[38;5;241;43m.\u001b[39;49m\u001b[43mT\u001b[49m\u001b[43m)\u001b[49m\u001b[43m \u001b[49m\u001b[38;5;241;43m*\u001b[39;49m\u001b[43m \u001b[49m\u001b[43mlr\u001b[49m\n\u001b[1;32m     35\u001b[0m \u001b[38;5;28;01mreturn\u001b[39;00m output[\u001b[38;5;241m-\u001b[39m\u001b[38;5;241m1\u001b[39m][\u001b[38;5;241m1\u001b[39m]\n",
      "\u001b[0;31mValueError\u001b[0m: operands could not be broadcast together with shapes (1,4) (4,1000) "
     ]
    }
   ],
   "source": [
    "nn_struct = [p, 4, 8, 16, 8, 4, 1]\n",
    "neural_net = create_nn(nn_struct, sigm)\n",
    "\n",
    "# RMSE\n",
    "l2_loss = (lambda y_pred, y_true: np.mean((y_pred - y_true)**2),\n",
    "           lambda y_pred, y_true: (y_pred - y_true)) # Deriv\n",
    "\n",
    "def train(neural_net, X, y, l2_loss, lr=0.001, train=True):\n",
    "    output = [(None, X)]\n",
    "    print('y: ', y.shape)\n",
    "    # Forward prop\n",
    "    for l, layer in enumerate(neural_net):\n",
    "        Z = neural_net[l].W.dot(output[-1][1]) + neural_net[l].b\n",
    "        A = neural_net[l].act_f[0](Z)\n",
    "        output.append((Z, A))\n",
    "    if train:\n",
    "        # Backward prop\n",
    "        deltas = []\n",
    "        for l in reversed(range(0, len(neural_net))):\n",
    "            z = output[l+1][0]\n",
    "            a = output[l+1][1]\n",
    "            \n",
    "            if l == len(neural_net) - 1: # Last layer\n",
    "                deltas.insert(0, l2_loss[1](a, y) * neural_net[l].act_f[1](a))\n",
    "            else:\n",
    "                deltas.insert(0, deltas[0].dot(temp_W.T) * neural_net[l].act_f[1](a))\n",
    "            \n",
    "            temp_W = neural_net[l].W\n",
    "            \n",
    "            # Gradient descent\n",
    "            neural_net[l].b = neural_net[l].b - np.mean(deltas[0], axis=0, keepdims=True) * lr\n",
    "            print((output[l][1].dot(deltas[0].T) * lr).shape, neural_net[l].W.T.shape)\n",
    "            neural_net[l].W = neural_net[l].W - output[l][1].dot(deltas[0].T) * lr\n",
    "\n",
    "    return output[-1][1]\n",
    "\n",
    "train(neural_net, X_test, y_test, l2_loss)"
   ]
  },
  {
   "cell_type": "markdown",
   "id": "1e4a15e0",
   "metadata": {},
   "source": []
  },
  {
   "cell_type": "markdown",
   "id": "a6ed7f89",
   "metadata": {},
   "source": [
    "# With NN"
   ]
  },
  {
   "cell_type": "code",
   "execution_count": null,
   "id": "fd27ae48",
   "metadata": {},
   "outputs": [],
   "source": []
  },
  {
   "cell_type": "markdown",
   "id": "264163ca",
   "metadata": {},
   "source": [
    "#"
   ]
  },
  {
   "cell_type": "markdown",
   "id": "8020566e",
   "metadata": {},
   "source": [
    "# Push results"
   ]
  },
  {
   "cell_type": "code",
   "execution_count": 80,
   "id": "64f9ffdd",
   "metadata": {},
   "outputs": [
    {
     "data": {
      "text/html": [
       "<div>\n",
       "<style scoped>\n",
       "    .dataframe tbody tr th:only-of-type {\n",
       "        vertical-align: middle;\n",
       "    }\n",
       "\n",
       "    .dataframe tbody tr th {\n",
       "        vertical-align: top;\n",
       "    }\n",
       "\n",
       "    .dataframe thead th {\n",
       "        text-align: right;\n",
       "    }\n",
       "</style>\n",
       "<table border=\"1\" class=\"dataframe\">\n",
       "  <thead>\n",
       "    <tr style=\"text-align: right;\">\n",
       "      <th></th>\n",
       "      <th>ImageId</th>\n",
       "      <th>Label</th>\n",
       "    </tr>\n",
       "  </thead>\n",
       "  <tbody>\n",
       "    <tr>\n",
       "      <th>0</th>\n",
       "      <td>1</td>\n",
       "      <td>0</td>\n",
       "    </tr>\n",
       "    <tr>\n",
       "      <th>1</th>\n",
       "      <td>2</td>\n",
       "      <td>0</td>\n",
       "    </tr>\n",
       "    <tr>\n",
       "      <th>2</th>\n",
       "      <td>3</td>\n",
       "      <td>0</td>\n",
       "    </tr>\n",
       "    <tr>\n",
       "      <th>3</th>\n",
       "      <td>4</td>\n",
       "      <td>0</td>\n",
       "    </tr>\n",
       "    <tr>\n",
       "      <th>4</th>\n",
       "      <td>5</td>\n",
       "      <td>0</td>\n",
       "    </tr>\n",
       "  </tbody>\n",
       "</table>\n",
       "</div>"
      ],
      "text/plain": [
       "   ImageId  Label\n",
       "0        1      0\n",
       "1        2      0\n",
       "2        3      0\n",
       "3        4      0\n",
       "4        5      0"
      ]
     },
     "execution_count": 80,
     "metadata": {},
     "output_type": "execute_result"
    }
   ],
   "source": [
    "sample_submission = pd.read_csv('sample_submission.csv', index_col=False)\n",
    "sample_submission.head()"
   ]
  },
  {
   "cell_type": "code",
   "execution_count": 81,
   "id": "8376b1cc",
   "metadata": {},
   "outputs": [
    {
     "data": {
      "text/plain": [
       "(28000, 28000)"
      ]
     },
     "execution_count": 81,
     "metadata": {},
     "output_type": "execute_result"
    }
   ],
   "source": [
    "len(preds), len(test_df.index)"
   ]
  },
  {
   "cell_type": "code",
   "execution_count": 82,
   "id": "0c8fa4e3",
   "metadata": {},
   "outputs": [
    {
     "data": {
      "text/html": [
       "<div>\n",
       "<style scoped>\n",
       "    .dataframe tbody tr th:only-of-type {\n",
       "        vertical-align: middle;\n",
       "    }\n",
       "\n",
       "    .dataframe tbody tr th {\n",
       "        vertical-align: top;\n",
       "    }\n",
       "\n",
       "    .dataframe thead th {\n",
       "        text-align: right;\n",
       "    }\n",
       "</style>\n",
       "<table border=\"1\" class=\"dataframe\">\n",
       "  <thead>\n",
       "    <tr style=\"text-align: right;\">\n",
       "      <th></th>\n",
       "      <th>ImageId</th>\n",
       "      <th>Label</th>\n",
       "    </tr>\n",
       "  </thead>\n",
       "  <tbody>\n",
       "    <tr>\n",
       "      <th>0</th>\n",
       "      <td>1</td>\n",
       "      <td>2</td>\n",
       "    </tr>\n",
       "    <tr>\n",
       "      <th>1</th>\n",
       "      <td>2</td>\n",
       "      <td>0</td>\n",
       "    </tr>\n",
       "    <tr>\n",
       "      <th>2</th>\n",
       "      <td>3</td>\n",
       "      <td>9</td>\n",
       "    </tr>\n",
       "    <tr>\n",
       "      <th>3</th>\n",
       "      <td>4</td>\n",
       "      <td>7</td>\n",
       "    </tr>\n",
       "    <tr>\n",
       "      <th>4</th>\n",
       "      <td>5</td>\n",
       "      <td>3</td>\n",
       "    </tr>\n",
       "  </tbody>\n",
       "</table>\n",
       "</div>"
      ],
      "text/plain": [
       "   ImageId  Label\n",
       "0        1      2\n",
       "1        2      0\n",
       "2        3      9\n",
       "3        4      7\n",
       "4        5      3"
      ]
     },
     "execution_count": 82,
     "metadata": {},
     "output_type": "execute_result"
    }
   ],
   "source": [
    "submission_df = pd.DataFrame({'ImageId':test_df.index+1, 'Label':preds})\n",
    "submission_df.head()"
   ]
  },
  {
   "cell_type": "code",
   "execution_count": 83,
   "id": "a27bca96",
   "metadata": {},
   "outputs": [],
   "source": [
    "submission_df.to_csv('NN-from-scratch-2.csv', index=False)"
   ]
  },
  {
   "cell_type": "code",
   "execution_count": null,
   "id": "d8ca9b6a",
   "metadata": {},
   "outputs": [],
   "source": []
  }
 ],
 "metadata": {
  "kernelspec": {
   "display_name": "Python 3 (ipykernel)",
   "language": "python",
   "name": "python3"
  },
  "language_info": {
   "codemirror_mode": {
    "name": "ipython",
    "version": 3
   },
   "file_extension": ".py",
   "mimetype": "text/x-python",
   "name": "python",
   "nbconvert_exporter": "python",
   "pygments_lexer": "ipython3",
   "version": "3.9.16"
  },
  "nbTranslate": {
   "displayLangs": [
    "*"
   ],
   "hotkey": "alt-t",
   "langInMainMenu": true,
   "sourceLang": "en",
   "targetLang": "fr",
   "useGoogleTranslate": true
  },
  "notify_time": "0",
  "toc": {
   "base_numbering": 1,
   "nav_menu": {},
   "number_sections": true,
   "sideBar": true,
   "skip_h1_title": false,
   "title_cell": "Table of Contents",
   "title_sidebar": "Contents",
   "toc_cell": false,
   "toc_position": {
    "height": "calc(100% - 180px)",
    "left": "10px",
    "top": "150px",
    "width": "225px"
   },
   "toc_section_display": true,
   "toc_window_display": true
  },
  "varInspector": {
   "cols": {
    "lenName": 16,
    "lenType": 16,
    "lenVar": 40
   },
   "kernels_config": {
    "python": {
     "delete_cmd_postfix": "",
     "delete_cmd_prefix": "del ",
     "library": "var_list.py",
     "varRefreshCmd": "print(var_dic_list())"
    },
    "r": {
     "delete_cmd_postfix": ") ",
     "delete_cmd_prefix": "rm(",
     "library": "var_list.r",
     "varRefreshCmd": "cat(var_dic_list()) "
    }
   },
   "types_to_exclude": [
    "module",
    "function",
    "builtin_function_or_method",
    "instance",
    "_Feature"
   ],
   "window_display": false
  }
 },
 "nbformat": 4,
 "nbformat_minor": 5
}
