{
 "cells": [
  {
   "cell_type": "markdown",
   "id": "9bbb3728",
   "metadata": {},
   "source": [
    "# Housing Prices Competition"
   ]
  },
  {
   "cell_type": "markdown",
   "id": "12375e0b",
   "metadata": {},
   "source": [
    "# Dataset: https://www.kaggle.com/competitions/home-data-for-ml-course/overview"
   ]
  },
  {
   "cell_type": "markdown",
   "id": "fb478252",
   "metadata": {},
   "source": [
    "# Objetive: \n",
    "    With 79 explanatory variables describing (almost) every aspect of residential homes in Ames, Iowa, this competition challenges you to predict the final price of each home."
   ]
  },
  {
   "cell_type": "markdown",
   "id": "c10e49fb",
   "metadata": {},
   "source": [
    "# Evaluation : \n",
    "    Submissions are evaluated on Root-Mean-Squared-Error (RMSE) between the logarithm of the predicted value and the logarithm of the observed sales price. (Taking logs means that errors in predicting expensive houses and cheap houses will affect the result equally.)"
   ]
  },
  {
   "cell_type": "markdown",
   "id": "5c2f126c",
   "metadata": {},
   "source": [
    "# -------------------------------------------------------------------------------------------------------------------------------------------\n",
    "# Data exploration"
   ]
  },
  {
   "cell_type": "code",
   "execution_count": 1,
   "id": "9d21d3f7",
   "metadata": {
    "code_folding": [
     0
    ]
   },
   "outputs": [],
   "source": [
    "# Imports\n",
    "import pandas as pd\n",
    "import numpy as np\n",
    "from matplotlib import pyplot as plt\n",
    "import seaborn as sns\n",
    "import missingno as ms"
   ]
  },
  {
   "cell_type": "code",
   "execution_count": 30,
   "id": "66ad2b69",
   "metadata": {},
   "outputs": [],
   "source": [
    "train_df = pd.read_csv('train.csv')\n",
    "test_df = pd.read_csv('test.csv')"
   ]
  },
  {
   "cell_type": "markdown",
   "id": "7b087400",
   "metadata": {},
   "source": [
    "# Train_df"
   ]
  },
  {
   "cell_type": "code",
   "execution_count": 3,
   "id": "77f407af",
   "metadata": {},
   "outputs": [
    {
     "data": {
      "text/plain": [
       "(1460, 81)"
      ]
     },
     "metadata": {},
     "output_type": "display_data"
    },
    {
     "data": {
      "text/html": [
       "<div>\n",
       "<style scoped>\n",
       "    .dataframe tbody tr th:only-of-type {\n",
       "        vertical-align: middle;\n",
       "    }\n",
       "\n",
       "    .dataframe tbody tr th {\n",
       "        vertical-align: top;\n",
       "    }\n",
       "\n",
       "    .dataframe thead th {\n",
       "        text-align: right;\n",
       "    }\n",
       "</style>\n",
       "<table border=\"1\" class=\"dataframe\">\n",
       "  <thead>\n",
       "    <tr style=\"text-align: right;\">\n",
       "      <th></th>\n",
       "      <th>Id</th>\n",
       "      <th>MSSubClass</th>\n",
       "      <th>MSZoning</th>\n",
       "      <th>LotFrontage</th>\n",
       "      <th>LotArea</th>\n",
       "      <th>Street</th>\n",
       "      <th>Alley</th>\n",
       "      <th>LotShape</th>\n",
       "      <th>LandContour</th>\n",
       "      <th>Utilities</th>\n",
       "      <th>...</th>\n",
       "      <th>PoolArea</th>\n",
       "      <th>PoolQC</th>\n",
       "      <th>Fence</th>\n",
       "      <th>MiscFeature</th>\n",
       "      <th>MiscVal</th>\n",
       "      <th>MoSold</th>\n",
       "      <th>YrSold</th>\n",
       "      <th>SaleType</th>\n",
       "      <th>SaleCondition</th>\n",
       "      <th>SalePrice</th>\n",
       "    </tr>\n",
       "  </thead>\n",
       "  <tbody>\n",
       "    <tr>\n",
       "      <th>0</th>\n",
       "      <td>1</td>\n",
       "      <td>60</td>\n",
       "      <td>RL</td>\n",
       "      <td>65.0</td>\n",
       "      <td>8450</td>\n",
       "      <td>Pave</td>\n",
       "      <td>NaN</td>\n",
       "      <td>Reg</td>\n",
       "      <td>Lvl</td>\n",
       "      <td>AllPub</td>\n",
       "      <td>...</td>\n",
       "      <td>0</td>\n",
       "      <td>NaN</td>\n",
       "      <td>NaN</td>\n",
       "      <td>NaN</td>\n",
       "      <td>0</td>\n",
       "      <td>2</td>\n",
       "      <td>2008</td>\n",
       "      <td>WD</td>\n",
       "      <td>Normal</td>\n",
       "      <td>208500</td>\n",
       "    </tr>\n",
       "    <tr>\n",
       "      <th>1</th>\n",
       "      <td>2</td>\n",
       "      <td>20</td>\n",
       "      <td>RL</td>\n",
       "      <td>80.0</td>\n",
       "      <td>9600</td>\n",
       "      <td>Pave</td>\n",
       "      <td>NaN</td>\n",
       "      <td>Reg</td>\n",
       "      <td>Lvl</td>\n",
       "      <td>AllPub</td>\n",
       "      <td>...</td>\n",
       "      <td>0</td>\n",
       "      <td>NaN</td>\n",
       "      <td>NaN</td>\n",
       "      <td>NaN</td>\n",
       "      <td>0</td>\n",
       "      <td>5</td>\n",
       "      <td>2007</td>\n",
       "      <td>WD</td>\n",
       "      <td>Normal</td>\n",
       "      <td>181500</td>\n",
       "    </tr>\n",
       "    <tr>\n",
       "      <th>2</th>\n",
       "      <td>3</td>\n",
       "      <td>60</td>\n",
       "      <td>RL</td>\n",
       "      <td>68.0</td>\n",
       "      <td>11250</td>\n",
       "      <td>Pave</td>\n",
       "      <td>NaN</td>\n",
       "      <td>IR1</td>\n",
       "      <td>Lvl</td>\n",
       "      <td>AllPub</td>\n",
       "      <td>...</td>\n",
       "      <td>0</td>\n",
       "      <td>NaN</td>\n",
       "      <td>NaN</td>\n",
       "      <td>NaN</td>\n",
       "      <td>0</td>\n",
       "      <td>9</td>\n",
       "      <td>2008</td>\n",
       "      <td>WD</td>\n",
       "      <td>Normal</td>\n",
       "      <td>223500</td>\n",
       "    </tr>\n",
       "    <tr>\n",
       "      <th>3</th>\n",
       "      <td>4</td>\n",
       "      <td>70</td>\n",
       "      <td>RL</td>\n",
       "      <td>60.0</td>\n",
       "      <td>9550</td>\n",
       "      <td>Pave</td>\n",
       "      <td>NaN</td>\n",
       "      <td>IR1</td>\n",
       "      <td>Lvl</td>\n",
       "      <td>AllPub</td>\n",
       "      <td>...</td>\n",
       "      <td>0</td>\n",
       "      <td>NaN</td>\n",
       "      <td>NaN</td>\n",
       "      <td>NaN</td>\n",
       "      <td>0</td>\n",
       "      <td>2</td>\n",
       "      <td>2006</td>\n",
       "      <td>WD</td>\n",
       "      <td>Abnorml</td>\n",
       "      <td>140000</td>\n",
       "    </tr>\n",
       "    <tr>\n",
       "      <th>4</th>\n",
       "      <td>5</td>\n",
       "      <td>60</td>\n",
       "      <td>RL</td>\n",
       "      <td>84.0</td>\n",
       "      <td>14260</td>\n",
       "      <td>Pave</td>\n",
       "      <td>NaN</td>\n",
       "      <td>IR1</td>\n",
       "      <td>Lvl</td>\n",
       "      <td>AllPub</td>\n",
       "      <td>...</td>\n",
       "      <td>0</td>\n",
       "      <td>NaN</td>\n",
       "      <td>NaN</td>\n",
       "      <td>NaN</td>\n",
       "      <td>0</td>\n",
       "      <td>12</td>\n",
       "      <td>2008</td>\n",
       "      <td>WD</td>\n",
       "      <td>Normal</td>\n",
       "      <td>250000</td>\n",
       "    </tr>\n",
       "  </tbody>\n",
       "</table>\n",
       "<p>5 rows × 81 columns</p>\n",
       "</div>"
      ],
      "text/plain": [
       "   Id  MSSubClass MSZoning  LotFrontage  LotArea Street Alley LotShape  \\\n",
       "0   1          60       RL         65.0     8450   Pave   NaN      Reg   \n",
       "1   2          20       RL         80.0     9600   Pave   NaN      Reg   \n",
       "2   3          60       RL         68.0    11250   Pave   NaN      IR1   \n",
       "3   4          70       RL         60.0     9550   Pave   NaN      IR1   \n",
       "4   5          60       RL         84.0    14260   Pave   NaN      IR1   \n",
       "\n",
       "  LandContour Utilities  ... PoolArea PoolQC Fence MiscFeature MiscVal MoSold  \\\n",
       "0         Lvl    AllPub  ...        0    NaN   NaN         NaN       0      2   \n",
       "1         Lvl    AllPub  ...        0    NaN   NaN         NaN       0      5   \n",
       "2         Lvl    AllPub  ...        0    NaN   NaN         NaN       0      9   \n",
       "3         Lvl    AllPub  ...        0    NaN   NaN         NaN       0      2   \n",
       "4         Lvl    AllPub  ...        0    NaN   NaN         NaN       0     12   \n",
       "\n",
       "  YrSold  SaleType  SaleCondition  SalePrice  \n",
       "0   2008        WD         Normal     208500  \n",
       "1   2007        WD         Normal     181500  \n",
       "2   2008        WD         Normal     223500  \n",
       "3   2006        WD        Abnorml     140000  \n",
       "4   2008        WD         Normal     250000  \n",
       "\n",
       "[5 rows x 81 columns]"
      ]
     },
     "metadata": {},
     "output_type": "display_data"
    },
    {
     "data": {
      "text/plain": [
       "<AxesSubplot: >"
      ]
     },
     "metadata": {},
     "output_type": "display_data"
    },
    {
     "data": {
      "image/png": "[encoded data removed]",
      "text/plain": [
       "<Figure size 2000x200 with 2 Axes>"
      ]
     },
     "metadata": {},
     "output_type": "display_data"
    }
   ],
   "source": [
    "display(train_df.shape, train_df.head(), ms.matrix(train_df, figsize=(20,2)))"
   ]
  },
  {
   "cell_type": "markdown",
   "id": "d0dbf87d",
   "metadata": {},
   "source": [
    "# Test_df"
   ]
  },
  {
   "cell_type": "code",
   "execution_count": 4,
   "id": "4f912423",
   "metadata": {},
   "outputs": [
    {
     "data": {
      "text/plain": [
       "(1459, 80)"
      ]
     },
     "metadata": {},
     "output_type": "display_data"
    },
    {
     "data": {
      "text/html": [
       "<div>\n",
       "<style scoped>\n",
       "    .dataframe tbody tr th:only-of-type {\n",
       "        vertical-align: middle;\n",
       "    }\n",
       "\n",
       "    .dataframe tbody tr th {\n",
       "        vertical-align: top;\n",
       "    }\n",
       "\n",
       "    .dataframe thead th {\n",
       "        text-align: right;\n",
       "    }\n",
       "</style>\n",
       "<table border=\"1\" class=\"dataframe\">\n",
       "  <thead>\n",
       "    <tr style=\"text-align: right;\">\n",
       "      <th></th>\n",
       "      <th>Id</th>\n",
       "      <th>MSSubClass</th>\n",
       "      <th>MSZoning</th>\n",
       "      <th>LotFrontage</th>\n",
       "      <th>LotArea</th>\n",
       "      <th>Street</th>\n",
       "      <th>Alley</th>\n",
       "      <th>LotShape</th>\n",
       "      <th>LandContour</th>\n",
       "      <th>Utilities</th>\n",
       "      <th>...</th>\n",
       "      <th>ScreenPorch</th>\n",
       "      <th>PoolArea</th>\n",
       "      <th>PoolQC</th>\n",
       "      <th>Fence</th>\n",
       "      <th>MiscFeature</th>\n",
       "      <th>MiscVal</th>\n",
       "      <th>MoSold</th>\n",
       "      <th>YrSold</th>\n",
       "      <th>SaleType</th>\n",
       "      <th>SaleCondition</th>\n",
       "    </tr>\n",
       "  </thead>\n",
       "  <tbody>\n",
       "    <tr>\n",
       "      <th>0</th>\n",
       "      <td>1461</td>\n",
       "      <td>20</td>\n",
       "      <td>RH</td>\n",
       "      <td>80.0</td>\n",
       "      <td>11622</td>\n",
       "      <td>Pave</td>\n",
       "      <td>NaN</td>\n",
       "      <td>Reg</td>\n",
       "      <td>Lvl</td>\n",
       "      <td>AllPub</td>\n",
       "      <td>...</td>\n",
       "      <td>120</td>\n",
       "      <td>0</td>\n",
       "      <td>NaN</td>\n",
       "      <td>MnPrv</td>\n",
       "      <td>NaN</td>\n",
       "      <td>0</td>\n",
       "      <td>6</td>\n",
       "      <td>2010</td>\n",
       "      <td>WD</td>\n",
       "      <td>Normal</td>\n",
       "    </tr>\n",
       "    <tr>\n",
       "      <th>1</th>\n",
       "      <td>1462</td>\n",
       "      <td>20</td>\n",
       "      <td>RL</td>\n",
       "      <td>81.0</td>\n",
       "      <td>14267</td>\n",
       "      <td>Pave</td>\n",
       "      <td>NaN</td>\n",
       "      <td>IR1</td>\n",
       "      <td>Lvl</td>\n",
       "      <td>AllPub</td>\n",
       "      <td>...</td>\n",
       "      <td>0</td>\n",
       "      <td>0</td>\n",
       "      <td>NaN</td>\n",
       "      <td>NaN</td>\n",
       "      <td>Gar2</td>\n",
       "      <td>12500</td>\n",
       "      <td>6</td>\n",
       "      <td>2010</td>\n",
       "      <td>WD</td>\n",
       "      <td>Normal</td>\n",
       "    </tr>\n",
       "    <tr>\n",
       "      <th>2</th>\n",
       "      <td>1463</td>\n",
       "      <td>60</td>\n",
       "      <td>RL</td>\n",
       "      <td>74.0</td>\n",
       "      <td>13830</td>\n",
       "      <td>Pave</td>\n",
       "      <td>NaN</td>\n",
       "      <td>IR1</td>\n",
       "      <td>Lvl</td>\n",
       "      <td>AllPub</td>\n",
       "      <td>...</td>\n",
       "      <td>0</td>\n",
       "      <td>0</td>\n",
       "      <td>NaN</td>\n",
       "      <td>MnPrv</td>\n",
       "      <td>NaN</td>\n",
       "      <td>0</td>\n",
       "      <td>3</td>\n",
       "      <td>2010</td>\n",
       "      <td>WD</td>\n",
       "      <td>Normal</td>\n",
       "    </tr>\n",
       "    <tr>\n",
       "      <th>3</th>\n",
       "      <td>1464</td>\n",
       "      <td>60</td>\n",
       "      <td>RL</td>\n",
       "      <td>78.0</td>\n",
       "      <td>9978</td>\n",
       "      <td>Pave</td>\n",
       "      <td>NaN</td>\n",
       "      <td>IR1</td>\n",
       "      <td>Lvl</td>\n",
       "      <td>AllPub</td>\n",
       "      <td>...</td>\n",
       "      <td>0</td>\n",
       "      <td>0</td>\n",
       "      <td>NaN</td>\n",
       "      <td>NaN</td>\n",
       "      <td>NaN</td>\n",
       "      <td>0</td>\n",
       "      <td>6</td>\n",
       "      <td>2010</td>\n",
       "      <td>WD</td>\n",
       "      <td>Normal</td>\n",
       "    </tr>\n",
       "    <tr>\n",
       "      <th>4</th>\n",
       "      <td>1465</td>\n",
       "      <td>120</td>\n",
       "      <td>RL</td>\n",
       "      <td>43.0</td>\n",
       "      <td>5005</td>\n",
       "      <td>Pave</td>\n",
       "      <td>NaN</td>\n",
       "      <td>IR1</td>\n",
       "      <td>HLS</td>\n",
       "      <td>AllPub</td>\n",
       "      <td>...</td>\n",
       "      <td>144</td>\n",
       "      <td>0</td>\n",
       "      <td>NaN</td>\n",
       "      <td>NaN</td>\n",
       "      <td>NaN</td>\n",
       "      <td>0</td>\n",
       "      <td>1</td>\n",
       "      <td>2010</td>\n",
       "      <td>WD</td>\n",
       "      <td>Normal</td>\n",
       "    </tr>\n",
       "  </tbody>\n",
       "</table>\n",
       "<p>5 rows × 80 columns</p>\n",
       "</div>"
      ],
      "text/plain": [
       "     Id  MSSubClass MSZoning  LotFrontage  LotArea Street Alley LotShape  \\\n",
       "0  1461          20       RH         80.0    11622   Pave   NaN      Reg   \n",
       "1  1462          20       RL         81.0    14267   Pave   NaN      IR1   \n",
       "2  1463          60       RL         74.0    13830   Pave   NaN      IR1   \n",
       "3  1464          60       RL         78.0     9978   Pave   NaN      IR1   \n",
       "4  1465         120       RL         43.0     5005   Pave   NaN      IR1   \n",
       "\n",
       "  LandContour Utilities  ... ScreenPorch PoolArea PoolQC  Fence MiscFeature  \\\n",
       "0         Lvl    AllPub  ...         120        0    NaN  MnPrv         NaN   \n",
       "1         Lvl    AllPub  ...           0        0    NaN    NaN        Gar2   \n",
       "2         Lvl    AllPub  ...           0        0    NaN  MnPrv         NaN   \n",
       "3         Lvl    AllPub  ...           0        0    NaN    NaN         NaN   \n",
       "4         HLS    AllPub  ...         144        0    NaN    NaN         NaN   \n",
       "\n",
       "  MiscVal MoSold  YrSold  SaleType  SaleCondition  \n",
       "0       0      6    2010        WD         Normal  \n",
       "1   12500      6    2010        WD         Normal  \n",
       "2       0      3    2010        WD         Normal  \n",
       "3       0      6    2010        WD         Normal  \n",
       "4       0      1    2010        WD         Normal  \n",
       "\n",
       "[5 rows x 80 columns]"
      ]
     },
     "metadata": {},
     "output_type": "display_data"
    },
    {
     "data": {
      "text/plain": [
       "<AxesSubplot: >"
      ]
     },
     "metadata": {},
     "output_type": "display_data"
    },
    {
     "data": {
      "image/png": "[encoded data removed]",
      "text/plain": [
       "<Figure size 2000x200 with 2 Axes>"
      ]
     },
     "metadata": {},
     "output_type": "display_data"
    }
   ],
   "source": [
    "display(test_df.shape, test_df.head(), ms.matrix(test_df, figsize=(20,2)))"
   ]
  },
  {
   "cell_type": "markdown",
   "id": "432999fa",
   "metadata": {},
   "source": [
    "# Correlations"
   ]
  },
  {
   "cell_type": "code",
   "execution_count": 34,
   "id": "a42b06ff",
   "metadata": {},
   "outputs": [
    {
     "name": "stderr",
     "output_type": "stream",
     "text": [
      "/tmp/ipykernel_18594/3483109693.py:1: FutureWarning: The default value of numeric_only in DataFrame.corr is deprecated. In a future version, it will default to False. Select only valid columns or specify the value of numeric_only to silence this warning.\n",
      "  train_df_corr = train_df.corr()\n"
     ]
    },
    {
     "data": {
      "text/plain": [
       "SalePrice       1.000000\n",
       "OverallQual     0.790982\n",
       "GrLivArea       0.708624\n",
       "GarageCars      0.640409\n",
       "GarageArea      0.623431\n",
       "TotalBsmtSF     0.613581\n",
       "1stFlrSF        0.605852\n",
       "FullBath        0.560664\n",
       "TotRmsAbvGrd    0.533723\n",
       "YearBuilt       0.522897\n",
       "YearRemodAdd    0.507101\n",
       "Name: SalePrice, dtype: float64"
      ]
     },
     "execution_count": 34,
     "metadata": {},
     "output_type": "execute_result"
    }
   ],
   "source": [
    "train_df_corr = train_df.corr()\n",
    "dependent_var_corrs = train_df_corr.nlargest(1000,\"SalePrice\")[\"SalePrice\"]\n",
    "dependent_var_corrs = dependent_var_corrs[dependent_var_corrs.values > 0.5]\n",
    "dependent_var_corrs"
   ]
  },
  {
   "cell_type": "markdown",
   "id": "c9bc178e",
   "metadata": {},
   "source": [
    "# Let's reduce the data"
   ]
  },
  {
   "cell_type": "code",
   "execution_count": 5,
   "id": "39d7a817",
   "metadata": {
    "code_folding": [
     0
    ]
   },
   "outputs": [
    {
     "name": "stdout",
     "output_type": "stream",
     "text": [
      "LotFrontage 259\n",
      "Alley 1369\n",
      "MasVnrType 8\n",
      "MasVnrArea 8\n",
      "BsmtQual 37\n",
      "BsmtCond 37\n",
      "BsmtExposure 38\n",
      "BsmtFinType1 37\n",
      "BsmtFinType2 38\n",
      "Electrical 1\n",
      "FireplaceQu 690\n",
      "GarageType 81\n",
      "GarageYrBlt 81\n",
      "GarageFinish 81\n",
      "GarageQual 81\n",
      "GarageCond 81\n",
      "PoolQC 1453\n",
      "Fence 1179\n",
      "MiscFeature 1406\n"
     ]
    }
   ],
   "source": [
    "# Count high NaN columns\n",
    "nan_l = train_df.isna().sum()\n",
    "for x in range(len(nan_l)):\n",
    "    if nan_l[x] > 0:\n",
    "        print(train_df.columns[x], nan_l[x])"
   ]
  },
  {
   "cell_type": "code",
   "execution_count": 6,
   "id": "fef2ad88",
   "metadata": {},
   "outputs": [
    {
     "name": "stdout",
     "output_type": "stream",
     "text": [
      "93.76712328767124 99.52054794520548 80.75342465753425 96.3013698630137 47.26027397260274\n"
     ]
    }
   ],
   "source": [
    "print(train_df['Alley'].isna().sum() * 100 / len(train_df),\n",
    "      train_df['PoolQC'].isna().sum() * 100 / len(train_df),\n",
    "      train_df['Fence'].isna().sum() * 100 / len(train_df),\n",
    "      train_df['MiscFeature'].isna().sum() * 100 / len(train_df),\n",
    "      train_df['FireplaceQu'].isna().sum() * 100 / len(train_df))"
   ]
  },
  {
   "cell_type": "markdown",
   "id": "e588bf8f",
   "metadata": {},
   "source": [
    "## Drops"
   ]
  },
  {
   "cell_type": "code",
   "execution_count": 7,
   "id": "56ddeadf",
   "metadata": {
    "code_folding": []
   },
   "outputs": [],
   "source": [
    "train_df = train_df.drop(['Alley', 'PoolQC', 'Fence', 'MiscFeature', 'FireplaceQu', 'Id'], axis=1)"
   ]
  },
  {
   "cell_type": "markdown",
   "id": "4fd73aec",
   "metadata": {},
   "source": [
    "# Pull apart num cols and object cols"
   ]
  },
  {
   "cell_type": "code",
   "execution_count": 8,
   "id": "97b8bdfc",
   "metadata": {},
   "outputs": [
    {
     "data": {
      "text/html": [
       "<div>\n",
       "<style scoped>\n",
       "    .dataframe tbody tr th:only-of-type {\n",
       "        vertical-align: middle;\n",
       "    }\n",
       "\n",
       "    .dataframe tbody tr th {\n",
       "        vertical-align: top;\n",
       "    }\n",
       "\n",
       "    .dataframe thead th {\n",
       "        text-align: right;\n",
       "    }\n",
       "</style>\n",
       "<table border=\"1\" class=\"dataframe\">\n",
       "  <thead>\n",
       "    <tr style=\"text-align: right;\">\n",
       "      <th></th>\n",
       "      <th>MSZoning</th>\n",
       "      <th>Street</th>\n",
       "      <th>LotShape</th>\n",
       "      <th>LandContour</th>\n",
       "      <th>Utilities</th>\n",
       "      <th>LotConfig</th>\n",
       "      <th>LandSlope</th>\n",
       "      <th>Neighborhood</th>\n",
       "      <th>Condition1</th>\n",
       "      <th>Condition2</th>\n",
       "      <th>...</th>\n",
       "      <th>KitchenQual</th>\n",
       "      <th>Functional</th>\n",
       "      <th>GarageType</th>\n",
       "      <th>GarageFinish</th>\n",
       "      <th>GarageQual</th>\n",
       "      <th>GarageCond</th>\n",
       "      <th>PavedDrive</th>\n",
       "      <th>SaleType</th>\n",
       "      <th>SaleCondition</th>\n",
       "      <th>SalePrice</th>\n",
       "    </tr>\n",
       "  </thead>\n",
       "  <tbody>\n",
       "    <tr>\n",
       "      <th>0</th>\n",
       "      <td>RL</td>\n",
       "      <td>Pave</td>\n",
       "      <td>Reg</td>\n",
       "      <td>Lvl</td>\n",
       "      <td>AllPub</td>\n",
       "      <td>Inside</td>\n",
       "      <td>Gtl</td>\n",
       "      <td>CollgCr</td>\n",
       "      <td>Norm</td>\n",
       "      <td>Norm</td>\n",
       "      <td>...</td>\n",
       "      <td>Gd</td>\n",
       "      <td>Typ</td>\n",
       "      <td>Attchd</td>\n",
       "      <td>RFn</td>\n",
       "      <td>TA</td>\n",
       "      <td>TA</td>\n",
       "      <td>Y</td>\n",
       "      <td>WD</td>\n",
       "      <td>Normal</td>\n",
       "      <td>208500</td>\n",
       "    </tr>\n",
       "    <tr>\n",
       "      <th>1</th>\n",
       "      <td>RL</td>\n",
       "      <td>Pave</td>\n",
       "      <td>Reg</td>\n",
       "      <td>Lvl</td>\n",
       "      <td>AllPub</td>\n",
       "      <td>FR2</td>\n",
       "      <td>Gtl</td>\n",
       "      <td>Veenker</td>\n",
       "      <td>Feedr</td>\n",
       "      <td>Norm</td>\n",
       "      <td>...</td>\n",
       "      <td>TA</td>\n",
       "      <td>Typ</td>\n",
       "      <td>Attchd</td>\n",
       "      <td>RFn</td>\n",
       "      <td>TA</td>\n",
       "      <td>TA</td>\n",
       "      <td>Y</td>\n",
       "      <td>WD</td>\n",
       "      <td>Normal</td>\n",
       "      <td>181500</td>\n",
       "    </tr>\n",
       "    <tr>\n",
       "      <th>2</th>\n",
       "      <td>RL</td>\n",
       "      <td>Pave</td>\n",
       "      <td>IR1</td>\n",
       "      <td>Lvl</td>\n",
       "      <td>AllPub</td>\n",
       "      <td>Inside</td>\n",
       "      <td>Gtl</td>\n",
       "      <td>CollgCr</td>\n",
       "      <td>Norm</td>\n",
       "      <td>Norm</td>\n",
       "      <td>...</td>\n",
       "      <td>Gd</td>\n",
       "      <td>Typ</td>\n",
       "      <td>Attchd</td>\n",
       "      <td>RFn</td>\n",
       "      <td>TA</td>\n",
       "      <td>TA</td>\n",
       "      <td>Y</td>\n",
       "      <td>WD</td>\n",
       "      <td>Normal</td>\n",
       "      <td>223500</td>\n",
       "    </tr>\n",
       "    <tr>\n",
       "      <th>3</th>\n",
       "      <td>RL</td>\n",
       "      <td>Pave</td>\n",
       "      <td>IR1</td>\n",
       "      <td>Lvl</td>\n",
       "      <td>AllPub</td>\n",
       "      <td>Corner</td>\n",
       "      <td>Gtl</td>\n",
       "      <td>Crawfor</td>\n",
       "      <td>Norm</td>\n",
       "      <td>Norm</td>\n",
       "      <td>...</td>\n",
       "      <td>Gd</td>\n",
       "      <td>Typ</td>\n",
       "      <td>Detchd</td>\n",
       "      <td>Unf</td>\n",
       "      <td>TA</td>\n",
       "      <td>TA</td>\n",
       "      <td>Y</td>\n",
       "      <td>WD</td>\n",
       "      <td>Abnorml</td>\n",
       "      <td>140000</td>\n",
       "    </tr>\n",
       "    <tr>\n",
       "      <th>4</th>\n",
       "      <td>RL</td>\n",
       "      <td>Pave</td>\n",
       "      <td>IR1</td>\n",
       "      <td>Lvl</td>\n",
       "      <td>AllPub</td>\n",
       "      <td>FR2</td>\n",
       "      <td>Gtl</td>\n",
       "      <td>NoRidge</td>\n",
       "      <td>Norm</td>\n",
       "      <td>Norm</td>\n",
       "      <td>...</td>\n",
       "      <td>Gd</td>\n",
       "      <td>Typ</td>\n",
       "      <td>Attchd</td>\n",
       "      <td>RFn</td>\n",
       "      <td>TA</td>\n",
       "      <td>TA</td>\n",
       "      <td>Y</td>\n",
       "      <td>WD</td>\n",
       "      <td>Normal</td>\n",
       "      <td>250000</td>\n",
       "    </tr>\n",
       "  </tbody>\n",
       "</table>\n",
       "<p>5 rows × 39 columns</p>\n",
       "</div>"
      ],
      "text/plain": [
       "  MSZoning Street LotShape LandContour Utilities LotConfig LandSlope  \\\n",
       "0       RL   Pave      Reg         Lvl    AllPub    Inside       Gtl   \n",
       "1       RL   Pave      Reg         Lvl    AllPub       FR2       Gtl   \n",
       "2       RL   Pave      IR1         Lvl    AllPub    Inside       Gtl   \n",
       "3       RL   Pave      IR1         Lvl    AllPub    Corner       Gtl   \n",
       "4       RL   Pave      IR1         Lvl    AllPub       FR2       Gtl   \n",
       "\n",
       "  Neighborhood Condition1 Condition2  ... KitchenQual Functional GarageType  \\\n",
       "0      CollgCr       Norm       Norm  ...          Gd        Typ     Attchd   \n",
       "1      Veenker      Feedr       Norm  ...          TA        Typ     Attchd   \n",
       "2      CollgCr       Norm       Norm  ...          Gd        Typ     Attchd   \n",
       "3      Crawfor       Norm       Norm  ...          Gd        Typ     Detchd   \n",
       "4      NoRidge       Norm       Norm  ...          Gd        Typ     Attchd   \n",
       "\n",
       "  GarageFinish GarageQual GarageCond PavedDrive SaleType SaleCondition  \\\n",
       "0          RFn         TA         TA          Y       WD        Normal   \n",
       "1          RFn         TA         TA          Y       WD        Normal   \n",
       "2          RFn         TA         TA          Y       WD        Normal   \n",
       "3          Unf         TA         TA          Y       WD       Abnorml   \n",
       "4          RFn         TA         TA          Y       WD        Normal   \n",
       "\n",
       "  SalePrice  \n",
       "0    208500  \n",
       "1    181500  \n",
       "2    223500  \n",
       "3    140000  \n",
       "4    250000  \n",
       "\n",
       "[5 rows x 39 columns]"
      ]
     },
     "execution_count": 8,
     "metadata": {},
     "output_type": "execute_result"
    }
   ],
   "source": [
    "object_df = train_df.select_dtypes(include=object)\n",
    "object_df['SalePrice'] = train_df['SalePrice']\n",
    "object_df.head()"
   ]
  },
  {
   "cell_type": "code",
   "execution_count": 9,
   "id": "3dc32111",
   "metadata": {
    "code_folding": []
   },
   "outputs": [
    {
     "data": {
      "text/html": [
       "<div>\n",
       "<style scoped>\n",
       "    .dataframe tbody tr th:only-of-type {\n",
       "        vertical-align: middle;\n",
       "    }\n",
       "\n",
       "    .dataframe tbody tr th {\n",
       "        vertical-align: top;\n",
       "    }\n",
       "\n",
       "    .dataframe thead th {\n",
       "        text-align: right;\n",
       "    }\n",
       "</style>\n",
       "<table border=\"1\" class=\"dataframe\">\n",
       "  <thead>\n",
       "    <tr style=\"text-align: right;\">\n",
       "      <th></th>\n",
       "      <th>MSSubClass</th>\n",
       "      <th>LotFrontage</th>\n",
       "      <th>LotArea</th>\n",
       "      <th>OverallQual</th>\n",
       "      <th>OverallCond</th>\n",
       "      <th>YearBuilt</th>\n",
       "      <th>YearRemodAdd</th>\n",
       "      <th>MasVnrArea</th>\n",
       "      <th>BsmtFinSF1</th>\n",
       "      <th>BsmtFinSF2</th>\n",
       "      <th>...</th>\n",
       "      <th>WoodDeckSF</th>\n",
       "      <th>OpenPorchSF</th>\n",
       "      <th>EnclosedPorch</th>\n",
       "      <th>3SsnPorch</th>\n",
       "      <th>ScreenPorch</th>\n",
       "      <th>PoolArea</th>\n",
       "      <th>MiscVal</th>\n",
       "      <th>MoSold</th>\n",
       "      <th>YrSold</th>\n",
       "      <th>SalePrice</th>\n",
       "    </tr>\n",
       "  </thead>\n",
       "  <tbody>\n",
       "    <tr>\n",
       "      <th>0</th>\n",
       "      <td>60</td>\n",
       "      <td>65.0</td>\n",
       "      <td>8450</td>\n",
       "      <td>7</td>\n",
       "      <td>5</td>\n",
       "      <td>2003</td>\n",
       "      <td>2003</td>\n",
       "      <td>196.0</td>\n",
       "      <td>706</td>\n",
       "      <td>0</td>\n",
       "      <td>...</td>\n",
       "      <td>0</td>\n",
       "      <td>61</td>\n",
       "      <td>0</td>\n",
       "      <td>0</td>\n",
       "      <td>0</td>\n",
       "      <td>0</td>\n",
       "      <td>0</td>\n",
       "      <td>2</td>\n",
       "      <td>2008</td>\n",
       "      <td>208500</td>\n",
       "    </tr>\n",
       "    <tr>\n",
       "      <th>1</th>\n",
       "      <td>20</td>\n",
       "      <td>80.0</td>\n",
       "      <td>9600</td>\n",
       "      <td>6</td>\n",
       "      <td>8</td>\n",
       "      <td>1976</td>\n",
       "      <td>1976</td>\n",
       "      <td>0.0</td>\n",
       "      <td>978</td>\n",
       "      <td>0</td>\n",
       "      <td>...</td>\n",
       "      <td>298</td>\n",
       "      <td>0</td>\n",
       "      <td>0</td>\n",
       "      <td>0</td>\n",
       "      <td>0</td>\n",
       "      <td>0</td>\n",
       "      <td>0</td>\n",
       "      <td>5</td>\n",
       "      <td>2007</td>\n",
       "      <td>181500</td>\n",
       "    </tr>\n",
       "    <tr>\n",
       "      <th>2</th>\n",
       "      <td>60</td>\n",
       "      <td>68.0</td>\n",
       "      <td>11250</td>\n",
       "      <td>7</td>\n",
       "      <td>5</td>\n",
       "      <td>2001</td>\n",
       "      <td>2002</td>\n",
       "      <td>162.0</td>\n",
       "      <td>486</td>\n",
       "      <td>0</td>\n",
       "      <td>...</td>\n",
       "      <td>0</td>\n",
       "      <td>42</td>\n",
       "      <td>0</td>\n",
       "      <td>0</td>\n",
       "      <td>0</td>\n",
       "      <td>0</td>\n",
       "      <td>0</td>\n",
       "      <td>9</td>\n",
       "      <td>2008</td>\n",
       "      <td>223500</td>\n",
       "    </tr>\n",
       "    <tr>\n",
       "      <th>3</th>\n",
       "      <td>70</td>\n",
       "      <td>60.0</td>\n",
       "      <td>9550</td>\n",
       "      <td>7</td>\n",
       "      <td>5</td>\n",
       "      <td>1915</td>\n",
       "      <td>1970</td>\n",
       "      <td>0.0</td>\n",
       "      <td>216</td>\n",
       "      <td>0</td>\n",
       "      <td>...</td>\n",
       "      <td>0</td>\n",
       "      <td>35</td>\n",
       "      <td>272</td>\n",
       "      <td>0</td>\n",
       "      <td>0</td>\n",
       "      <td>0</td>\n",
       "      <td>0</td>\n",
       "      <td>2</td>\n",
       "      <td>2006</td>\n",
       "      <td>140000</td>\n",
       "    </tr>\n",
       "    <tr>\n",
       "      <th>4</th>\n",
       "      <td>60</td>\n",
       "      <td>84.0</td>\n",
       "      <td>14260</td>\n",
       "      <td>8</td>\n",
       "      <td>5</td>\n",
       "      <td>2000</td>\n",
       "      <td>2000</td>\n",
       "      <td>350.0</td>\n",
       "      <td>655</td>\n",
       "      <td>0</td>\n",
       "      <td>...</td>\n",
       "      <td>192</td>\n",
       "      <td>84</td>\n",
       "      <td>0</td>\n",
       "      <td>0</td>\n",
       "      <td>0</td>\n",
       "      <td>0</td>\n",
       "      <td>0</td>\n",
       "      <td>12</td>\n",
       "      <td>2008</td>\n",
       "      <td>250000</td>\n",
       "    </tr>\n",
       "  </tbody>\n",
       "</table>\n",
       "<p>5 rows × 37 columns</p>\n",
       "</div>"
      ],
      "text/plain": [
       "   MSSubClass  LotFrontage  LotArea  OverallQual  OverallCond  YearBuilt  \\\n",
       "0          60         65.0     8450            7            5       2003   \n",
       "1          20         80.0     9600            6            8       1976   \n",
       "2          60         68.0    11250            7            5       2001   \n",
       "3          70         60.0     9550            7            5       1915   \n",
       "4          60         84.0    14260            8            5       2000   \n",
       "\n",
       "   YearRemodAdd  MasVnrArea  BsmtFinSF1  BsmtFinSF2  ...  WoodDeckSF  \\\n",
       "0          2003       196.0         706           0  ...           0   \n",
       "1          1976         0.0         978           0  ...         298   \n",
       "2          2002       162.0         486           0  ...           0   \n",
       "3          1970         0.0         216           0  ...           0   \n",
       "4          2000       350.0         655           0  ...         192   \n",
       "\n",
       "   OpenPorchSF  EnclosedPorch  3SsnPorch  ScreenPorch  PoolArea  MiscVal  \\\n",
       "0           61              0          0            0         0        0   \n",
       "1            0              0          0            0         0        0   \n",
       "2           42              0          0            0         0        0   \n",
       "3           35            272          0            0         0        0   \n",
       "4           84              0          0            0         0        0   \n",
       "\n",
       "   MoSold  YrSold  SalePrice  \n",
       "0       2    2008     208500  \n",
       "1       5    2007     181500  \n",
       "2       9    2008     223500  \n",
       "3       2    2006     140000  \n",
       "4      12    2008     250000  \n",
       "\n",
       "[5 rows x 37 columns]"
      ]
     },
     "execution_count": 9,
     "metadata": {},
     "output_type": "execute_result"
    }
   ],
   "source": [
    "nums_df = train_df.select_dtypes(include=np.number)\n",
    "nums_df.head()"
   ]
  },
  {
   "cell_type": "markdown",
   "id": "6f9c9f12",
   "metadata": {},
   "source": [
    "# Inspect num cols"
   ]
  },
  {
   "cell_type": "code",
   "execution_count": 10,
   "id": "a517109f",
   "metadata": {},
   "outputs": [
    {
     "data": {
      "text/html": [
       "<div>\n",
       "<style scoped>\n",
       "    .dataframe tbody tr th:only-of-type {\n",
       "        vertical-align: middle;\n",
       "    }\n",
       "\n",
       "    .dataframe tbody tr th {\n",
       "        vertical-align: top;\n",
       "    }\n",
       "\n",
       "    .dataframe thead th {\n",
       "        text-align: right;\n",
       "    }\n",
       "</style>\n",
       "<table border=\"1\" class=\"dataframe\">\n",
       "  <thead>\n",
       "    <tr style=\"text-align: right;\">\n",
       "      <th></th>\n",
       "      <th>MSSubClass</th>\n",
       "      <th>LotFrontage</th>\n",
       "      <th>LotArea</th>\n",
       "      <th>OverallQual</th>\n",
       "      <th>OverallCond</th>\n",
       "      <th>YearBuilt</th>\n",
       "      <th>YearRemodAdd</th>\n",
       "      <th>MasVnrArea</th>\n",
       "      <th>BsmtFinSF1</th>\n",
       "      <th>BsmtFinSF2</th>\n",
       "      <th>...</th>\n",
       "      <th>WoodDeckSF</th>\n",
       "      <th>OpenPorchSF</th>\n",
       "      <th>EnclosedPorch</th>\n",
       "      <th>3SsnPorch</th>\n",
       "      <th>ScreenPorch</th>\n",
       "      <th>PoolArea</th>\n",
       "      <th>MiscVal</th>\n",
       "      <th>MoSold</th>\n",
       "      <th>YrSold</th>\n",
       "      <th>SalePrice</th>\n",
       "    </tr>\n",
       "  </thead>\n",
       "  <tbody>\n",
       "    <tr>\n",
       "      <th>count</th>\n",
       "      <td>1460.000000</td>\n",
       "      <td>1201.000000</td>\n",
       "      <td>1460.000000</td>\n",
       "      <td>1460.000000</td>\n",
       "      <td>1460.000000</td>\n",
       "      <td>1460.000000</td>\n",
       "      <td>1460.000000</td>\n",
       "      <td>1452.000000</td>\n",
       "      <td>1460.000000</td>\n",
       "      <td>1460.000000</td>\n",
       "      <td>...</td>\n",
       "      <td>1460.000000</td>\n",
       "      <td>1460.000000</td>\n",
       "      <td>1460.000000</td>\n",
       "      <td>1460.000000</td>\n",
       "      <td>1460.000000</td>\n",
       "      <td>1460.000000</td>\n",
       "      <td>1460.000000</td>\n",
       "      <td>1460.000000</td>\n",
       "      <td>1460.000000</td>\n",
       "      <td>1460.000000</td>\n",
       "    </tr>\n",
       "    <tr>\n",
       "      <th>mean</th>\n",
       "      <td>56.897260</td>\n",
       "      <td>70.049958</td>\n",
       "      <td>10516.828082</td>\n",
       "      <td>6.099315</td>\n",
       "      <td>5.575342</td>\n",
       "      <td>1971.267808</td>\n",
       "      <td>1984.865753</td>\n",
       "      <td>103.685262</td>\n",
       "      <td>443.639726</td>\n",
       "      <td>46.549315</td>\n",
       "      <td>...</td>\n",
       "      <td>94.244521</td>\n",
       "      <td>46.660274</td>\n",
       "      <td>21.954110</td>\n",
       "      <td>3.409589</td>\n",
       "      <td>15.060959</td>\n",
       "      <td>2.758904</td>\n",
       "      <td>43.489041</td>\n",
       "      <td>6.321918</td>\n",
       "      <td>2007.815753</td>\n",
       "      <td>180921.195890</td>\n",
       "    </tr>\n",
       "    <tr>\n",
       "      <th>std</th>\n",
       "      <td>42.300571</td>\n",
       "      <td>24.284752</td>\n",
       "      <td>9981.264932</td>\n",
       "      <td>1.382997</td>\n",
       "      <td>1.112799</td>\n",
       "      <td>30.202904</td>\n",
       "      <td>20.645407</td>\n",
       "      <td>181.066207</td>\n",
       "      <td>456.098091</td>\n",
       "      <td>161.319273</td>\n",
       "      <td>...</td>\n",
       "      <td>125.338794</td>\n",
       "      <td>66.256028</td>\n",
       "      <td>61.119149</td>\n",
       "      <td>29.317331</td>\n",
       "      <td>55.757415</td>\n",
       "      <td>40.177307</td>\n",
       "      <td>496.123024</td>\n",
       "      <td>2.703626</td>\n",
       "      <td>1.328095</td>\n",
       "      <td>79442.502883</td>\n",
       "    </tr>\n",
       "    <tr>\n",
       "      <th>min</th>\n",
       "      <td>20.000000</td>\n",
       "      <td>21.000000</td>\n",
       "      <td>1300.000000</td>\n",
       "      <td>1.000000</td>\n",
       "      <td>1.000000</td>\n",
       "      <td>1872.000000</td>\n",
       "      <td>1950.000000</td>\n",
       "      <td>0.000000</td>\n",
       "      <td>0.000000</td>\n",
       "      <td>0.000000</td>\n",
       "      <td>...</td>\n",
       "      <td>0.000000</td>\n",
       "      <td>0.000000</td>\n",
       "      <td>0.000000</td>\n",
       "      <td>0.000000</td>\n",
       "      <td>0.000000</td>\n",
       "      <td>0.000000</td>\n",
       "      <td>0.000000</td>\n",
       "      <td>1.000000</td>\n",
       "      <td>2006.000000</td>\n",
       "      <td>34900.000000</td>\n",
       "    </tr>\n",
       "    <tr>\n",
       "      <th>25%</th>\n",
       "      <td>20.000000</td>\n",
       "      <td>59.000000</td>\n",
       "      <td>7553.500000</td>\n",
       "      <td>5.000000</td>\n",
       "      <td>5.000000</td>\n",
       "      <td>1954.000000</td>\n",
       "      <td>1967.000000</td>\n",
       "      <td>0.000000</td>\n",
       "      <td>0.000000</td>\n",
       "      <td>0.000000</td>\n",
       "      <td>...</td>\n",
       "      <td>0.000000</td>\n",
       "      <td>0.000000</td>\n",
       "      <td>0.000000</td>\n",
       "      <td>0.000000</td>\n",
       "      <td>0.000000</td>\n",
       "      <td>0.000000</td>\n",
       "      <td>0.000000</td>\n",
       "      <td>5.000000</td>\n",
       "      <td>2007.000000</td>\n",
       "      <td>129975.000000</td>\n",
       "    </tr>\n",
       "    <tr>\n",
       "      <th>50%</th>\n",
       "      <td>50.000000</td>\n",
       "      <td>69.000000</td>\n",
       "      <td>9478.500000</td>\n",
       "      <td>6.000000</td>\n",
       "      <td>5.000000</td>\n",
       "      <td>1973.000000</td>\n",
       "      <td>1994.000000</td>\n",
       "      <td>0.000000</td>\n",
       "      <td>383.500000</td>\n",
       "      <td>0.000000</td>\n",
       "      <td>...</td>\n",
       "      <td>0.000000</td>\n",
       "      <td>25.000000</td>\n",
       "      <td>0.000000</td>\n",
       "      <td>0.000000</td>\n",
       "      <td>0.000000</td>\n",
       "      <td>0.000000</td>\n",
       "      <td>0.000000</td>\n",
       "      <td>6.000000</td>\n",
       "      <td>2008.000000</td>\n",
       "      <td>163000.000000</td>\n",
       "    </tr>\n",
       "    <tr>\n",
       "      <th>75%</th>\n",
       "      <td>70.000000</td>\n",
       "      <td>80.000000</td>\n",
       "      <td>11601.500000</td>\n",
       "      <td>7.000000</td>\n",
       "      <td>6.000000</td>\n",
       "      <td>2000.000000</td>\n",
       "      <td>2004.000000</td>\n",
       "      <td>166.000000</td>\n",
       "      <td>712.250000</td>\n",
       "      <td>0.000000</td>\n",
       "      <td>...</td>\n",
       "      <td>168.000000</td>\n",
       "      <td>68.000000</td>\n",
       "      <td>0.000000</td>\n",
       "      <td>0.000000</td>\n",
       "      <td>0.000000</td>\n",
       "      <td>0.000000</td>\n",
       "      <td>0.000000</td>\n",
       "      <td>8.000000</td>\n",
       "      <td>2009.000000</td>\n",
       "      <td>214000.000000</td>\n",
       "    </tr>\n",
       "    <tr>\n",
       "      <th>max</th>\n",
       "      <td>190.000000</td>\n",
       "      <td>313.000000</td>\n",
       "      <td>215245.000000</td>\n",
       "      <td>10.000000</td>\n",
       "      <td>9.000000</td>\n",
       "      <td>2010.000000</td>\n",
       "      <td>2010.000000</td>\n",
       "      <td>1600.000000</td>\n",
       "      <td>5644.000000</td>\n",
       "      <td>1474.000000</td>\n",
       "      <td>...</td>\n",
       "      <td>857.000000</td>\n",
       "      <td>547.000000</td>\n",
       "      <td>552.000000</td>\n",
       "      <td>508.000000</td>\n",
       "      <td>480.000000</td>\n",
       "      <td>738.000000</td>\n",
       "      <td>15500.000000</td>\n",
       "      <td>12.000000</td>\n",
       "      <td>2010.000000</td>\n",
       "      <td>755000.000000</td>\n",
       "    </tr>\n",
       "  </tbody>\n",
       "</table>\n",
       "<p>8 rows × 37 columns</p>\n",
       "</div>"
      ],
      "text/plain": [
       "        MSSubClass  LotFrontage        LotArea  OverallQual  OverallCond  \\\n",
       "count  1460.000000  1201.000000    1460.000000  1460.000000  1460.000000   \n",
       "mean     56.897260    70.049958   10516.828082     6.099315     5.575342   \n",
       "std      42.300571    24.284752    9981.264932     1.382997     1.112799   \n",
       "min      20.000000    21.000000    1300.000000     1.000000     1.000000   \n",
       "25%      20.000000    59.000000    7553.500000     5.000000     5.000000   \n",
       "50%      50.000000    69.000000    9478.500000     6.000000     5.000000   \n",
       "75%      70.000000    80.000000   11601.500000     7.000000     6.000000   \n",
       "max     190.000000   313.000000  215245.000000    10.000000     9.000000   \n",
       "\n",
       "         YearBuilt  YearRemodAdd   MasVnrArea   BsmtFinSF1   BsmtFinSF2  ...  \\\n",
       "count  1460.000000   1460.000000  1452.000000  1460.000000  1460.000000  ...   \n",
       "mean   1971.267808   1984.865753   103.685262   443.639726    46.549315  ...   \n",
       "std      30.202904     20.645407   181.066207   456.098091   161.319273  ...   \n",
       "min    1872.000000   1950.000000     0.000000     0.000000     0.000000  ...   \n",
       "25%    1954.000000   1967.000000     0.000000     0.000000     0.000000  ...   \n",
       "50%    1973.000000   1994.000000     0.000000   383.500000     0.000000  ...   \n",
       "75%    2000.000000   2004.000000   166.000000   712.250000     0.000000  ...   \n",
       "max    2010.000000   2010.000000  1600.000000  5644.000000  1474.000000  ...   \n",
       "\n",
       "        WoodDeckSF  OpenPorchSF  EnclosedPorch    3SsnPorch  ScreenPorch  \\\n",
       "count  1460.000000  1460.000000    1460.000000  1460.000000  1460.000000   \n",
       "mean     94.244521    46.660274      21.954110     3.409589    15.060959   \n",
       "std     125.338794    66.256028      61.119149    29.317331    55.757415   \n",
       "min       0.000000     0.000000       0.000000     0.000000     0.000000   \n",
       "25%       0.000000     0.000000       0.000000     0.000000     0.000000   \n",
       "50%       0.000000    25.000000       0.000000     0.000000     0.000000   \n",
       "75%     168.000000    68.000000       0.000000     0.000000     0.000000   \n",
       "max     857.000000   547.000000     552.000000   508.000000   480.000000   \n",
       "\n",
       "          PoolArea       MiscVal       MoSold       YrSold      SalePrice  \n",
       "count  1460.000000   1460.000000  1460.000000  1460.000000    1460.000000  \n",
       "mean      2.758904     43.489041     6.321918  2007.815753  180921.195890  \n",
       "std      40.177307    496.123024     2.703626     1.328095   79442.502883  \n",
       "min       0.000000      0.000000     1.000000  2006.000000   34900.000000  \n",
       "25%       0.000000      0.000000     5.000000  2007.000000  129975.000000  \n",
       "50%       0.000000      0.000000     6.000000  2008.000000  163000.000000  \n",
       "75%       0.000000      0.000000     8.000000  2009.000000  214000.000000  \n",
       "max     738.000000  15500.000000    12.000000  2010.000000  755000.000000  \n",
       "\n",
       "[8 rows x 37 columns]"
      ]
     },
     "execution_count": 10,
     "metadata": {},
     "output_type": "execute_result"
    }
   ],
   "source": [
    "nums_df.describe()"
   ]
  },
  {
   "cell_type": "code",
   "execution_count": 11,
   "id": "264add32",
   "metadata": {},
   "outputs": [
    {
     "data": {
      "text/plain": [
       "count      1460.000000\n",
       "mean     180921.195890\n",
       "std       79442.502883\n",
       "min       34900.000000\n",
       "25%      129975.000000\n",
       "50%      163000.000000\n",
       "75%      214000.000000\n",
       "max      755000.000000\n",
       "Name: SalePrice, dtype: float64"
      ]
     },
     "execution_count": 11,
     "metadata": {},
     "output_type": "execute_result"
    }
   ],
   "source": [
    "nums_df['SalePrice'].describe(percentiles=[0.25, 0.50, 0.75])"
   ]
  },
  {
   "cell_type": "code",
   "execution_count": 12,
   "id": "f48cf2dd",
   "metadata": {
    "code_folding": [
     0
    ],
    "scrolled": true
   },
   "outputs": [
    {
     "data": {
      "text/html": [
       "<div>\n",
       "<style scoped>\n",
       "    .dataframe tbody tr th:only-of-type {\n",
       "        vertical-align: middle;\n",
       "    }\n",
       "\n",
       "    .dataframe tbody tr th {\n",
       "        vertical-align: top;\n",
       "    }\n",
       "\n",
       "    .dataframe thead th {\n",
       "        text-align: right;\n",
       "    }\n",
       "</style>\n",
       "<table border=\"1\" class=\"dataframe\">\n",
       "  <thead>\n",
       "    <tr style=\"text-align: right;\">\n",
       "      <th></th>\n",
       "      <th>MSSubClass</th>\n",
       "      <th>LotFrontage</th>\n",
       "      <th>LotArea</th>\n",
       "      <th>OverallQual</th>\n",
       "      <th>OverallCond</th>\n",
       "      <th>YearBuilt</th>\n",
       "      <th>YearRemodAdd</th>\n",
       "      <th>MasVnrArea</th>\n",
       "      <th>BsmtFinSF1</th>\n",
       "      <th>BsmtFinSF2</th>\n",
       "      <th>...</th>\n",
       "      <th>OpenPorchSF</th>\n",
       "      <th>EnclosedPorch</th>\n",
       "      <th>3SsnPorch</th>\n",
       "      <th>ScreenPorch</th>\n",
       "      <th>PoolArea</th>\n",
       "      <th>MiscVal</th>\n",
       "      <th>MoSold</th>\n",
       "      <th>YrSold</th>\n",
       "      <th>SalePrice</th>\n",
       "      <th>cut_SalePrice</th>\n",
       "    </tr>\n",
       "  </thead>\n",
       "  <tbody>\n",
       "    <tr>\n",
       "      <th>0</th>\n",
       "      <td>60</td>\n",
       "      <td>65.0</td>\n",
       "      <td>8450</td>\n",
       "      <td>7</td>\n",
       "      <td>5</td>\n",
       "      <td>2003</td>\n",
       "      <td>2003</td>\n",
       "      <td>196.0</td>\n",
       "      <td>706</td>\n",
       "      <td>0</td>\n",
       "      <td>...</td>\n",
       "      <td>61</td>\n",
       "      <td>0</td>\n",
       "      <td>0</td>\n",
       "      <td>0</td>\n",
       "      <td>0</td>\n",
       "      <td>0</td>\n",
       "      <td>2</td>\n",
       "      <td>2008</td>\n",
       "      <td>208500</td>\n",
       "      <td>High</td>\n",
       "    </tr>\n",
       "    <tr>\n",
       "      <th>1</th>\n",
       "      <td>20</td>\n",
       "      <td>80.0</td>\n",
       "      <td>9600</td>\n",
       "      <td>6</td>\n",
       "      <td>8</td>\n",
       "      <td>1976</td>\n",
       "      <td>1976</td>\n",
       "      <td>0.0</td>\n",
       "      <td>978</td>\n",
       "      <td>0</td>\n",
       "      <td>...</td>\n",
       "      <td>0</td>\n",
       "      <td>0</td>\n",
       "      <td>0</td>\n",
       "      <td>0</td>\n",
       "      <td>0</td>\n",
       "      <td>0</td>\n",
       "      <td>5</td>\n",
       "      <td>2007</td>\n",
       "      <td>181500</td>\n",
       "      <td>High</td>\n",
       "    </tr>\n",
       "    <tr>\n",
       "      <th>2</th>\n",
       "      <td>60</td>\n",
       "      <td>68.0</td>\n",
       "      <td>11250</td>\n",
       "      <td>7</td>\n",
       "      <td>5</td>\n",
       "      <td>2001</td>\n",
       "      <td>2002</td>\n",
       "      <td>162.0</td>\n",
       "      <td>486</td>\n",
       "      <td>0</td>\n",
       "      <td>...</td>\n",
       "      <td>42</td>\n",
       "      <td>0</td>\n",
       "      <td>0</td>\n",
       "      <td>0</td>\n",
       "      <td>0</td>\n",
       "      <td>0</td>\n",
       "      <td>9</td>\n",
       "      <td>2008</td>\n",
       "      <td>223500</td>\n",
       "      <td>Very-High</td>\n",
       "    </tr>\n",
       "    <tr>\n",
       "      <th>3</th>\n",
       "      <td>70</td>\n",
       "      <td>60.0</td>\n",
       "      <td>9550</td>\n",
       "      <td>7</td>\n",
       "      <td>5</td>\n",
       "      <td>1915</td>\n",
       "      <td>1970</td>\n",
       "      <td>0.0</td>\n",
       "      <td>216</td>\n",
       "      <td>0</td>\n",
       "      <td>...</td>\n",
       "      <td>35</td>\n",
       "      <td>272</td>\n",
       "      <td>0</td>\n",
       "      <td>0</td>\n",
       "      <td>0</td>\n",
       "      <td>0</td>\n",
       "      <td>2</td>\n",
       "      <td>2006</td>\n",
       "      <td>140000</td>\n",
       "      <td>Medium</td>\n",
       "    </tr>\n",
       "    <tr>\n",
       "      <th>4</th>\n",
       "      <td>60</td>\n",
       "      <td>84.0</td>\n",
       "      <td>14260</td>\n",
       "      <td>8</td>\n",
       "      <td>5</td>\n",
       "      <td>2000</td>\n",
       "      <td>2000</td>\n",
       "      <td>350.0</td>\n",
       "      <td>655</td>\n",
       "      <td>0</td>\n",
       "      <td>...</td>\n",
       "      <td>84</td>\n",
       "      <td>0</td>\n",
       "      <td>0</td>\n",
       "      <td>0</td>\n",
       "      <td>0</td>\n",
       "      <td>0</td>\n",
       "      <td>12</td>\n",
       "      <td>2008</td>\n",
       "      <td>250000</td>\n",
       "      <td>Very-High</td>\n",
       "    </tr>\n",
       "  </tbody>\n",
       "</table>\n",
       "<p>5 rows × 38 columns</p>\n",
       "</div>"
      ],
      "text/plain": [
       "   MSSubClass  LotFrontage  LotArea  OverallQual  OverallCond  YearBuilt  \\\n",
       "0          60         65.0     8450            7            5       2003   \n",
       "1          20         80.0     9600            6            8       1976   \n",
       "2          60         68.0    11250            7            5       2001   \n",
       "3          70         60.0     9550            7            5       1915   \n",
       "4          60         84.0    14260            8            5       2000   \n",
       "\n",
       "   YearRemodAdd  MasVnrArea  BsmtFinSF1  BsmtFinSF2  ...  OpenPorchSF  \\\n",
       "0          2003       196.0         706           0  ...           61   \n",
       "1          1976         0.0         978           0  ...            0   \n",
       "2          2002       162.0         486           0  ...           42   \n",
       "3          1970         0.0         216           0  ...           35   \n",
       "4          2000       350.0         655           0  ...           84   \n",
       "\n",
       "   EnclosedPorch  3SsnPorch  ScreenPorch  PoolArea  MiscVal  MoSold  YrSold  \\\n",
       "0              0          0            0         0        0       2    2008   \n",
       "1              0          0            0         0        0       5    2007   \n",
       "2              0          0            0         0        0       9    2008   \n",
       "3            272          0            0         0        0       2    2006   \n",
       "4              0          0            0         0        0      12    2008   \n",
       "\n",
       "   SalePrice  cut_SalePrice  \n",
       "0     208500           High  \n",
       "1     181500           High  \n",
       "2     223500      Very-High  \n",
       "3     140000         Medium  \n",
       "4     250000      Very-High  \n",
       "\n",
       "[5 rows x 38 columns]"
      ]
     },
     "execution_count": 12,
     "metadata": {},
     "output_type": "execute_result"
    }
   ],
   "source": [
    "# Cuts\n",
    "p_low = nums_df['SalePrice'].describe(percentiles=[0.25, 0.50, 0.75])[4]\n",
    "p_medium = nums_df['SalePrice'].describe(percentiles=[0.25, 0.50, 0.75])[5]\n",
    "p_high = nums_df['SalePrice'].describe(percentiles=[0.25, 0.50, 0.75])[6]\n",
    "nums_df['cut_SalePrice'] = pd.cut(nums_df['SalePrice'],\n",
    "                                 bins=[0, p_low, p_medium, p_high, nums_df['SalePrice'].max()],\n",
    "                                 labels=['Low', 'Medium', 'High', 'Very-High'],\n",
    "                                 include_lowest=True)\n",
    "nums_df.head()"
   ]
  },
  {
   "cell_type": "code",
   "execution_count": 13,
   "id": "4df83236",
   "metadata": {},
   "outputs": [],
   "source": [
    "lowp_nums_df = nums_df.query(\"cut_SalePrice == 'Low'\")\n",
    "mediump_nums_df = nums_df.query(\"cut_SalePrice == 'Medium'\")\n",
    "highp_nums_df = nums_df.query(\"cut_SalePrice == 'High'\")\n",
    "veryhighp_nums_df = nums_df.query(\"cut_SalePrice == 'Very-High'\")"
   ]
  },
  {
   "cell_type": "code",
   "execution_count": 14,
   "id": "b4b49b4b",
   "metadata": {
    "scrolled": true
   },
   "outputs": [
    {
     "data": {
      "text/plain": [
       "(1460, 1460)"
      ]
     },
     "execution_count": 14,
     "metadata": {},
     "output_type": "execute_result"
    }
   ],
   "source": [
    "len(lowp_nums_df) + len(mediump_nums_df) + len(highp_nums_df) + len(veryhighp_nums_df), len(nums_df['SalePrice'])"
   ]
  },
  {
   "cell_type": "code",
   "execution_count": 15,
   "id": "421d7963",
   "metadata": {},
   "outputs": [
    {
     "data": {
      "text/html": [
       "<div>\n",
       "<style scoped>\n",
       "    .dataframe tbody tr th:only-of-type {\n",
       "        vertical-align: middle;\n",
       "    }\n",
       "\n",
       "    .dataframe tbody tr th {\n",
       "        vertical-align: top;\n",
       "    }\n",
       "\n",
       "    .dataframe thead th {\n",
       "        text-align: right;\n",
       "    }\n",
       "</style>\n",
       "<table border=\"1\" class=\"dataframe\">\n",
       "  <thead>\n",
       "    <tr style=\"text-align: right;\">\n",
       "      <th></th>\n",
       "      <th>cut_SalePrice</th>\n",
       "      <th>MSSubClass</th>\n",
       "      <th>LotFrontage</th>\n",
       "      <th>LotArea</th>\n",
       "      <th>OverallQual</th>\n",
       "      <th>OverallCond</th>\n",
       "      <th>YearBuilt</th>\n",
       "      <th>YearRemodAdd</th>\n",
       "      <th>MasVnrArea</th>\n",
       "      <th>BsmtFinSF1</th>\n",
       "      <th>...</th>\n",
       "      <th>GarageArea</th>\n",
       "      <th>WoodDeckSF</th>\n",
       "      <th>OpenPorchSF</th>\n",
       "      <th>EnclosedPorch</th>\n",
       "      <th>3SsnPorch</th>\n",
       "      <th>ScreenPorch</th>\n",
       "      <th>PoolArea</th>\n",
       "      <th>MiscVal</th>\n",
       "      <th>MoSold</th>\n",
       "      <th>YrSold</th>\n",
       "    </tr>\n",
       "  </thead>\n",
       "  <tbody>\n",
       "    <tr>\n",
       "      <th>0</th>\n",
       "      <td>Low</td>\n",
       "      <td>57.863014</td>\n",
       "      <td>60.015244</td>\n",
       "      <td>7753.967123</td>\n",
       "      <td>4.810959</td>\n",
       "      <td>5.575342</td>\n",
       "      <td>1945.328767</td>\n",
       "      <td>1968.471233</td>\n",
       "      <td>29.879452</td>\n",
       "      <td>249.578082</td>\n",
       "      <td>...</td>\n",
       "      <td>306.753425</td>\n",
       "      <td>42.263014</td>\n",
       "      <td>23.873973</td>\n",
       "      <td>37.369863</td>\n",
       "      <td>0.493151</td>\n",
       "      <td>3.978082</td>\n",
       "      <td>0.000000</td>\n",
       "      <td>37.709589</td>\n",
       "      <td>6.126027</td>\n",
       "      <td>2007.876712</td>\n",
       "    </tr>\n",
       "    <tr>\n",
       "      <th>1</th>\n",
       "      <td>Medium</td>\n",
       "      <td>58.732970</td>\n",
       "      <td>67.559322</td>\n",
       "      <td>9509.997275</td>\n",
       "      <td>5.531335</td>\n",
       "      <td>5.888283</td>\n",
       "      <td>1962.885559</td>\n",
       "      <td>1979.757493</td>\n",
       "      <td>69.833787</td>\n",
       "      <td>451.166213</td>\n",
       "      <td>...</td>\n",
       "      <td>423.580381</td>\n",
       "      <td>78.422343</td>\n",
       "      <td>28.416894</td>\n",
       "      <td>25.019074</td>\n",
       "      <td>2.773842</td>\n",
       "      <td>15.359673</td>\n",
       "      <td>1.307902</td>\n",
       "      <td>70.708447</td>\n",
       "      <td>6.247956</td>\n",
       "      <td>2007.828338</td>\n",
       "    </tr>\n",
       "    <tr>\n",
       "      <th>2</th>\n",
       "      <td>High</td>\n",
       "      <td>61.666667</td>\n",
       "      <td>70.643110</td>\n",
       "      <td>10117.844262</td>\n",
       "      <td>6.420765</td>\n",
       "      <td>5.428962</td>\n",
       "      <td>1984.647541</td>\n",
       "      <td>1991.931694</td>\n",
       "      <td>99.470914</td>\n",
       "      <td>407.234973</td>\n",
       "      <td>...</td>\n",
       "      <td>498.751366</td>\n",
       "      <td>108.857923</td>\n",
       "      <td>54.841530</td>\n",
       "      <td>12.139344</td>\n",
       "      <td>5.535519</td>\n",
       "      <td>19.366120</td>\n",
       "      <td>3.344262</td>\n",
       "      <td>40.792350</td>\n",
       "      <td>6.240437</td>\n",
       "      <td>2007.806011</td>\n",
       "    </tr>\n",
       "    <tr>\n",
       "      <th>3</th>\n",
       "      <td>Very-High</td>\n",
       "      <td>49.240331</td>\n",
       "      <td>83.128814</td>\n",
       "      <td>14726.715470</td>\n",
       "      <td>7.649171</td>\n",
       "      <td>5.406077</td>\n",
       "      <td>1992.392265</td>\n",
       "      <td>1999.430939</td>\n",
       "      <td>217.568245</td>\n",
       "      <td>668.486188</td>\n",
       "      <td>...</td>\n",
       "      <td>664.610497</td>\n",
       "      <td>147.922652</td>\n",
       "      <td>79.859116</td>\n",
       "      <td>13.226519</td>\n",
       "      <td>4.845304</td>\n",
       "      <td>21.580110</td>\n",
       "      <td>6.419890</td>\n",
       "      <td>24.447514</td>\n",
       "      <td>6.676796</td>\n",
       "      <td>2007.751381</td>\n",
       "    </tr>\n",
       "  </tbody>\n",
       "</table>\n",
       "<p>4 rows × 37 columns</p>\n",
       "</div>"
      ],
      "text/plain": [
       "  cut_SalePrice  MSSubClass  LotFrontage       LotArea  OverallQual  \\\n",
       "0           Low   57.863014    60.015244   7753.967123     4.810959   \n",
       "1        Medium   58.732970    67.559322   9509.997275     5.531335   \n",
       "2          High   61.666667    70.643110  10117.844262     6.420765   \n",
       "3     Very-High   49.240331    83.128814  14726.715470     7.649171   \n",
       "\n",
       "   OverallCond    YearBuilt  YearRemodAdd  MasVnrArea  BsmtFinSF1  ...  \\\n",
       "0     5.575342  1945.328767   1968.471233   29.879452  249.578082  ...   \n",
       "1     5.888283  1962.885559   1979.757493   69.833787  451.166213  ...   \n",
       "2     5.428962  1984.647541   1991.931694   99.470914  407.234973  ...   \n",
       "3     5.406077  1992.392265   1999.430939  217.568245  668.486188  ...   \n",
       "\n",
       "   GarageArea  WoodDeckSF  OpenPorchSF  EnclosedPorch  3SsnPorch  ScreenPorch  \\\n",
       "0  306.753425   42.263014    23.873973      37.369863   0.493151     3.978082   \n",
       "1  423.580381   78.422343    28.416894      25.019074   2.773842    15.359673   \n",
       "2  498.751366  108.857923    54.841530      12.139344   5.535519    19.366120   \n",
       "3  664.610497  147.922652    79.859116      13.226519   4.845304    21.580110   \n",
       "\n",
       "   PoolArea    MiscVal    MoSold       YrSold  \n",
       "0  0.000000  37.709589  6.126027  2007.876712  \n",
       "1  1.307902  70.708447  6.247956  2007.828338  \n",
       "2  3.344262  40.792350  6.240437  2007.806011  \n",
       "3  6.419890  24.447514  6.676796  2007.751381  \n",
       "\n",
       "[4 rows x 37 columns]"
      ]
     },
     "execution_count": 15,
     "metadata": {},
     "output_type": "execute_result"
    }
   ],
   "source": [
    "result = nums_df.drop('SalePrice', axis=1).groupby('cut_SalePrice').agg('mean')\n",
    "result.reset_index()"
   ]
  },
  {
   "cell_type": "code",
   "execution_count": 16,
   "id": "e1996887",
   "metadata": {
    "code_folding": [
     0
    ]
   },
   "outputs": [],
   "source": [
    "def plot_data_distribution(df, column_name, column_to_comp):\n",
    "    fig, axes = plt.subplots(ncols=2, nrows=1, figsize=(15, 4))\n",
    "    ax1 = sns.countplot(ax=axes[0], data=df, x=column_name)\n",
    "    temp = df[[column_name, column_to_comp]].groupby(column_name).agg('mean').reset_index()\n",
    "    temp_order = temp.sort_values(column_to_comp, ascending=False)\n",
    "    ax2 = sns.barplot(ax=axes[1], data=temp, x=column_to_comp, y=column_name, order=temp_order[column_name])\n",
    "    plt.show()"
   ]
  },
  {
   "cell_type": "code",
   "execution_count": 17,
   "id": "65080523",
   "metadata": {},
   "outputs": [
    {
     "data": {
      "image/png": "[encoded data removed]",
      "text/plain": [
       "<Figure size 640x480 with 1 Axes>"
      ]
     },
     "metadata": {},
     "output_type": "display_data"
    }
   ],
   "source": [
    "ax = sns.barplot(data=result, orient='h', errorbar=None)"
   ]
  },
  {
   "cell_type": "code",
   "execution_count": 18,
   "id": "5478842a",
   "metadata": {},
   "outputs": [
    {
     "data": {
      "text/plain": [
       "['1stFlrSF', 'TotRmsAbvGrd', 'GarageYrBlt', 'GarageArea']"
      ]
     },
     "execution_count": 18,
     "metadata": {},
     "output_type": "execute_result"
    }
   ],
   "source": [
    "corr_matrix = nums_df.drop('cut_SalePrice', axis=1).corr().abs()\n",
    "upper = corr_matrix.where(np.triu(np.ones(corr_matrix.shape), k=1).astype(bool))\n",
    "to_drop = [cols for cols in upper.columns if any(upper[cols] > 0.80)]\n",
    "to_drop"
   ]
  },
  {
   "cell_type": "code",
   "execution_count": 19,
   "id": "c9708ff0",
   "metadata": {},
   "outputs": [],
   "source": [
    "train_df = train_df.drop(to_drop, axis=1)"
   ]
  },
  {
   "cell_type": "markdown",
   "id": "4016efa7",
   "metadata": {},
   "source": [
    "## Function for clean future DFs"
   ]
  },
  {
   "cell_type": "code",
   "execution_count": 20,
   "id": "63693c69",
   "metadata": {
    "code_folding": []
   },
   "outputs": [],
   "source": [
    "def drop_trash(df):\n",
    "    return(df.drop(['Alley', 'PoolQC', 'Fence', 'MiscFeature', 'FireplaceQu', 'Id', '1stFlrSF', 'TotRmsAbvGrd', 'GarageYrBlt', 'GarageArea'], axis=1))"
   ]
  },
  {
   "cell_type": "markdown",
   "id": "55e0c464",
   "metadata": {},
   "source": [
    "## Modeling"
   ]
  },
  {
   "cell_type": "code",
   "execution_count": 12,
   "id": "1d2766fc",
   "metadata": {
    "code_folding": [
     0
    ]
   },
   "outputs": [],
   "source": [
    "# Imports\n",
    "from sklearn.model_selection import train_test_split\n",
    "from sklearn.impute import SimpleImputer\n",
    "from sklearn.compose import ColumnTransformer\n",
    "from sklearn.pipeline import Pipeline\n",
    "from sklearn.preprocessing import OneHotEncoder\n",
    "# Models\n",
    "from sklearn.ensemble import RandomForestRegressor\n",
    "from sklearn.linear_model import LinearRegression, LogisticRegression\n",
    "from sklearn.neighbors import KNeighborsRegressor\n",
    "from sklearn.svm import SVR\n",
    "from catboost import Pool, CatBoostRegressor\n",
    "# Metrics\n",
    "from sklearn.metrics import mean_squared_error as mse\n"
   ]
  },
  {
   "cell_type": "code",
   "execution_count": 23,
   "id": "03cae7ab",
   "metadata": {
    "code_folding": [
     0
    ]
   },
   "outputs": [
    {
     "name": "stdout",
     "output_type": "stream",
     "text": [
      "Cols no included in test_df:\n",
      "Utilities NoSeWa 1\n",
      "Condition2 RRNn 2\n",
      "Condition2 RRAn 1\n",
      "Condition2 RRAe 1\n",
      "HouseStyle 2.5Fin 8\n",
      "RoofMatl Metal 1\n",
      "RoofMatl Membran 1\n",
      "RoofMatl Roll 1\n",
      "RoofMatl ClyTile 1\n",
      "Exterior1st Stone 2\n",
      "Exterior1st ImStucc 1\n",
      "Exterior2nd Other 1\n",
      "MasVnrType nan 0\n",
      "BsmtQual nan 0\n",
      "BsmtCond nan 0\n",
      "BsmtExposure nan 0\n",
      "BsmtFinType1 nan 0\n",
      "BsmtFinType2 nan 0\n",
      "Heating OthW 2\n",
      "Heating Floor 1\n",
      "Electrical Mix 1\n",
      "Electrical nan 0\n",
      "GarageType nan 0\n",
      "GarageFinish nan 0\n",
      "GarageQual nan 0\n",
      "GarageQual Ex 3\n",
      "GarageCond nan 0\n"
     ]
    },
    {
     "name": "stderr",
     "output_type": "stream",
     "text": [
      "/tmp/ipykernel_14943/3760378524.py:10: SettingWithCopyWarning: \n",
      "A value is trying to be set on a copy of a slice from a DataFrame\n",
      "\n",
      "See the caveats in the documentation: https://pandas.pydata.org/pandas-docs/stable/user_guide/indexing.html#returning-a-view-versus-a-copy\n",
      "  train_df[col].loc[train_df[col] == val] = np.nan\n"
     ]
    }
   ],
   "source": [
    "# Equal categorical values between train_df and test_df\n",
    "test_df = (drop_trash(test_df))\n",
    "t_train = (train_df.drop('SalePrice', axis=1)).copy()\n",
    "\n",
    "print('Cols no included in test_df:')\n",
    "for col in train_df.select_dtypes(include=object).columns:\n",
    "    for val in t_train[col].unique():\n",
    "            if val not in test_df[col].unique():\n",
    "                print(t_train[col].name, val, len(t_train.loc[t_train[col] == val]))\n",
    "                train_df[col].loc[train_df[col] == val] = np.nan"
   ]
  },
  {
   "cell_type": "code",
   "execution_count": 24,
   "id": "3fe48285",
   "metadata": {},
   "outputs": [
    {
     "data": {
      "text/plain": [
       "(array(['Norm', 'Artery', nan, 'Feedr', 'PosN', 'PosA'], dtype=object),\n",
       " array(['Norm', 'Feedr', 'PosA', 'PosN', 'Artery'], dtype=object))"
      ]
     },
     "execution_count": 24,
     "metadata": {},
     "output_type": "execute_result"
    }
   ],
   "source": [
    "train_df['Condition2'].unique(), test_df['Condition2'].unique()"
   ]
  },
  {
   "cell_type": "code",
   "execution_count": 171,
   "id": "a854d1fc",
   "metadata": {
    "code_folding": [
     0
    ]
   },
   "outputs": [],
   "source": [
    "# Preprocessor Pipeline\n",
    "cat_features = train_df.select_dtypes(include=object).columns\n",
    "num_features = train_df.drop('SalePrice', axis=1).select_dtypes(include=np.number).columns\n",
    "\n",
    "cat_transformer = Pipeline(steps=[\n",
    "    ('imputer', SimpleImputer(strategy='most_frequent')),\n",
    "    ('onehot', OneHotEncoder(handle_unknown='ignore'))\n",
    "])\n",
    "num_transformer = Pipeline(steps=[\n",
    "    ('imputer', SimpleImputer(strategy='most_frequent'))\n",
    "])\n",
    "\n",
    "preprocessor = ColumnTransformer(\n",
    "    transformers=[\n",
    "        ('cat', cat_transformer, cat_features),\n",
    "        ('num', num_transformer, num_features)\n",
    "    ]\n",
    ")"
   ]
  },
  {
   "cell_type": "code",
   "execution_count": 172,
   "id": "c1f13961",
   "metadata": {
    "code_folding": [
     0
    ]
   },
   "outputs": [
    {
     "name": "stdout",
     "output_type": "stream",
     "text": [
      "Trainning......\n"
     ]
    },
    {
     "data": {
      "text/plain": [
       "748603368.9950792"
      ]
     },
     "execution_count": 172,
     "metadata": {},
     "output_type": "execute_result"
    }
   ],
   "source": [
    "# RandomForestRegressor\n",
    "np.random.seed(42)\n",
    "\n",
    "X = preprocessor.fit_transform(train_df.drop('SalePrice', axis=1))\n",
    "y = train_df['SalePrice']\n",
    "\n",
    "X_train, X_test, y_train, y_test = train_test_split(X, y)\n",
    "model = RandomForestRegressor()\n",
    "\n",
    "print('Trainning......')\n",
    "model.fit(X_train, y_train)\n",
    "l_models[f'{model}'] = {'MSE': mse(y_test, model.predict(X_test))}\n",
    "mse(y_test, model.predict(X_test))"
   ]
  },
  {
   "cell_type": "code",
   "execution_count": 3,
   "id": "a6ce805f",
   "metadata": {
    "code_folding": [
     0,
     1,
     7,
     12,
     22,
     42,
     48,
     64,
     69
    ]
   },
   "outputs": [],
   "source": [
    "class Training_df:\n",
    "    def __init__(self, df, pred_col, models, plot_flag):\n",
    "        self.df = df\n",
    "        self.pred_col = pred_col\n",
    "        self.models = models\n",
    "        self.plot_flag = plot_flag\n",
    "        \n",
    "    def get_Xy(self, df, pred_col):\n",
    "        X = df.drop(pred_col, axis=1)\n",
    "        y = df[pred_col]\n",
    "        return X, y\n",
    "    \n",
    "    def train_model(self, X, y, model):\n",
    "        pre_X, _feat_names = self.processor(X)\n",
    "        X_train, X_test, y_train, y_test = train_test_split(pre_X, y)\n",
    "        _model = model\n",
    "        print(f'Trainig {_model} ..........')\n",
    "        _model.fit(X_train, y_train)\n",
    "        try: _feat_imp = model.feature_importances_\n",
    "        except: _feat_imp = 0\n",
    "        return _model.score(X_test, y_test), _feat_imp, _feat_names\n",
    "    \n",
    "    def processor(self, X):\n",
    "        cat_features = X.select_dtypes(include=object).columns\n",
    "        num_features = X.select_dtypes(include=np.number).columns\n",
    "\n",
    "        cat_transformer = Pipeline(steps=[\n",
    "            ('imputer', SimpleImputer(strategy='most_frequent')),\n",
    "            ('onehot', OneHotEncoder(handle_unknown='ignore'))\n",
    "        ])\n",
    "        num_transformer = Pipeline(steps=[\n",
    "            ('imputer', SimpleImputer(strategy='most_frequent'))\n",
    "        ])\n",
    "\n",
    "        preprocessor = ColumnTransformer(\n",
    "            transformers=[\n",
    "                ('cat', cat_transformer, cat_features),\n",
    "                ('num', num_transformer, num_features)\n",
    "            ]\n",
    "        )\n",
    "        return preprocessor.fit_transform(X), preprocessor.get_feature_names_out()\n",
    "    \n",
    "    def get_feat_importances_df(self, _feat_imp, name, _feat_names):\n",
    "        feat_imp = pd.DataFrame({f'features {name}':_feat_names,\n",
    "                                 'importance':_feat_imp})\n",
    "        feat_imp = feat_imp.sort_values(by='importance', ascending=False).head(10)\n",
    "        return feat_imp\n",
    "    \n",
    "    def plot_results(self, feat_importances):\n",
    "        item_del = []\n",
    "        f_imp = [x for x in feat_importances if x['importance'].mean() > 0]\n",
    "        if len(f_imp) > 5:\n",
    "            print('\\033[31m' + f'Max subplots are set in 5, and u are trying to subplot {len(f_imp)} (All_data count 1)' + '\\033[0m')\n",
    "        else:\n",
    "            fig, ax = plt.subplots(ncols=1, nrows=len(f_imp), figsize=(20,10))\n",
    "            if len(f_imp) == 1:\n",
    "                _ax = sns.barplot(data=f_imp[0], x='importance', y=f_imp[0].columns[0])\n",
    "                _ax.set(title=f'Importance {f_imp[0].columns[0]}', ylabel='', xlabel='')\n",
    "            else:\n",
    "                for x in range(len(f_imp)):\n",
    "                    _ax = sns.barplot(ax=ax[x], data=f_imp[x], x='importance', y=f_imp[x].columns[0])\n",
    "                    _ax.set(title=f'Importance {f_imp[x].columns[0]}', ylabel='', xlabel='')\n",
    "            plt.show()\n",
    "        \n",
    "    def get_res_df(self, results):\n",
    "        res_df = pd.DataFrame({'Score':results.values()},\n",
    "                              index=results.keys())\n",
    "        return res_df.sort_values(by='Score', ascending=False).head(20)\n",
    "    \n",
    "    def start_training(self):\n",
    "        print(f'Starting training for a list of {len(self.models)} models.......')\n",
    "        results = {}\n",
    "        feat_importances = []\n",
    "        for x in range(len(self.models)):\n",
    "            X, y = self.get_Xy(self.df, self.pred_col)\n",
    "            _score, _feat_imp, _feat_names = (self.train_model(X, y, self.models[x]))\n",
    "            results[f'{self.models[x]}'] = _score\n",
    "            feat_importances.append(self.get_feat_importances_df(_feat_imp, f'{self.models[x]} / {_score:.4f}', _feat_names))\n",
    "        print(self.get_res_df(results))\n",
    "        if self.plot_flag == True:\n",
    "            self.plot_results(feat_importances)\n",
    "        return feat_importances"
   ]
  },
  {
   "cell_type": "markdown",
   "id": "9552d591",
   "metadata": {},
   "source": [
    "# Try different models"
   ]
  },
  {
   "cell_type": "code",
   "execution_count": 285,
   "id": "c8910897",
   "metadata": {
    "code_folding": []
   },
   "outputs": [
    {
     "name": "stdout",
     "output_type": "stream",
     "text": [
      "Starting training for a list of 3 models.......\n",
      "Trainig LinearRegression() ..........\n",
      "Trainig KNeighborsRegressor() ..........\n",
      "Trainig <catboost.core.CatBoostRegressor object at 0x7f1a7a8b3b50> ..........\n",
      "                                                       Score\n",
      "LinearRegression()                                  0.871184\n",
      "<catboost.core.CatBoostRegressor object at 0x7f...  0.867095\n",
      "KNeighborsRegressor()                               0.574004\n"
     ]
    },
    {
     "data": {
      "image/png": "[encoded data removed]",
      "text/plain": [
       "<Figure size 2000x1000 with 1 Axes>"
      ]
     },
     "metadata": {},
     "output_type": "display_data"
    }
   ],
   "source": [
    "np.random.seed(42)\n",
    "l_models = [LinearRegression(), KNeighborsRegressor(), CatBoostRegressor(logging_level='Silent')]\n",
    "\n",
    "m_test1 = Training_df(train_df, 'SalePrice', l_models, True)\n",
    "f_imp = m_test1.start_training()"
   ]
  },
  {
   "cell_type": "markdown",
   "id": "f8b1f539",
   "metadata": {},
   "source": [
    "# Let's try with CatBoost"
   ]
  },
  {
   "cell_type": "markdown",
   "id": "97798f7f",
   "metadata": {},
   "source": [
    "## Simple"
   ]
  },
  {
   "cell_type": "code",
   "execution_count": 173,
   "id": "1fbb0104",
   "metadata": {},
   "outputs": [
    {
     "name": "stdout",
     "output_type": "stream",
     "text": [
      "Trainning...... Catbost\n"
     ]
    },
    {
     "data": {
      "text/plain": [
       "0.9131662863058869"
      ]
     },
     "execution_count": 173,
     "metadata": {},
     "output_type": "execute_result"
    }
   ],
   "source": [
    "np.random.seed(42)\n",
    "X = preprocessor.fit_transform(train_df.drop('SalePrice', axis=1))\n",
    "y = train_df['SalePrice']\n",
    "\n",
    "X_train, X_test, y_train, y_test = train_test_split(X, y)\n",
    "pool = Pool(X_train,\n",
    "           y_train)\n",
    "model = CatBoostRegressor(logging_level='Silent')\n",
    "print('Training...... Catbost')\n",
    "model.fit(pool)\n",
    "model.score(X_test, y_test)"
   ]
  },
  {
   "cell_type": "code",
   "execution_count": 30,
   "id": "ec7ca4d0",
   "metadata": {},
   "outputs": [
    {
     "data": {
      "text/plain": [
       "((250,), (250,))"
      ]
     },
     "execution_count": 30,
     "metadata": {},
     "output_type": "execute_result"
    }
   ],
   "source": [
    "preprocessor.get_feature_names_out().shape, model.get_feature_importance().shape"
   ]
  },
  {
   "cell_type": "code",
   "execution_count": 31,
   "id": "68530897",
   "metadata": {
    "code_folding": [
     0
    ]
   },
   "outputs": [
    {
     "data": {
      "text/html": [
       "<div>\n",
       "<style scoped>\n",
       "    .dataframe tbody tr th:only-of-type {\n",
       "        vertical-align: middle;\n",
       "    }\n",
       "\n",
       "    .dataframe tbody tr th {\n",
       "        vertical-align: top;\n",
       "    }\n",
       "\n",
       "    .dataframe thead th {\n",
       "        text-align: right;\n",
       "    }\n",
       "</style>\n",
       "<table border=\"1\" class=\"dataframe\">\n",
       "  <thead>\n",
       "    <tr style=\"text-align: right;\">\n",
       "      <th></th>\n",
       "      <th>features</th>\n",
       "      <th>importance</th>\n",
       "    </tr>\n",
       "  </thead>\n",
       "  <tbody>\n",
       "    <tr>\n",
       "      <th>221</th>\n",
       "      <td>num__OverallQual</td>\n",
       "      <td>23.368867</td>\n",
       "    </tr>\n",
       "    <tr>\n",
       "      <th>232</th>\n",
       "      <td>num__GrLivArea</td>\n",
       "      <td>14.662638</td>\n",
       "    </tr>\n",
       "    <tr>\n",
       "      <th>229</th>\n",
       "      <td>num__TotalBsmtSF</td>\n",
       "      <td>5.892639</td>\n",
       "    </tr>\n",
       "    <tr>\n",
       "      <th>240</th>\n",
       "      <td>num__GarageCars</td>\n",
       "      <td>5.274999</td>\n",
       "    </tr>\n",
       "    <tr>\n",
       "      <th>226</th>\n",
       "      <td>num__BsmtFinSF1</td>\n",
       "      <td>5.035696</td>\n",
       "    </tr>\n",
       "  </tbody>\n",
       "</table>\n",
       "</div>"
      ],
      "text/plain": [
       "             features  importance\n",
       "221  num__OverallQual   23.368867\n",
       "232    num__GrLivArea   14.662638\n",
       "229  num__TotalBsmtSF    5.892639\n",
       "240   num__GarageCars    5.274999\n",
       "226   num__BsmtFinSF1    5.035696"
      ]
     },
     "execution_count": 31,
     "metadata": {},
     "output_type": "execute_result"
    }
   ],
   "source": [
    "feat_imp1 = pd.DataFrame({'features':preprocessor.get_feature_names_out(),\n",
    "                                      'importance':model.get_feature_importance()})\n",
    "feat_imp1 = feat_imp1.sort_values(by='importance', ascending=False)\n",
    "feat_imp1.head()"
   ]
  },
  {
   "cell_type": "markdown",
   "id": "37c70ee1",
   "metadata": {},
   "source": [
    "# With all the data"
   ]
  },
  {
   "cell_type": "code",
   "execution_count": 231,
   "id": "ae262a06",
   "metadata": {},
   "outputs": [
    {
     "data": {
      "text/html": [
       "<div>\n",
       "<style scoped>\n",
       "    .dataframe tbody tr th:only-of-type {\n",
       "        vertical-align: middle;\n",
       "    }\n",
       "\n",
       "    .dataframe tbody tr th {\n",
       "        vertical-align: top;\n",
       "    }\n",
       "\n",
       "    .dataframe thead th {\n",
       "        text-align: right;\n",
       "    }\n",
       "</style>\n",
       "<table border=\"1\" class=\"dataframe\">\n",
       "  <thead>\n",
       "    <tr style=\"text-align: right;\">\n",
       "      <th></th>\n",
       "      <th>MSSubClass</th>\n",
       "      <th>MSZoning</th>\n",
       "      <th>LotFrontage</th>\n",
       "      <th>LotArea</th>\n",
       "      <th>Street</th>\n",
       "      <th>Alley</th>\n",
       "      <th>LotShape</th>\n",
       "      <th>LandContour</th>\n",
       "      <th>Utilities</th>\n",
       "      <th>LotConfig</th>\n",
       "      <th>...</th>\n",
       "      <th>3SsnPorch</th>\n",
       "      <th>ScreenPorch</th>\n",
       "      <th>PoolArea</th>\n",
       "      <th>Fence</th>\n",
       "      <th>MiscVal</th>\n",
       "      <th>MoSold</th>\n",
       "      <th>YrSold</th>\n",
       "      <th>SaleType</th>\n",
       "      <th>SaleCondition</th>\n",
       "      <th>SalePrice</th>\n",
       "    </tr>\n",
       "  </thead>\n",
       "  <tbody>\n",
       "    <tr>\n",
       "      <th>0</th>\n",
       "      <td>60</td>\n",
       "      <td>RL</td>\n",
       "      <td>65.0</td>\n",
       "      <td>8450</td>\n",
       "      <td>Pave</td>\n",
       "      <td>NaN</td>\n",
       "      <td>Reg</td>\n",
       "      <td>Lvl</td>\n",
       "      <td>AllPub</td>\n",
       "      <td>Inside</td>\n",
       "      <td>...</td>\n",
       "      <td>0</td>\n",
       "      <td>0</td>\n",
       "      <td>0</td>\n",
       "      <td>NaN</td>\n",
       "      <td>0</td>\n",
       "      <td>2</td>\n",
       "      <td>2008</td>\n",
       "      <td>WD</td>\n",
       "      <td>Normal</td>\n",
       "      <td>208500</td>\n",
       "    </tr>\n",
       "    <tr>\n",
       "      <th>1</th>\n",
       "      <td>20</td>\n",
       "      <td>RL</td>\n",
       "      <td>80.0</td>\n",
       "      <td>9600</td>\n",
       "      <td>Pave</td>\n",
       "      <td>NaN</td>\n",
       "      <td>Reg</td>\n",
       "      <td>Lvl</td>\n",
       "      <td>AllPub</td>\n",
       "      <td>FR2</td>\n",
       "      <td>...</td>\n",
       "      <td>0</td>\n",
       "      <td>0</td>\n",
       "      <td>0</td>\n",
       "      <td>NaN</td>\n",
       "      <td>0</td>\n",
       "      <td>5</td>\n",
       "      <td>2007</td>\n",
       "      <td>WD</td>\n",
       "      <td>Normal</td>\n",
       "      <td>181500</td>\n",
       "    </tr>\n",
       "    <tr>\n",
       "      <th>2</th>\n",
       "      <td>60</td>\n",
       "      <td>RL</td>\n",
       "      <td>68.0</td>\n",
       "      <td>11250</td>\n",
       "      <td>Pave</td>\n",
       "      <td>NaN</td>\n",
       "      <td>IR1</td>\n",
       "      <td>Lvl</td>\n",
       "      <td>AllPub</td>\n",
       "      <td>Inside</td>\n",
       "      <td>...</td>\n",
       "      <td>0</td>\n",
       "      <td>0</td>\n",
       "      <td>0</td>\n",
       "      <td>NaN</td>\n",
       "      <td>0</td>\n",
       "      <td>9</td>\n",
       "      <td>2008</td>\n",
       "      <td>WD</td>\n",
       "      <td>Normal</td>\n",
       "      <td>223500</td>\n",
       "    </tr>\n",
       "    <tr>\n",
       "      <th>3</th>\n",
       "      <td>70</td>\n",
       "      <td>RL</td>\n",
       "      <td>60.0</td>\n",
       "      <td>9550</td>\n",
       "      <td>Pave</td>\n",
       "      <td>NaN</td>\n",
       "      <td>IR1</td>\n",
       "      <td>Lvl</td>\n",
       "      <td>AllPub</td>\n",
       "      <td>Corner</td>\n",
       "      <td>...</td>\n",
       "      <td>0</td>\n",
       "      <td>0</td>\n",
       "      <td>0</td>\n",
       "      <td>NaN</td>\n",
       "      <td>0</td>\n",
       "      <td>2</td>\n",
       "      <td>2006</td>\n",
       "      <td>WD</td>\n",
       "      <td>Abnorml</td>\n",
       "      <td>140000</td>\n",
       "    </tr>\n",
       "    <tr>\n",
       "      <th>4</th>\n",
       "      <td>60</td>\n",
       "      <td>RL</td>\n",
       "      <td>84.0</td>\n",
       "      <td>14260</td>\n",
       "      <td>Pave</td>\n",
       "      <td>NaN</td>\n",
       "      <td>IR1</td>\n",
       "      <td>Lvl</td>\n",
       "      <td>AllPub</td>\n",
       "      <td>FR2</td>\n",
       "      <td>...</td>\n",
       "      <td>0</td>\n",
       "      <td>0</td>\n",
       "      <td>0</td>\n",
       "      <td>NaN</td>\n",
       "      <td>0</td>\n",
       "      <td>12</td>\n",
       "      <td>2008</td>\n",
       "      <td>WD</td>\n",
       "      <td>Normal</td>\n",
       "      <td>250000</td>\n",
       "    </tr>\n",
       "  </tbody>\n",
       "</table>\n",
       "<p>5 rows × 78 columns</p>\n",
       "</div>"
      ],
      "text/plain": [
       "   MSSubClass MSZoning  LotFrontage  LotArea Street Alley LotShape  \\\n",
       "0          60       RL         65.0     8450   Pave   NaN      Reg   \n",
       "1          20       RL         80.0     9600   Pave   NaN      Reg   \n",
       "2          60       RL         68.0    11250   Pave   NaN      IR1   \n",
       "3          70       RL         60.0     9550   Pave   NaN      IR1   \n",
       "4          60       RL         84.0    14260   Pave   NaN      IR1   \n",
       "\n",
       "  LandContour Utilities LotConfig  ... 3SsnPorch ScreenPorch PoolArea Fence  \\\n",
       "0         Lvl    AllPub    Inside  ...         0           0        0   NaN   \n",
       "1         Lvl    AllPub       FR2  ...         0           0        0   NaN   \n",
       "2         Lvl    AllPub    Inside  ...         0           0        0   NaN   \n",
       "3         Lvl    AllPub    Corner  ...         0           0        0   NaN   \n",
       "4         Lvl    AllPub       FR2  ...         0           0        0   NaN   \n",
       "\n",
       "  MiscVal MoSold  YrSold  SaleType  SaleCondition  SalePrice  \n",
       "0       0      2    2008        WD         Normal     208500  \n",
       "1       0      5    2007        WD         Normal     181500  \n",
       "2       0      9    2008        WD         Normal     223500  \n",
       "3       0      2    2006        WD        Abnorml     140000  \n",
       "4       0     12    2008        WD         Normal     250000  \n",
       "\n",
       "[5 rows x 78 columns]"
      ]
     },
     "execution_count": 231,
     "metadata": {},
     "output_type": "execute_result"
    }
   ],
   "source": [
    "temp = pd.read_csv('train.csv')\n",
    "temp = temp.drop(['Id', 'PoolQC', 'MiscFeature'], axis=1)\n",
    "temp.head()"
   ]
  },
  {
   "cell_type": "code",
   "execution_count": 251,
   "id": "14f12e67",
   "metadata": {},
   "outputs": [
    {
     "name": "stdout",
     "output_type": "stream",
     "text": [
      "Starting training for a list of 2 models.......\n",
      "Trainig <catboost.core.CatBoostRegressor object at 0x7f1a8d42a200> ..........\n",
      "Trainig LinearRegression() ..........\n",
      "                                                       Score\n",
      "<catboost.core.CatBoostRegressor object at 0x7f...  0.914964\n",
      "LinearRegression()                                  0.861093\n"
     ]
    }
   ],
   "source": [
    "np.random.seed(42)\n",
    "l_models = [CatBoostRegressor(logging_level='Silent'), LinearRegression()]\n",
    "m_test2 = Training_df(temp, 'SalePrice', l_models, False)\n",
    "f_imp = m_test2.start_training()"
   ]
  },
  {
   "cell_type": "code",
   "execution_count": 255,
   "id": "f92bac05",
   "metadata": {},
   "outputs": [
    {
     "data": {
      "text/html": [
       "<div>\n",
       "<style scoped>\n",
       "    .dataframe tbody tr th:only-of-type {\n",
       "        vertical-align: middle;\n",
       "    }\n",
       "\n",
       "    .dataframe tbody tr th {\n",
       "        vertical-align: top;\n",
       "    }\n",
       "\n",
       "    .dataframe thead th {\n",
       "        text-align: right;\n",
       "    }\n",
       "</style>\n",
       "<table border=\"1\" class=\"dataframe\">\n",
       "  <thead>\n",
       "    <tr style=\"text-align: right;\">\n",
       "      <th></th>\n",
       "      <th>features &lt;catboost.core.CatBoostRegressor object at 0x7f1a8d42a200&gt; / 0.9150</th>\n",
       "      <th>importance</th>\n",
       "    </tr>\n",
       "  </thead>\n",
       "  <tbody>\n",
       "    <tr>\n",
       "      <th>248</th>\n",
       "      <td>num__OverallQual</td>\n",
       "      <td>24.010222</td>\n",
       "    </tr>\n",
       "    <tr>\n",
       "      <th>260</th>\n",
       "      <td>num__GrLivArea</td>\n",
       "      <td>14.198901</td>\n",
       "    </tr>\n",
       "    <tr>\n",
       "      <th>270</th>\n",
       "      <td>num__GarageCars</td>\n",
       "      <td>4.638014</td>\n",
       "    </tr>\n",
       "    <tr>\n",
       "      <th>253</th>\n",
       "      <td>num__BsmtFinSF1</td>\n",
       "      <td>4.423225</td>\n",
       "    </tr>\n",
       "    <tr>\n",
       "      <th>257</th>\n",
       "      <td>num__1stFlrSF</td>\n",
       "      <td>3.972461</td>\n",
       "    </tr>\n",
       "    <tr>\n",
       "      <th>256</th>\n",
       "      <td>num__TotalBsmtSF</td>\n",
       "      <td>3.867077</td>\n",
       "    </tr>\n",
       "    <tr>\n",
       "      <th>247</th>\n",
       "      <td>num__LotArea</td>\n",
       "      <td>3.056971</td>\n",
       "    </tr>\n",
       "    <tr>\n",
       "      <th>212</th>\n",
       "      <td>cat__GarageFinish_Unf</td>\n",
       "      <td>2.361156</td>\n",
       "    </tr>\n",
       "    <tr>\n",
       "      <th>268</th>\n",
       "      <td>num__Fireplaces</td>\n",
       "      <td>2.186708</td>\n",
       "    </tr>\n",
       "    <tr>\n",
       "      <th>258</th>\n",
       "      <td>num__2ndFlrSF</td>\n",
       "      <td>1.947921</td>\n",
       "    </tr>\n",
       "  </tbody>\n",
       "</table>\n",
       "</div>"
      ],
      "text/plain": [
       "    features <catboost.core.CatBoostRegressor object at 0x7f1a8d42a200> / 0.9150  \\\n",
       "248                                   num__OverallQual                             \n",
       "260                                     num__GrLivArea                             \n",
       "270                                    num__GarageCars                             \n",
       "253                                    num__BsmtFinSF1                             \n",
       "257                                      num__1stFlrSF                             \n",
       "256                                   num__TotalBsmtSF                             \n",
       "247                                       num__LotArea                             \n",
       "212                              cat__GarageFinish_Unf                             \n",
       "268                                    num__Fireplaces                             \n",
       "258                                      num__2ndFlrSF                             \n",
       "\n",
       "     importance  \n",
       "248   24.010222  \n",
       "260   14.198901  \n",
       "270    4.638014  \n",
       "253    4.423225  \n",
       "257    3.972461  \n",
       "256    3.867077  \n",
       "247    3.056971  \n",
       "212    2.361156  \n",
       "268    2.186708  \n",
       "258    1.947921  "
      ]
     },
     "execution_count": 255,
     "metadata": {},
     "output_type": "execute_result"
    }
   ],
   "source": [
    "f_imp[0]"
   ]
  },
  {
   "cell_type": "code",
   "execution_count": 248,
   "id": "3d93394d",
   "metadata": {},
   "outputs": [],
   "source": [
    "temp2 = pd.read_csv('test.csv')\n",
    "temp2 = temp2.drop('Id', axis=1)"
   ]
  },
  {
   "cell_type": "code",
   "execution_count": 35,
   "id": "c661e43b",
   "metadata": {
    "code_folding": [
     0
    ],
    "scrolled": true
   },
   "outputs": [
    {
     "name": "stdout",
     "output_type": "stream",
     "text": [
      "Cols no included in test_df:\n",
      "Utilities NoSeWa 1\n",
      "Condition2 RRNn 2\n",
      "Condition2 RRAn 1\n",
      "Condition2 RRAe 1\n",
      "HouseStyle 2.5Fin 8\n",
      "RoofMatl Metal 1\n",
      "RoofMatl Membran 1\n",
      "RoofMatl Roll 1\n",
      "RoofMatl ClyTile 1\n",
      "Exterior1st Stone 2\n",
      "Exterior1st ImStucc 1\n",
      "Exterior2nd Other 1\n",
      "MasVnrType nan 0\n",
      "BsmtQual nan 0\n",
      "BsmtCond nan 0\n",
      "BsmtExposure nan 0\n",
      "BsmtFinType1 nan 0\n",
      "BsmtFinType2 nan 0\n",
      "Heating OthW 2\n",
      "Heating Floor 1\n",
      "Electrical Mix 1\n",
      "Electrical nan 0\n",
      "GarageType nan 0\n",
      "GarageFinish nan 0\n",
      "GarageQual nan 0\n",
      "GarageQual Ex 3\n",
      "GarageCond nan 0\n"
     ]
    },
    {
     "name": "stderr",
     "output_type": "stream",
     "text": [
      "/tmp/ipykernel_14943/884584030.py:9: SettingWithCopyWarning: \n",
      "A value is trying to be set on a copy of a slice from a DataFrame\n",
      "\n",
      "See the caveats in the documentation: https://pandas.pydata.org/pandas-docs/stable/user_guide/indexing.html#returning-a-view-versus-a-copy\n",
      "  temp[col].loc[temp[col] == val] = np.nan\n"
     ]
    }
   ],
   "source": [
    "# Equal categorical values between train_df and test_df\n",
    "t_train = (temp.drop('SalePrice', axis=1)).copy()\n",
    "\n",
    "print('Cols no included in test_df:')\n",
    "for col in train_df.select_dtypes(include=object).columns:\n",
    "    for val in t_train[col].unique():\n",
    "            if val not in temp2[col].unique():\n",
    "                print(t_train[col].name, val, len(t_train.loc[t_train[col] == val]))\n",
    "                temp[col].loc[temp[col] == val] = np.nan"
   ]
  },
  {
   "cell_type": "code",
   "execution_count": 19,
   "id": "eeff0ee8",
   "metadata": {
    "code_folding": [
     0
    ]
   },
   "outputs": [
    {
     "ename": "NameError",
     "evalue": "name 'temp' is not defined",
     "output_type": "error",
     "traceback": [
      "\u001b[0;31m---------------------------------------------------------------------------\u001b[0m",
      "\u001b[0;31mNameError\u001b[0m                                 Traceback (most recent call last)",
      "Cell \u001b[0;32mIn[19], line 2\u001b[0m\n\u001b[1;32m      1\u001b[0m \u001b[38;5;66;03m# Preprocessor\u001b[39;00m\n\u001b[0;32m----> 2\u001b[0m cat_features \u001b[38;5;241m=\u001b[39m \u001b[43mtemp\u001b[49m\u001b[38;5;241m.\u001b[39mselect_dtypes(include\u001b[38;5;241m=\u001b[39m\u001b[38;5;28mobject\u001b[39m)\u001b[38;5;241m.\u001b[39mcolumns\n\u001b[1;32m      3\u001b[0m num_features \u001b[38;5;241m=\u001b[39m temp\u001b[38;5;241m.\u001b[39mdrop(\u001b[38;5;124m'\u001b[39m\u001b[38;5;124mSalePrice\u001b[39m\u001b[38;5;124m'\u001b[39m, axis\u001b[38;5;241m=\u001b[39m\u001b[38;5;241m1\u001b[39m)\u001b[38;5;241m.\u001b[39mselect_dtypes(include\u001b[38;5;241m=\u001b[39mnp\u001b[38;5;241m.\u001b[39mnumber)\u001b[38;5;241m.\u001b[39mcolumns\n\u001b[1;32m      5\u001b[0m cat_transformer \u001b[38;5;241m=\u001b[39m Pipeline(steps\u001b[38;5;241m=\u001b[39m[\n\u001b[1;32m      6\u001b[0m     (\u001b[38;5;124m'\u001b[39m\u001b[38;5;124mimputer\u001b[39m\u001b[38;5;124m'\u001b[39m, SimpleImputer(strategy\u001b[38;5;241m=\u001b[39m\u001b[38;5;124m'\u001b[39m\u001b[38;5;124mmost_frequent\u001b[39m\u001b[38;5;124m'\u001b[39m)),\n\u001b[1;32m      7\u001b[0m     (\u001b[38;5;124m'\u001b[39m\u001b[38;5;124monehot\u001b[39m\u001b[38;5;124m'\u001b[39m, OneHotEncoder(handle_unknown\u001b[38;5;241m=\u001b[39m\u001b[38;5;124m'\u001b[39m\u001b[38;5;124mignore\u001b[39m\u001b[38;5;124m'\u001b[39m))\n\u001b[1;32m      8\u001b[0m ])\n",
      "\u001b[0;31mNameError\u001b[0m: name 'temp' is not defined"
     ]
    }
   ],
   "source": [
    "# Preprocessor\n",
    "cat_features = temp.select_dtypes(include=object).columns\n",
    "num_features = temp.drop('SalePrice', axis=1).select_dtypes(include=np.number).columns\n",
    "\n",
    "cat_transformer = Pipeline(steps=[\n",
    "    ('imputer', SimpleImputer(strategy='most_frequent')),\n",
    "    ('onehot', OneHotEncoder(handle_unknown='ignore'))\n",
    "])\n",
    "num_transformer = Pipeline(steps=[\n",
    "    ('imputer', SimpleImputer(strategy='most_frequent'))\n",
    "])\n",
    "\n",
    "preprocessor = ColumnTransformer(\n",
    "    transformers=[\n",
    "        ('cat', cat_transformer, cat_features),\n",
    "        ('num', num_transformer, num_features)\n",
    "    ]\n",
    ")"
   ]
  },
  {
   "cell_type": "code",
   "execution_count": 37,
   "id": "412250a0",
   "metadata": {},
   "outputs": [],
   "source": [
    "X = temp.drop('SalePrice', axis=1)\n",
    "y = temp['SalePrice']"
   ]
  },
  {
   "cell_type": "code",
   "execution_count": 38,
   "id": "c8a87a78",
   "metadata": {
    "code_folding": [
     3
    ]
   },
   "outputs": [
    {
     "name": "stdout",
     "output_type": "stream",
     "text": [
      "Trainning...... Catbost\n"
     ]
    },
    {
     "data": {
      "text/plain": [
       "0.9174277749759084"
      ]
     },
     "execution_count": 38,
     "metadata": {},
     "output_type": "execute_result"
    }
   ],
   "source": [
    "np.random.seed(42)\n",
    "\n",
    "X_train, X_test, y_train, y_test = train_test_split(preprocessor.fit_transform(X), y)\n",
    "pool = Pool(X_train,\n",
    "           y_train)\n",
    "model = CatBoostRegressor(logging_level='Silent')\n",
    "print('Training...... Catbost')\n",
    "model.fit(pool)\n",
    "model.score(X_test, y_test)"
   ]
  },
  {
   "cell_type": "code",
   "execution_count": 39,
   "id": "7ca79f63",
   "metadata": {},
   "outputs": [],
   "source": [
    "preds = model.predict(preprocessor.fit_transform(temp2))"
   ]
  },
  {
   "cell_type": "code",
   "execution_count": 40,
   "id": "11e54880",
   "metadata": {
    "code_folding": []
   },
   "outputs": [
    {
     "data": {
      "text/html": [
       "<div>\n",
       "<style scoped>\n",
       "    .dataframe tbody tr th:only-of-type {\n",
       "        vertical-align: middle;\n",
       "    }\n",
       "\n",
       "    .dataframe tbody tr th {\n",
       "        vertical-align: top;\n",
       "    }\n",
       "\n",
       "    .dataframe thead th {\n",
       "        text-align: right;\n",
       "    }\n",
       "</style>\n",
       "<table border=\"1\" class=\"dataframe\">\n",
       "  <thead>\n",
       "    <tr style=\"text-align: right;\">\n",
       "      <th></th>\n",
       "      <th>features</th>\n",
       "      <th>importance</th>\n",
       "    </tr>\n",
       "  </thead>\n",
       "  <tbody>\n",
       "    <tr>\n",
       "      <th>232</th>\n",
       "      <td>num__OverallQual</td>\n",
       "      <td>26.266634</td>\n",
       "    </tr>\n",
       "    <tr>\n",
       "      <th>244</th>\n",
       "      <td>num__GrLivArea</td>\n",
       "      <td>13.037085</td>\n",
       "    </tr>\n",
       "    <tr>\n",
       "      <th>241</th>\n",
       "      <td>num__1stFlrSF</td>\n",
       "      <td>4.819453</td>\n",
       "    </tr>\n",
       "    <tr>\n",
       "      <th>237</th>\n",
       "      <td>num__BsmtFinSF1</td>\n",
       "      <td>4.054395</td>\n",
       "    </tr>\n",
       "    <tr>\n",
       "      <th>231</th>\n",
       "      <td>num__LotArea</td>\n",
       "      <td>3.967830</td>\n",
       "    </tr>\n",
       "  </tbody>\n",
       "</table>\n",
       "</div>"
      ],
      "text/plain": [
       "             features  importance\n",
       "232  num__OverallQual   26.266634\n",
       "244    num__GrLivArea   13.037085\n",
       "241     num__1stFlrSF    4.819453\n",
       "237   num__BsmtFinSF1    4.054395\n",
       "231      num__LotArea    3.967830"
      ]
     },
     "execution_count": 40,
     "metadata": {},
     "output_type": "execute_result"
    }
   ],
   "source": [
    "feat_imp2 = pd.DataFrame({'features':preprocessor.get_feature_names_out(),\n",
    "                                      'importance':model.get_feature_importance()})\n",
    "feat_imp2 = feat_imp2.sort_values(by='importance', ascending=False)\n",
    "feat_imp2.head()"
   ]
  },
  {
   "cell_type": "code",
   "execution_count": 41,
   "id": "013408f6",
   "metadata": {},
   "outputs": [
    {
     "data": {
      "text/plain": [
       "['1stFlrSF', 'TotRmsAbvGrd', 'GarageYrBlt', 'GarageArea']"
      ]
     },
     "execution_count": 41,
     "metadata": {},
     "output_type": "execute_result"
    }
   ],
   "source": [
    "corr_matrix = nums_df.drop('cut_SalePrice', axis=1).corr().abs()\n",
    "upper = corr_matrix.where(np.triu(np.ones(corr_matrix.shape), k=1).astype(bool))\n",
    "to_drop = [cols for cols in upper.columns if any(upper[cols] > 0.80)]\n",
    "to_drop"
   ]
  },
  {
   "cell_type": "code",
   "execution_count": 42,
   "id": "152672ee",
   "metadata": {},
   "outputs": [
    {
     "data": {
      "image/png": "[encoded data removed]",
      "text/plain": [
       "<Figure size 2000x500 with 2 Axes>"
      ]
     },
     "metadata": {},
     "output_type": "display_data"
    }
   ],
   "source": [
    "fig, axes = plt.subplots(ncols=2, nrows=1, figsize=(20,5))\n",
    "ax1 = sns.barplot(ax=axes[0], data=feat_imp1.head(10), x='importance', y='features')\n",
    "ax1.set(title='Feature importances less data')\n",
    "ax2 = sns.barplot(ax=axes[1], data=feat_imp2.head(10), x='importance', y='features')\n",
    "ax2.set(title='Feature importances all data', ylabel='')\n",
    "plt.show()"
   ]
  },
  {
   "cell_type": "markdown",
   "id": "9c0bf196",
   "metadata": {},
   "source": [
    "# Drop protocol "
   ]
  },
  {
   "cell_type": "code",
   "execution_count": 4,
   "id": "4e57e8cf",
   "metadata": {
    "code_folding": [
     0,
     1,
     8,
     13,
     21,
     41,
     47,
     57,
     62
    ]
   },
   "outputs": [],
   "source": [
    "class DropProtocol:\n",
    "    def __init__(self, df, drop_col_list, pred_col, model, plot_flag):\n",
    "        self.df = df\n",
    "        self.drop_col_list = drop_col_list\n",
    "        self.pred_col = pred_col\n",
    "        self.model = model\n",
    "        self.plot_flag = plot_flag\n",
    "        \n",
    "    def get_Xy(self, df, pred_col):\n",
    "        X = df.drop(pred_col, axis=1)\n",
    "        y = df[pred_col]\n",
    "        return X, y\n",
    "    \n",
    "    def train_model(self, X, y, model):\n",
    "        pre_X, _feat_names = self.processor(X)\n",
    "        X_train, X_test, y_train, y_test = train_test_split(pre_X, y)\n",
    "        _model = model\n",
    "        _model.fit(X_train, y_train)\n",
    "        _feat_imp = model.feature_importances_\n",
    "        return _model.score(X_test, y_test), _feat_imp, _feat_names\n",
    "    \n",
    "    def processor(self, X):\n",
    "        cat_features = X.select_dtypes(include=object).columns\n",
    "        num_features = X.select_dtypes(include=np.number).columns\n",
    "\n",
    "        cat_transformer = Pipeline(steps=[\n",
    "            ('imputer', SimpleImputer(strategy='most_frequent')),\n",
    "            ('onehot', OneHotEncoder(handle_unknown='ignore'))\n",
    "        ])\n",
    "        num_transformer = Pipeline(steps=[\n",
    "            ('imputer', SimpleImputer(strategy='most_frequent'))\n",
    "        ])\n",
    "\n",
    "        preprocessor = ColumnTransformer(\n",
    "            transformers=[\n",
    "                ('cat', cat_transformer, cat_features),\n",
    "                ('num', num_transformer, num_features)\n",
    "            ]\n",
    "        )\n",
    "        return preprocessor.fit_transform(X), preprocessor.get_feature_names_out()\n",
    "    \n",
    "    def get_feat_importances_df(self, _feat_imp, name, _feat_names):\n",
    "        feat_imp = pd.DataFrame({f'features {name}':_feat_names,\n",
    "                                 'importance':_feat_imp})\n",
    "        feat_imp = feat_imp.sort_values(by='importance', ascending=False).head(10)\n",
    "        return feat_imp\n",
    "    \n",
    "    def plot_results(self, feat_importances):\n",
    "        if len(feat_importances) > 5:\n",
    "            print('\\033[31m' + f'Max subplots are set in 5, and u are trying to subplot {len(feat_importances)} (All_data count 1)' + '\\033[0m')\n",
    "        else:\n",
    "            fig, ax = plt.subplots(ncols=1, nrows=len(feat_importances), figsize=(20,10), sharex=True)\n",
    "            for x in range(len(feat_importances)):\n",
    "                _ax = sns.barplot(ax=ax[x], data=feat_importances[x], x='importance', y=feat_importances[x].columns[0])\n",
    "                _ax.set(title=f'Importance {feat_importances[x].columns[0]}', ylabel='', xlabel='')\n",
    "            plt.show()\n",
    "        \n",
    "    def get_res_df(self, results):\n",
    "        res_df = pd.DataFrame({'Score':results.values()},\n",
    "                              index=results.keys())\n",
    "        return res_df.sort_values(by='Score', ascending=False).head(20)\n",
    "    \n",
    "    def drop_protocol(self):\n",
    "        print(f'Starting Drop-Protocol for a list of {len(self.drop_col_list)} columns.......')\n",
    "        results = {}\n",
    "        feat_importances = []\n",
    "        X, y = self.get_Xy(self.df, self.pred_col)\n",
    "        _score, _feat_imp, _feat_names = (self.train_model(X, y, self.model))\n",
    "        results['All_data'] = _score\n",
    "        feat_importances.append(self.get_feat_importances_df(_feat_imp, f'All_data / {_score:.4f}', _feat_names))\n",
    "        for x in range(len(self.drop_col_list)):\n",
    "            temp_df = self.df.drop(self.drop_col_list[x], axis=1)\n",
    "            X, y = self.get_Xy(temp_df, self.pred_col)\n",
    "            _score, _feat_imp, _feat_names = (self.train_model(X, y, self.model))\n",
    "            results[f'dropping {self.drop_col_list[x]}'] = _score\n",
    "            if self.plot_flag == True:\n",
    "                feat_importances.append(self.get_feat_importances_df(_feat_imp, f'dropping {self.drop_col_list[x]} / {_score:.4f}', _feat_names))\n",
    "        top_results = self.get_res_df(results)\n",
    "        print(top_results)\n",
    "        if self.plot_flag == True:\n",
    "            self.plot_results(feat_importances)\n",
    "        return top_results"
   ]
  },
  {
   "cell_type": "code",
   "execution_count": 77,
   "id": "cbfb20bd",
   "metadata": {},
   "outputs": [
    {
     "data": {
      "text/html": [
       "<div>\n",
       "<style scoped>\n",
       "    .dataframe tbody tr th:only-of-type {\n",
       "        vertical-align: middle;\n",
       "    }\n",
       "\n",
       "    .dataframe tbody tr th {\n",
       "        vertical-align: top;\n",
       "    }\n",
       "\n",
       "    .dataframe thead th {\n",
       "        text-align: right;\n",
       "    }\n",
       "</style>\n",
       "<table border=\"1\" class=\"dataframe\">\n",
       "  <thead>\n",
       "    <tr style=\"text-align: right;\">\n",
       "      <th></th>\n",
       "      <th>MSSubClass</th>\n",
       "      <th>MSZoning</th>\n",
       "      <th>LotFrontage</th>\n",
       "      <th>LotArea</th>\n",
       "      <th>Street</th>\n",
       "      <th>LotShape</th>\n",
       "      <th>LandContour</th>\n",
       "      <th>Utilities</th>\n",
       "      <th>LotConfig</th>\n",
       "      <th>LandSlope</th>\n",
       "      <th>...</th>\n",
       "      <th>EnclosedPorch</th>\n",
       "      <th>3SsnPorch</th>\n",
       "      <th>ScreenPorch</th>\n",
       "      <th>PoolArea</th>\n",
       "      <th>MiscVal</th>\n",
       "      <th>MoSold</th>\n",
       "      <th>YrSold</th>\n",
       "      <th>SaleType</th>\n",
       "      <th>SaleCondition</th>\n",
       "      <th>SalePrice</th>\n",
       "    </tr>\n",
       "  </thead>\n",
       "  <tbody>\n",
       "    <tr>\n",
       "      <th>0</th>\n",
       "      <td>60</td>\n",
       "      <td>RL</td>\n",
       "      <td>65.0</td>\n",
       "      <td>8450</td>\n",
       "      <td>Pave</td>\n",
       "      <td>Reg</td>\n",
       "      <td>Lvl</td>\n",
       "      <td>AllPub</td>\n",
       "      <td>Inside</td>\n",
       "      <td>Gtl</td>\n",
       "      <td>...</td>\n",
       "      <td>0</td>\n",
       "      <td>0</td>\n",
       "      <td>0</td>\n",
       "      <td>0</td>\n",
       "      <td>0</td>\n",
       "      <td>2</td>\n",
       "      <td>2008</td>\n",
       "      <td>WD</td>\n",
       "      <td>Normal</td>\n",
       "      <td>208500</td>\n",
       "    </tr>\n",
       "    <tr>\n",
       "      <th>1</th>\n",
       "      <td>20</td>\n",
       "      <td>RL</td>\n",
       "      <td>80.0</td>\n",
       "      <td>9600</td>\n",
       "      <td>Pave</td>\n",
       "      <td>Reg</td>\n",
       "      <td>Lvl</td>\n",
       "      <td>AllPub</td>\n",
       "      <td>FR2</td>\n",
       "      <td>Gtl</td>\n",
       "      <td>...</td>\n",
       "      <td>0</td>\n",
       "      <td>0</td>\n",
       "      <td>0</td>\n",
       "      <td>0</td>\n",
       "      <td>0</td>\n",
       "      <td>5</td>\n",
       "      <td>2007</td>\n",
       "      <td>WD</td>\n",
       "      <td>Normal</td>\n",
       "      <td>181500</td>\n",
       "    </tr>\n",
       "    <tr>\n",
       "      <th>2</th>\n",
       "      <td>60</td>\n",
       "      <td>RL</td>\n",
       "      <td>68.0</td>\n",
       "      <td>11250</td>\n",
       "      <td>Pave</td>\n",
       "      <td>IR1</td>\n",
       "      <td>Lvl</td>\n",
       "      <td>AllPub</td>\n",
       "      <td>Inside</td>\n",
       "      <td>Gtl</td>\n",
       "      <td>...</td>\n",
       "      <td>0</td>\n",
       "      <td>0</td>\n",
       "      <td>0</td>\n",
       "      <td>0</td>\n",
       "      <td>0</td>\n",
       "      <td>9</td>\n",
       "      <td>2008</td>\n",
       "      <td>WD</td>\n",
       "      <td>Normal</td>\n",
       "      <td>223500</td>\n",
       "    </tr>\n",
       "    <tr>\n",
       "      <th>3</th>\n",
       "      <td>70</td>\n",
       "      <td>RL</td>\n",
       "      <td>60.0</td>\n",
       "      <td>9550</td>\n",
       "      <td>Pave</td>\n",
       "      <td>IR1</td>\n",
       "      <td>Lvl</td>\n",
       "      <td>AllPub</td>\n",
       "      <td>Corner</td>\n",
       "      <td>Gtl</td>\n",
       "      <td>...</td>\n",
       "      <td>272</td>\n",
       "      <td>0</td>\n",
       "      <td>0</td>\n",
       "      <td>0</td>\n",
       "      <td>0</td>\n",
       "      <td>2</td>\n",
       "      <td>2006</td>\n",
       "      <td>WD</td>\n",
       "      <td>Abnorml</td>\n",
       "      <td>140000</td>\n",
       "    </tr>\n",
       "    <tr>\n",
       "      <th>4</th>\n",
       "      <td>60</td>\n",
       "      <td>RL</td>\n",
       "      <td>84.0</td>\n",
       "      <td>14260</td>\n",
       "      <td>Pave</td>\n",
       "      <td>IR1</td>\n",
       "      <td>Lvl</td>\n",
       "      <td>AllPub</td>\n",
       "      <td>FR2</td>\n",
       "      <td>Gtl</td>\n",
       "      <td>...</td>\n",
       "      <td>0</td>\n",
       "      <td>0</td>\n",
       "      <td>0</td>\n",
       "      <td>0</td>\n",
       "      <td>0</td>\n",
       "      <td>12</td>\n",
       "      <td>2008</td>\n",
       "      <td>WD</td>\n",
       "      <td>Normal</td>\n",
       "      <td>250000</td>\n",
       "    </tr>\n",
       "  </tbody>\n",
       "</table>\n",
       "<p>5 rows × 71 columns</p>\n",
       "</div>"
      ],
      "text/plain": [
       "   MSSubClass MSZoning  LotFrontage  LotArea Street LotShape LandContour  \\\n",
       "0          60       RL         65.0     8450   Pave      Reg         Lvl   \n",
       "1          20       RL         80.0     9600   Pave      Reg         Lvl   \n",
       "2          60       RL         68.0    11250   Pave      IR1         Lvl   \n",
       "3          70       RL         60.0     9550   Pave      IR1         Lvl   \n",
       "4          60       RL         84.0    14260   Pave      IR1         Lvl   \n",
       "\n",
       "  Utilities LotConfig LandSlope  ... EnclosedPorch 3SsnPorch ScreenPorch  \\\n",
       "0    AllPub    Inside       Gtl  ...             0         0           0   \n",
       "1    AllPub       FR2       Gtl  ...             0         0           0   \n",
       "2    AllPub    Inside       Gtl  ...             0         0           0   \n",
       "3    AllPub    Corner       Gtl  ...           272         0           0   \n",
       "4    AllPub       FR2       Gtl  ...             0         0           0   \n",
       "\n",
       "  PoolArea MiscVal  MoSold  YrSold  SaleType  SaleCondition SalePrice  \n",
       "0        0       0       2    2008        WD         Normal    208500  \n",
       "1        0       0       5    2007        WD         Normal    181500  \n",
       "2        0       0       9    2008        WD         Normal    223500  \n",
       "3        0       0       2    2006        WD        Abnorml    140000  \n",
       "4        0       0      12    2008        WD         Normal    250000  \n",
       "\n",
       "[5 rows x 71 columns]"
      ]
     },
     "execution_count": 77,
     "metadata": {},
     "output_type": "execute_result"
    }
   ],
   "source": [
    "train_df.head()"
   ]
  },
  {
   "cell_type": "code",
   "execution_count": 6,
   "id": "4cdd4ea3",
   "metadata": {},
   "outputs": [],
   "source": [
    "temp = pd.read_csv('train.csv')\n",
    "temp = temp.drop('Id', axis=1)"
   ]
  },
  {
   "cell_type": "code",
   "execution_count": 133,
   "id": "f505a26c",
   "metadata": {},
   "outputs": [
    {
     "name": "stdout",
     "output_type": "stream",
     "text": [
      "{'All_data': 0.9182296189662461, 'dropping 1stFlrSF': 0.9051359608110309, 'dropping TotRmsAbvGrd': 0.8616291477570948, 'dropping GarageYrBlt': 0.8893009136939949, 'dropping GarageArea': 0.9116319835442068}\n"
     ]
    },
    {
     "data": {
      "image/png": "[encoded data removed]",
      "text/plain": [
       "<Figure size 2000x1000 with 5 Axes>"
      ]
     },
     "metadata": {},
     "output_type": "display_data"
    }
   ],
   "source": [
    "np.random.seed(42)\n",
    "drop_list = ['1stFlrSF', 'TotRmsAbvGrd', 'GarageYrBlt', 'GarageArea'] \n",
    "test1 = DropProtocol(temp, drop_list, 'SalePrice', CatBoostRegressor(logging_level='Silent'), True)\n",
    "test1.drop_protocol()"
   ]
  },
  {
   "cell_type": "code",
   "execution_count": 7,
   "id": "e03ec0c9",
   "metadata": {},
   "outputs": [
    {
     "name": "stdout",
     "output_type": "stream",
     "text": [
      "Starting Drop-Protocol for a list of 79 columns.......\n",
      "                          Score\n",
      "dropping Exterior2nd   0.936621\n",
      "dropping BsmtUnfSF     0.935183\n",
      "dropping CentralAir    0.933982\n",
      "dropping MasVnrArea    0.932550\n",
      "dropping PoolArea      0.932362\n",
      "dropping SaleType      0.931003\n",
      "dropping FullBath      0.927738\n",
      "dropping Electrical    0.927313\n",
      "dropping FireplaceQu   0.926871\n",
      "dropping GarageArea    0.926525\n",
      "dropping LowQualFinSF  0.926130\n",
      "dropping LandSlope     0.924926\n",
      "dropping ScreenPorch   0.923866\n",
      "dropping YearRemodAdd  0.923120\n",
      "dropping PavedDrive    0.922897\n",
      "dropping BldgType      0.922794\n",
      "dropping GrLivArea     0.921407\n",
      "dropping GarageQual    0.919271\n",
      "dropping Fence         0.918936\n",
      "All_data               0.918230\n"
     ]
    }
   ],
   "source": [
    "np.random.seed(42)\n",
    "test2 = DropProtocol(temp, temp.drop('SalePrice', axis=1).columns, 'SalePrice', CatBoostRegressor(logging_level='Silent'), False)\n",
    "cols_to_drop = test2.drop_protocol()"
   ]
  },
  {
   "cell_type": "code",
   "execution_count": 106,
   "id": "6f4a7ccb",
   "metadata": {
    "code_folding": [
     0
    ]
   },
   "outputs": [
    {
     "name": "stdout",
     "output_type": "stream",
     "text": [
      "93.76712328767124 99.52054794520548 80.75342465753425 96.3013698630137 47.26027397260274\n"
     ]
    }
   ],
   "source": [
    "print(temp['Alley'].isna().sum() * 100 / len(temp),\n",
    "      temp['PoolQC'].isna().sum() * 100 / len(temp),\n",
    "      temp['Fence'].isna().sum() * 100 / len(temp),\n",
    "      temp['MiscFeature'].isna().sum() * 100 / len(temp),\n",
    "      temp['FireplaceQu'].isna().sum() * 100 / len(temp))"
   ]
  },
  {
   "cell_type": "code",
   "execution_count": 2,
   "id": "8c550705",
   "metadata": {},
   "outputs": [],
   "source": [
    "ts_temp = pd.read_csv('test.csv')\n",
    "ts_temp = ts_temp.drop('Id', axis=1)\n",
    "# ts_temp = ts_temp.drop(list(map(lambda x: x.replace('dropping ', ''), cols_to_drop.index[:1])), axis=1)"
   ]
  },
  {
   "cell_type": "code",
   "execution_count": 3,
   "id": "1122adcc",
   "metadata": {},
   "outputs": [],
   "source": [
    "tr_temp = pd.read_csv('train.csv')\n",
    "tr_temp = tr_temp.drop('Id', axis=1)"
   ]
  },
  {
   "cell_type": "code",
   "execution_count": 4,
   "id": "c9cc87aa",
   "metadata": {
    "code_folding": [
     0
    ]
   },
   "outputs": [
    {
     "name": "stdout",
     "output_type": "stream",
     "text": [
      "Cols no included in test_df:\n",
      "Utilities NoSeWa 1\n",
      "Condition2 RRNn 2\n",
      "Condition2 RRAn 1\n",
      "Condition2 RRAe 1\n",
      "HouseStyle 2.5Fin 8\n",
      "RoofMatl Metal 1\n",
      "RoofMatl Membran 1\n",
      "RoofMatl Roll 1\n",
      "RoofMatl ClyTile 1\n",
      "Exterior1st Stone 2\n",
      "Exterior1st ImStucc 1\n",
      "Exterior2nd Other 1\n",
      "Heating OthW 2\n",
      "Heating Floor 1\n",
      "Electrical Mix 1\n",
      "GarageQual Ex 3\n",
      "PoolQC Fa 2\n",
      "MiscFeature TenC 1\n"
     ]
    },
    {
     "name": "stderr",
     "output_type": "stream",
     "text": [
      "/tmp/ipykernel_160766/1656137350.py:7: SettingWithCopyWarning: \n",
      "A value is trying to be set on a copy of a slice from a DataFrame\n",
      "\n",
      "See the caveats in the documentation: https://pandas.pydata.org/pandas-docs/stable/user_guide/indexing.html#returning-a-view-versus-a-copy\n",
      "  tr_temp[col].loc[tr_temp[col] == val] = np.nan\n"
     ]
    }
   ],
   "source": [
    "# Equal categorical values between train_df and test_df\n",
    "print('Cols no included in test_df:')\n",
    "for col in tr_temp.select_dtypes(include=object).columns:\n",
    "    for val in tr_temp[col].unique():\n",
    "            if val not in ts_temp[col].unique() and val == val:\n",
    "                print(tr_temp[col].name, val, len(tr_temp.loc[tr_temp[col] == val]))\n",
    "                tr_temp[col].loc[tr_temp[col] == val] = np.nan"
   ]
  },
  {
   "cell_type": "code",
   "execution_count": 491,
   "id": "40c657db",
   "metadata": {},
   "outputs": [],
   "source": [
    "ts_temp = ts_temp.drop('Exterior2nd', axis=1)\n",
    "tr_temp = tr_temp.drop('Exterior2nd', axis=1)"
   ]
  },
  {
   "cell_type": "code",
   "execution_count": 80,
   "id": "d635280c",
   "metadata": {},
   "outputs": [
    {
     "data": {
      "text/plain": [
       "0.9145399956961734"
      ]
     },
     "execution_count": 80,
     "metadata": {},
     "output_type": "execute_result"
    }
   ],
   "source": [
    "np.random.seed(42)\n",
    "pre_X, f_imp = less_data_test1.processor(tr_temp.drop('SalePrice', axis=1))\n",
    "model = CatBoostRegressor(logging_level='Silent')\n",
    "X_train, X_test, y_train, y_test = train_test_split(pre_X, tr_temp['SalePrice'])\n",
    "model.fit(X_train, y_train)\n",
    "model.score(X_test, y_test)"
   ]
  },
  {
   "cell_type": "markdown",
   "id": "5c3b5efc",
   "metadata": {},
   "source": []
  },
  {
   "cell_type": "markdown",
   "id": "c0169c9c",
   "metadata": {},
   "source": []
  },
  {
   "cell_type": "markdown",
   "id": "a5a5c423",
   "metadata": {},
   "source": [
    "# GridSearch with RandomForest and CatBoost"
   ]
  },
  {
   "cell_type": "code",
   "execution_count": 23,
   "id": "8f71b29b",
   "metadata": {},
   "outputs": [],
   "source": [
    "from sklearn.model_selection import GridSearchCV"
   ]
  },
  {
   "cell_type": "code",
   "execution_count": 24,
   "id": "99930027",
   "metadata": {
    "code_folding": [
     0
    ]
   },
   "outputs": [
    {
     "name": "stdout",
     "output_type": "stream",
     "text": [
      "Training.......\n",
      "Fitting 2 folds for each of 18 candidates, totalling 36 fits\n",
      ".....Finish\n"
     ]
    }
   ],
   "source": [
    "# RandomForest\n",
    "np.random.seed(42)\n",
    "\n",
    "cat_features = tr_temp.select_dtypes(include=object).columns\n",
    "num_features = tr_temp.drop('SalePrice', axis=1).select_dtypes(include=np.number).columns\n",
    "\n",
    "cat_transformer = Pipeline(steps=[\n",
    "    ('imputer', SimpleImputer(strategy='constant', fill_value='missing')),\n",
    "    ('onehot', OneHotEncoder(handle_unknown='ignore'))\n",
    "])\n",
    "num_transformer = Pipeline(steps=[\n",
    "    ('imputer', SimpleImputer(strategy='constant', fill_value=0))\n",
    "])\n",
    "\n",
    "preprocessor = ColumnTransformer(\n",
    "    transformers=[\n",
    "        ('cat', cat_transformer, cat_features),\n",
    "        ('num', num_transformer, num_features)\n",
    "    ]\n",
    ")\n",
    "\n",
    "model = Pipeline(steps=[\n",
    "    ('preprocessor', preprocessor),\n",
    "    ('rfr', RandomForestRegressor())\n",
    "])\n",
    "\n",
    "grid = {\n",
    "    'preprocessor__cat__imputer__strategy': ['constant', 'most_frequent'],\n",
    "    'preprocessor__num__imputer__strategy': ['mean', 'most_frequent', 'median'],\n",
    "    'rfr__n_estimators': [1000, 2000, 5000]\n",
    "}\n",
    "\n",
    "X_train, X_test, y_train, y_test = train_test_split(tr_temp.drop('SalePrice', axis=1), tr_temp['SalePrice'])\n",
    "print('Training.......')\n",
    "\n",
    "rfr_gs = GridSearchCV(estimator=model,\n",
    "                      param_grid=grid,\n",
    "                      cv=2,\n",
    "                      verbose=1,\n",
    "                      n_jobs=-1)\n",
    "rfr_gs.fit(X_train, y_train)\n",
    "print('.....Finish')"
   ]
  },
  {
   "cell_type": "code",
   "execution_count": 70,
   "id": "2b1e31a5",
   "metadata": {},
   "outputs": [
    {
     "data": {
      "text/plain": [
       "{'preprocessor__cat__imputer__strategy': 'most_frequent',\n",
       " 'preprocessor__num__imputer__strategy': 'median',\n",
       " 'rfr__n_estimators': 2000}"
      ]
     },
     "execution_count": 70,
     "metadata": {},
     "output_type": "execute_result"
    }
   ],
   "source": [
    "rfr_gs.best_params_"
   ]
  },
  {
   "cell_type": "code",
   "execution_count": 74,
   "id": "468405d7",
   "metadata": {
    "code_folding": [
     0
    ],
    "scrolled": true
   },
   "outputs": [
    {
     "name": "stdout",
     "output_type": "stream",
     "text": [
      "Training.......\n",
      "Fitting 5 folds for each of 288 candidates, totalling 1440 fits\n",
      ".....Finish\n"
     ]
    }
   ],
   "source": [
    "# CatBoost\n",
    "np.random.seed(42)\n",
    "\n",
    "\n",
    "cat_features = tr_temp.select_dtypes(include=object).columns\n",
    "num_features = tr_temp.drop('SalePrice', axis=1).select_dtypes(include=np.number).columns\n",
    "\n",
    "cat_transformer = Pipeline(steps=[\n",
    "    ('imputer', SimpleImputer(strategy='constant', fill_value='missing')),\n",
    "    ('onehot', OneHotEncoder(handle_unknown='ignore'))\n",
    "])\n",
    "num_transformer = Pipeline(steps=[\n",
    "    ('imputer', SimpleImputer(strategy='constant', fill_value=0))\n",
    "])\n",
    "\n",
    "preprocessor = ColumnTransformer(\n",
    "    transformers=[\n",
    "        ('cat', cat_transformer, cat_features),\n",
    "        ('num', num_transformer, num_features)\n",
    "    ]\n",
    ")\n",
    "\n",
    "model = Pipeline(steps=[\n",
    "    ('preprocessor', preprocessor),\n",
    "    ('catb', CatBoostRegressor(loss_function='RMSE', logging_level='Silent'))\n",
    "])\n",
    "\n",
    "cat_grid = {\n",
    "    'preprocessor__cat__imputer__strategy': ['constant', 'most_frequent'],\n",
    "    'preprocessor__num__imputer__strategy': ['most_frequent', 'median'],\n",
    "    'catb__iterations': [500, 10000, 15000],\n",
    "    'catb__learning_rate': [0.3, 0.4, 0.5],\n",
    "    'catb__max_depth': [4, 5],\n",
    "    'catb__min_data_in_leaf': [0.5, 1],\n",
    "    'catb__l2_leaf_reg': [5, 6]\n",
    "}\n",
    "\n",
    "X_train, X_test, y_train, y_test = train_test_split(tr_temp.drop('SalePrice', axis=1), tr_temp['SalePrice'])\n",
    "print('Training.......')\n",
    "\n",
    "catb_gs = GridSearchCV(estimator=model,\n",
    "                      param_grid=cat_grid,\n",
    "                      cv=5,\n",
    "                      n_jobs=-1,\n",
    "                      verbose=1)\n",
    "catb_gs.fit(X_train, y_train)\n",
    "print('.....Finish')"
   ]
  },
  {
   "cell_type": "code",
   "execution_count": 75,
   "id": "b2061a76",
   "metadata": {},
   "outputs": [
    {
     "data": {
      "text/plain": [
       "{'catb__iterations': 15000,\n",
       " 'catb__l2_leaf_reg': 6,\n",
       " 'catb__learning_rate': 0.4,\n",
       " 'catb__max_depth': 5,\n",
       " 'catb__min_data_in_leaf': 0.5,\n",
       " 'preprocessor__cat__imputer__strategy': 'constant',\n",
       " 'preprocessor__num__imputer__strategy': 'median'}"
      ]
     },
     "execution_count": 75,
     "metadata": {},
     "output_type": "execute_result"
    }
   ],
   "source": [
    "catb_gs.best_params_"
   ]
  },
  {
   "cell_type": "markdown",
   "id": "1bc0de77",
   "metadata": {},
   "source": [
    " "
   ]
  },
  {
   "cell_type": "markdown",
   "id": "f5a90c30",
   "metadata": {},
   "source": [
    "# Catboost with folds"
   ]
  },
  {
   "cell_type": "code",
   "execution_count": 10,
   "id": "2aafef69",
   "metadata": {},
   "outputs": [],
   "source": [
    "from sklearn.model_selection import StratifiedKFold\n",
    "from tqdm.notebook import tqdm\n",
    "from time import sleep"
   ]
  },
  {
   "cell_type": "code",
   "execution_count": 495,
   "id": "e88632db",
   "metadata": {},
   "outputs": [
    {
     "data": {
      "text/plain": [
       "dtype('int64')"
      ]
     },
     "execution_count": 495,
     "metadata": {},
     "output_type": "execute_result"
    }
   ],
   "source": [
    "tr_temp['SalePrice'].dtype"
   ]
  },
  {
   "cell_type": "code",
   "execution_count": 5,
   "id": "f529e66e",
   "metadata": {},
   "outputs": [],
   "source": [
    "ts_temp.loc[len(ts_temp)] = np.nan\n",
    "tr_temp.loc[len(ts_temp)] = np.nan\n",
    "tr_temp['SalePrice'].fillna(0, inplace=True)\n",
    "tr_temp['SalePrice'] = tr_temp['SalePrice'].astype(np.int64)"
   ]
  },
  {
   "cell_type": "code",
   "execution_count": 7,
   "id": "6e55027c",
   "metadata": {
    "scrolled": true
   },
   "outputs": [
    {
     "data": {
      "text/html": [
       "<div>\n",
       "<style scoped>\n",
       "    .dataframe tbody tr th:only-of-type {\n",
       "        vertical-align: middle;\n",
       "    }\n",
       "\n",
       "    .dataframe tbody tr th {\n",
       "        vertical-align: top;\n",
       "    }\n",
       "\n",
       "    .dataframe thead th {\n",
       "        text-align: right;\n",
       "    }\n",
       "</style>\n",
       "<table border=\"1\" class=\"dataframe\">\n",
       "  <thead>\n",
       "    <tr style=\"text-align: right;\">\n",
       "      <th></th>\n",
       "      <th>MSSubClass</th>\n",
       "      <th>MSZoning</th>\n",
       "      <th>LotFrontage</th>\n",
       "      <th>LotArea</th>\n",
       "      <th>Street</th>\n",
       "      <th>Alley</th>\n",
       "      <th>LotShape</th>\n",
       "      <th>LandContour</th>\n",
       "      <th>Utilities</th>\n",
       "      <th>LotConfig</th>\n",
       "      <th>...</th>\n",
       "      <th>PoolArea</th>\n",
       "      <th>PoolQC</th>\n",
       "      <th>Fence</th>\n",
       "      <th>MiscFeature</th>\n",
       "      <th>MiscVal</th>\n",
       "      <th>MoSold</th>\n",
       "      <th>YrSold</th>\n",
       "      <th>SaleType</th>\n",
       "      <th>SaleCondition</th>\n",
       "      <th>SalePrice</th>\n",
       "    </tr>\n",
       "  </thead>\n",
       "  <tbody>\n",
       "    <tr>\n",
       "      <th>1456</th>\n",
       "      <td>20.0</td>\n",
       "      <td>RL</td>\n",
       "      <td>85.0</td>\n",
       "      <td>13175.0</td>\n",
       "      <td>Pave</td>\n",
       "      <td>NaN</td>\n",
       "      <td>Reg</td>\n",
       "      <td>Lvl</td>\n",
       "      <td>AllPub</td>\n",
       "      <td>Inside</td>\n",
       "      <td>...</td>\n",
       "      <td>0.0</td>\n",
       "      <td>NaN</td>\n",
       "      <td>MnPrv</td>\n",
       "      <td>NaN</td>\n",
       "      <td>0.0</td>\n",
       "      <td>2.0</td>\n",
       "      <td>2010.0</td>\n",
       "      <td>WD</td>\n",
       "      <td>Normal</td>\n",
       "      <td>210000</td>\n",
       "    </tr>\n",
       "    <tr>\n",
       "      <th>1457</th>\n",
       "      <td>70.0</td>\n",
       "      <td>RL</td>\n",
       "      <td>66.0</td>\n",
       "      <td>9042.0</td>\n",
       "      <td>Pave</td>\n",
       "      <td>NaN</td>\n",
       "      <td>Reg</td>\n",
       "      <td>Lvl</td>\n",
       "      <td>AllPub</td>\n",
       "      <td>Inside</td>\n",
       "      <td>...</td>\n",
       "      <td>0.0</td>\n",
       "      <td>NaN</td>\n",
       "      <td>GdPrv</td>\n",
       "      <td>Shed</td>\n",
       "      <td>2500.0</td>\n",
       "      <td>5.0</td>\n",
       "      <td>2010.0</td>\n",
       "      <td>WD</td>\n",
       "      <td>Normal</td>\n",
       "      <td>266500</td>\n",
       "    </tr>\n",
       "    <tr>\n",
       "      <th>1458</th>\n",
       "      <td>20.0</td>\n",
       "      <td>RL</td>\n",
       "      <td>68.0</td>\n",
       "      <td>9717.0</td>\n",
       "      <td>Pave</td>\n",
       "      <td>NaN</td>\n",
       "      <td>Reg</td>\n",
       "      <td>Lvl</td>\n",
       "      <td>AllPub</td>\n",
       "      <td>Inside</td>\n",
       "      <td>...</td>\n",
       "      <td>0.0</td>\n",
       "      <td>NaN</td>\n",
       "      <td>NaN</td>\n",
       "      <td>NaN</td>\n",
       "      <td>0.0</td>\n",
       "      <td>4.0</td>\n",
       "      <td>2010.0</td>\n",
       "      <td>WD</td>\n",
       "      <td>Normal</td>\n",
       "      <td>142125</td>\n",
       "    </tr>\n",
       "    <tr>\n",
       "      <th>1459</th>\n",
       "      <td>20.0</td>\n",
       "      <td>RL</td>\n",
       "      <td>75.0</td>\n",
       "      <td>9937.0</td>\n",
       "      <td>Pave</td>\n",
       "      <td>NaN</td>\n",
       "      <td>Reg</td>\n",
       "      <td>Lvl</td>\n",
       "      <td>AllPub</td>\n",
       "      <td>Inside</td>\n",
       "      <td>...</td>\n",
       "      <td>0.0</td>\n",
       "      <td>NaN</td>\n",
       "      <td>NaN</td>\n",
       "      <td>NaN</td>\n",
       "      <td>0.0</td>\n",
       "      <td>6.0</td>\n",
       "      <td>2008.0</td>\n",
       "      <td>WD</td>\n",
       "      <td>Normal</td>\n",
       "      <td>147500</td>\n",
       "    </tr>\n",
       "    <tr>\n",
       "      <th>1460</th>\n",
       "      <td>NaN</td>\n",
       "      <td>NaN</td>\n",
       "      <td>NaN</td>\n",
       "      <td>NaN</td>\n",
       "      <td>NaN</td>\n",
       "      <td>NaN</td>\n",
       "      <td>NaN</td>\n",
       "      <td>NaN</td>\n",
       "      <td>NaN</td>\n",
       "      <td>NaN</td>\n",
       "      <td>...</td>\n",
       "      <td>NaN</td>\n",
       "      <td>NaN</td>\n",
       "      <td>NaN</td>\n",
       "      <td>NaN</td>\n",
       "      <td>NaN</td>\n",
       "      <td>NaN</td>\n",
       "      <td>NaN</td>\n",
       "      <td>NaN</td>\n",
       "      <td>NaN</td>\n",
       "      <td>0</td>\n",
       "    </tr>\n",
       "  </tbody>\n",
       "</table>\n",
       "<p>5 rows × 80 columns</p>\n",
       "</div>"
      ],
      "text/plain": [
       "      MSSubClass MSZoning  LotFrontage  LotArea Street Alley LotShape  \\\n",
       "1456        20.0       RL         85.0  13175.0   Pave   NaN      Reg   \n",
       "1457        70.0       RL         66.0   9042.0   Pave   NaN      Reg   \n",
       "1458        20.0       RL         68.0   9717.0   Pave   NaN      Reg   \n",
       "1459        20.0       RL         75.0   9937.0   Pave   NaN      Reg   \n",
       "1460         NaN      NaN          NaN      NaN    NaN   NaN      NaN   \n",
       "\n",
       "     LandContour Utilities LotConfig  ... PoolArea PoolQC  Fence MiscFeature  \\\n",
       "1456         Lvl    AllPub    Inside  ...      0.0    NaN  MnPrv         NaN   \n",
       "1457         Lvl    AllPub    Inside  ...      0.0    NaN  GdPrv        Shed   \n",
       "1458         Lvl    AllPub    Inside  ...      0.0    NaN    NaN         NaN   \n",
       "1459         Lvl    AllPub    Inside  ...      0.0    NaN    NaN         NaN   \n",
       "1460         NaN       NaN       NaN  ...      NaN    NaN    NaN         NaN   \n",
       "\n",
       "     MiscVal MoSold  YrSold  SaleType  SaleCondition  SalePrice  \n",
       "1456     0.0    2.0  2010.0        WD         Normal     210000  \n",
       "1457  2500.0    5.0  2010.0        WD         Normal     266500  \n",
       "1458     0.0    4.0  2010.0        WD         Normal     142125  \n",
       "1459     0.0    6.0  2008.0        WD         Normal     147500  \n",
       "1460     NaN    NaN     NaN       NaN            NaN          0  \n",
       "\n",
       "[5 rows x 80 columns]"
      ]
     },
     "metadata": {},
     "output_type": "display_data"
    },
    {
     "data": {
      "text/html": [
       "<div>\n",
       "<style scoped>\n",
       "    .dataframe tbody tr th:only-of-type {\n",
       "        vertical-align: middle;\n",
       "    }\n",
       "\n",
       "    .dataframe tbody tr th {\n",
       "        vertical-align: top;\n",
       "    }\n",
       "\n",
       "    .dataframe thead th {\n",
       "        text-align: right;\n",
       "    }\n",
       "</style>\n",
       "<table border=\"1\" class=\"dataframe\">\n",
       "  <thead>\n",
       "    <tr style=\"text-align: right;\">\n",
       "      <th></th>\n",
       "      <th>MSSubClass</th>\n",
       "      <th>MSZoning</th>\n",
       "      <th>LotFrontage</th>\n",
       "      <th>LotArea</th>\n",
       "      <th>Street</th>\n",
       "      <th>Alley</th>\n",
       "      <th>LotShape</th>\n",
       "      <th>LandContour</th>\n",
       "      <th>Utilities</th>\n",
       "      <th>LotConfig</th>\n",
       "      <th>...</th>\n",
       "      <th>ScreenPorch</th>\n",
       "      <th>PoolArea</th>\n",
       "      <th>PoolQC</th>\n",
       "      <th>Fence</th>\n",
       "      <th>MiscFeature</th>\n",
       "      <th>MiscVal</th>\n",
       "      <th>MoSold</th>\n",
       "      <th>YrSold</th>\n",
       "      <th>SaleType</th>\n",
       "      <th>SaleCondition</th>\n",
       "    </tr>\n",
       "  </thead>\n",
       "  <tbody>\n",
       "    <tr>\n",
       "      <th>1455</th>\n",
       "      <td>160.0</td>\n",
       "      <td>RM</td>\n",
       "      <td>21.0</td>\n",
       "      <td>1894.0</td>\n",
       "      <td>Pave</td>\n",
       "      <td>NaN</td>\n",
       "      <td>Reg</td>\n",
       "      <td>Lvl</td>\n",
       "      <td>AllPub</td>\n",
       "      <td>Inside</td>\n",
       "      <td>...</td>\n",
       "      <td>0.0</td>\n",
       "      <td>0.0</td>\n",
       "      <td>NaN</td>\n",
       "      <td>NaN</td>\n",
       "      <td>NaN</td>\n",
       "      <td>0.0</td>\n",
       "      <td>4.0</td>\n",
       "      <td>2006.0</td>\n",
       "      <td>WD</td>\n",
       "      <td>Abnorml</td>\n",
       "    </tr>\n",
       "    <tr>\n",
       "      <th>1456</th>\n",
       "      <td>20.0</td>\n",
       "      <td>RL</td>\n",
       "      <td>160.0</td>\n",
       "      <td>20000.0</td>\n",
       "      <td>Pave</td>\n",
       "      <td>NaN</td>\n",
       "      <td>Reg</td>\n",
       "      <td>Lvl</td>\n",
       "      <td>AllPub</td>\n",
       "      <td>Inside</td>\n",
       "      <td>...</td>\n",
       "      <td>0.0</td>\n",
       "      <td>0.0</td>\n",
       "      <td>NaN</td>\n",
       "      <td>NaN</td>\n",
       "      <td>NaN</td>\n",
       "      <td>0.0</td>\n",
       "      <td>9.0</td>\n",
       "      <td>2006.0</td>\n",
       "      <td>WD</td>\n",
       "      <td>Abnorml</td>\n",
       "    </tr>\n",
       "    <tr>\n",
       "      <th>1457</th>\n",
       "      <td>85.0</td>\n",
       "      <td>RL</td>\n",
       "      <td>62.0</td>\n",
       "      <td>10441.0</td>\n",
       "      <td>Pave</td>\n",
       "      <td>NaN</td>\n",
       "      <td>Reg</td>\n",
       "      <td>Lvl</td>\n",
       "      <td>AllPub</td>\n",
       "      <td>Inside</td>\n",
       "      <td>...</td>\n",
       "      <td>0.0</td>\n",
       "      <td>0.0</td>\n",
       "      <td>NaN</td>\n",
       "      <td>MnPrv</td>\n",
       "      <td>Shed</td>\n",
       "      <td>700.0</td>\n",
       "      <td>7.0</td>\n",
       "      <td>2006.0</td>\n",
       "      <td>WD</td>\n",
       "      <td>Normal</td>\n",
       "    </tr>\n",
       "    <tr>\n",
       "      <th>1458</th>\n",
       "      <td>60.0</td>\n",
       "      <td>RL</td>\n",
       "      <td>74.0</td>\n",
       "      <td>9627.0</td>\n",
       "      <td>Pave</td>\n",
       "      <td>NaN</td>\n",
       "      <td>Reg</td>\n",
       "      <td>Lvl</td>\n",
       "      <td>AllPub</td>\n",
       "      <td>Inside</td>\n",
       "      <td>...</td>\n",
       "      <td>0.0</td>\n",
       "      <td>0.0</td>\n",
       "      <td>NaN</td>\n",
       "      <td>NaN</td>\n",
       "      <td>NaN</td>\n",
       "      <td>0.0</td>\n",
       "      <td>11.0</td>\n",
       "      <td>2006.0</td>\n",
       "      <td>WD</td>\n",
       "      <td>Normal</td>\n",
       "    </tr>\n",
       "    <tr>\n",
       "      <th>1459</th>\n",
       "      <td>NaN</td>\n",
       "      <td>NaN</td>\n",
       "      <td>NaN</td>\n",
       "      <td>NaN</td>\n",
       "      <td>NaN</td>\n",
       "      <td>NaN</td>\n",
       "      <td>NaN</td>\n",
       "      <td>NaN</td>\n",
       "      <td>NaN</td>\n",
       "      <td>NaN</td>\n",
       "      <td>...</td>\n",
       "      <td>NaN</td>\n",
       "      <td>NaN</td>\n",
       "      <td>NaN</td>\n",
       "      <td>NaN</td>\n",
       "      <td>NaN</td>\n",
       "      <td>NaN</td>\n",
       "      <td>NaN</td>\n",
       "      <td>NaN</td>\n",
       "      <td>NaN</td>\n",
       "      <td>NaN</td>\n",
       "    </tr>\n",
       "  </tbody>\n",
       "</table>\n",
       "<p>5 rows × 79 columns</p>\n",
       "</div>"
      ],
      "text/plain": [
       "      MSSubClass MSZoning  LotFrontage  LotArea Street Alley LotShape  \\\n",
       "1455       160.0       RM         21.0   1894.0   Pave   NaN      Reg   \n",
       "1456        20.0       RL        160.0  20000.0   Pave   NaN      Reg   \n",
       "1457        85.0       RL         62.0  10441.0   Pave   NaN      Reg   \n",
       "1458        60.0       RL         74.0   9627.0   Pave   NaN      Reg   \n",
       "1459         NaN      NaN          NaN      NaN    NaN   NaN      NaN   \n",
       "\n",
       "     LandContour Utilities LotConfig  ... ScreenPorch PoolArea PoolQC  Fence  \\\n",
       "1455         Lvl    AllPub    Inside  ...         0.0      0.0    NaN    NaN   \n",
       "1456         Lvl    AllPub    Inside  ...         0.0      0.0    NaN    NaN   \n",
       "1457         Lvl    AllPub    Inside  ...         0.0      0.0    NaN  MnPrv   \n",
       "1458         Lvl    AllPub    Inside  ...         0.0      0.0    NaN    NaN   \n",
       "1459         NaN       NaN       NaN  ...         NaN      NaN    NaN    NaN   \n",
       "\n",
       "     MiscFeature MiscVal  MoSold  YrSold  SaleType  SaleCondition  \n",
       "1455         NaN     0.0     4.0  2006.0        WD        Abnorml  \n",
       "1456         NaN     0.0     9.0  2006.0        WD        Abnorml  \n",
       "1457        Shed   700.0     7.0  2006.0        WD         Normal  \n",
       "1458         NaN     0.0    11.0  2006.0        WD         Normal  \n",
       "1459         NaN     NaN     NaN     NaN       NaN            NaN  \n",
       "\n",
       "[5 rows x 79 columns]"
      ]
     },
     "metadata": {},
     "output_type": "display_data"
    }
   ],
   "source": [
    "display(tr_temp.tail(), ts_temp.tail())"
   ]
  },
  {
   "cell_type": "code",
   "execution_count": 8,
   "id": "4e953668",
   "metadata": {},
   "outputs": [
    {
     "ename": "NameError",
     "evalue": "name 'preprocessor' is not defined",
     "output_type": "error",
     "traceback": [
      "\u001b[0;31m---------------------------------------------------------------------------\u001b[0m",
      "\u001b[0;31mNameError\u001b[0m                                 Traceback (most recent call last)",
      "Cell \u001b[0;32mIn[8], line 1\u001b[0m\n\u001b[0;32m----> 1\u001b[0m tr_temp\u001b[38;5;241m.\u001b[39mdrop(\u001b[38;5;124m'\u001b[39m\u001b[38;5;124mSalePrice\u001b[39m\u001b[38;5;124m'\u001b[39m, axis\u001b[38;5;241m=\u001b[39m\u001b[38;5;241m1\u001b[39m)\u001b[38;5;241m.\u001b[39mshape, ts_temp\u001b[38;5;241m.\u001b[39mshape, \u001b[43mpreprocessor\u001b[49m\u001b[38;5;241m.\u001b[39mfit_transform(tr_temp\u001b[38;5;241m.\u001b[39mdrop(\u001b[38;5;124m'\u001b[39m\u001b[38;5;124mSalePrice\u001b[39m\u001b[38;5;124m'\u001b[39m, axis\u001b[38;5;241m=\u001b[39m\u001b[38;5;241m1\u001b[39m))\u001b[38;5;241m.\u001b[39mshape, preprocessor\u001b[38;5;241m.\u001b[39mfit_transform(ts_temp)\u001b[38;5;241m.\u001b[39mshape\n",
      "\u001b[0;31mNameError\u001b[0m: name 'preprocessor' is not defined"
     ]
    }
   ],
   "source": [
    "tr_temp.drop('SalePrice', axis=1).shape, ts_temp.shape, preprocessor.fit_transform(tr_temp.drop('SalePrice', axis=1)).shape, preprocessor.fit_transform(ts_temp).shape"
   ]
  },
  {
   "cell_type": "code",
   "execution_count": 463,
   "id": "090d2503",
   "metadata": {},
   "outputs": [],
   "source": [
    "preprocessor.fit_transform(tr_temp.drop('SalePrice', axis=1))\n",
    "t1 = preprocessor.get_feature_names_out()"
   ]
  },
  {
   "cell_type": "code",
   "execution_count": 464,
   "id": "a6fb17ff",
   "metadata": {},
   "outputs": [],
   "source": [
    "preprocessor.fit_transform(ts_temp)\n",
    "t2 = preprocessor.get_feature_names_out()"
   ]
  },
  {
   "cell_type": "code",
   "execution_count": 465,
   "id": "a36053c6",
   "metadata": {},
   "outputs": [
    {
     "data": {
      "text/plain": [
       "[]"
      ]
     },
     "execution_count": 465,
     "metadata": {},
     "output_type": "execute_result"
    }
   ],
   "source": [
    "[x for x in t1 if x not in t2]"
   ]
  },
  {
   "cell_type": "code",
   "execution_count": 440,
   "id": "cc7b2019",
   "metadata": {},
   "outputs": [
    {
     "data": {
      "text/plain": [
       "array([123658.68487544, 165170.45523532, 183593.1594939 , ...,\n",
       "       119875.62449069, 224025.92606652, 165558.33898134])"
      ]
     },
     "execution_count": 440,
     "metadata": {},
     "output_type": "execute_result"
    }
   ],
   "source": [
    "np.random.seed(42)\n",
    "X = tr_temp.drop('SalePrice', axis=1)\n",
    "y = tr_temp['SalePrice']\n",
    "X_train, X_test, y_train, y_test = train_test_split(preprocessor.fit_transform(X), y)\n",
    "model = CatBoostRegressor(logging_level='Silent')\n",
    "model.fit(X_train, y_train)\n",
    "preds = model.predict(preprocessor.fit_transform(ts_temp))\n",
    "preds"
   ]
  },
  {
   "cell_type": "code",
   "execution_count": 22,
   "id": "292a8f15",
   "metadata": {
    "code_folding": [
     0
    ]
   },
   "outputs": [
    {
     "name": "stderr",
     "output_type": "stream",
     "text": [
      "/home/manu/Proyectos/data-science/House-Pricing/env/lib/python3.10/site-packages/sklearn/model_selection/_split.py:684: UserWarning: The least populated class in y has only 1 members, which is less than n_splits=4.\n",
      "  warnings.warn(\n"
     ]
    },
    {
     "name": "stdout",
     "output_type": "stream",
     "text": [
      "CV mean: 27585.9247, CV std: 4128.2383\n"
     ]
    }
   ],
   "source": [
    "# Preds with folds\n",
    "np.random.seed(42)\n",
    "\n",
    "n_folds = 4\n",
    "folds = StratifiedKFold(n_splits=n_folds, shuffle=True)\n",
    "\n",
    "cat_features = tr_temp.select_dtypes(include=object).columns\n",
    "num_features = tr_temp.drop('SalePrice', axis=1).select_dtypes(include=np.number).columns\n",
    "\n",
    "cat_transformer = Pipeline(steps=[\n",
    "    ('imputer', SimpleImputer(strategy='constant', fill_value='missing')),\n",
    "    ('onehot', OneHotEncoder(handle_unknown='ignore'))\n",
    "])\n",
    "num_transformer = Pipeline(steps=[\n",
    "    ('imputer', SimpleImputer(strategy='median'))\n",
    "])\n",
    "\n",
    "preprocessor = ColumnTransformer(\n",
    "    transformers=[\n",
    "        ('cat', cat_transformer, cat_features),\n",
    "        ('num', num_transformer, num_features)\n",
    "    ]\n",
    ")\n",
    "params = {\n",
    "    'loss_function': 'RMSE',\n",
    "    'logging_level': 'Silent',\n",
    "    'iterations': 1000000,\n",
    "    'l2_leaf_reg': 6,\n",
    "    'learning_rate': 0.4,\n",
    "    'max_depth': 5,\n",
    "    'min_data_in_leaf': 0.5,\n",
    "}\n",
    "pre_test = preprocessor.fit_transform(ts_temp)\n",
    "test_data = Pool(pre_test)\n",
    "scores = []\n",
    "preds = np.zeros(test_data.shape[0])\n",
    "X = preprocessor.fit_transform(tr_temp.drop('SalePrice', axis=1))\n",
    "y = tr_temp['SalePrice']\n",
    "for fold_n, (train_index, test_index) in enumerate(folds.split(X, y)):\n",
    "    X_train, X_valid = X[train_index], X[test_index]\n",
    "    y_train, y_valid = y[train_index], y[test_index]\n",
    "    train_data = Pool(data=X_train,\n",
    "                     label=y_train)\n",
    "    valid_data = Pool(data=X_valid,\n",
    "                    label=y_valid)\n",
    "    model = CatBoostRegressor(**params)\n",
    "    model.fit(train_data,\n",
    "             eval_set=valid_data,\n",
    "             use_best_model=True)\n",
    "    \n",
    "    score = model.get_best_score()['validation']['RMSE']\n",
    "    scores.append(score)\n",
    "    y_pred = model.predict(test_data)\n",
    "    preds += y_pred\n",
    "\n",
    "preds /= n_folds\n",
    "print('CV mean: {:.4f}, CV std: {:.4f}'.format(np.mean(scores), np.std(scores)))"
   ]
  },
  {
   "cell_type": "markdown",
   "id": "6cf2e9bc",
   "metadata": {},
   "source": [
    "# Push result to Kaggle"
   ]
  },
  {
   "cell_type": "code",
   "execution_count": 69,
   "id": "d8a33f03",
   "metadata": {},
   "outputs": [
    {
     "data": {
      "text/html": [
       "<div>\n",
       "<style scoped>\n",
       "    .dataframe tbody tr th:only-of-type {\n",
       "        vertical-align: middle;\n",
       "    }\n",
       "\n",
       "    .dataframe tbody tr th {\n",
       "        vertical-align: top;\n",
       "    }\n",
       "\n",
       "    .dataframe thead th {\n",
       "        text-align: right;\n",
       "    }\n",
       "</style>\n",
       "<table border=\"1\" class=\"dataframe\">\n",
       "  <thead>\n",
       "    <tr style=\"text-align: right;\">\n",
       "      <th></th>\n",
       "      <th>Id</th>\n",
       "      <th>SalePrice</th>\n",
       "    </tr>\n",
       "  </thead>\n",
       "  <tbody>\n",
       "    <tr>\n",
       "      <th>0</th>\n",
       "      <td>1461</td>\n",
       "      <td>169277.052498</td>\n",
       "    </tr>\n",
       "    <tr>\n",
       "      <th>1</th>\n",
       "      <td>1462</td>\n",
       "      <td>187758.393989</td>\n",
       "    </tr>\n",
       "    <tr>\n",
       "      <th>2</th>\n",
       "      <td>1463</td>\n",
       "      <td>183583.683570</td>\n",
       "    </tr>\n",
       "    <tr>\n",
       "      <th>3</th>\n",
       "      <td>1464</td>\n",
       "      <td>179317.477511</td>\n",
       "    </tr>\n",
       "    <tr>\n",
       "      <th>4</th>\n",
       "      <td>1465</td>\n",
       "      <td>150730.079977</td>\n",
       "    </tr>\n",
       "  </tbody>\n",
       "</table>\n",
       "</div>"
      ],
      "text/plain": [
       "     Id      SalePrice\n",
       "0  1461  169277.052498\n",
       "1  1462  187758.393989\n",
       "2  1463  183583.683570\n",
       "3  1464  179317.477511\n",
       "4  1465  150730.079977"
      ]
     },
     "execution_count": 69,
     "metadata": {},
     "output_type": "execute_result"
    }
   ],
   "source": [
    "example = pd.read_csv('sample_submission.csv')\n",
    "example.head()"
   ]
  },
  {
   "cell_type": "code",
   "execution_count": 85,
   "id": "9642a868",
   "metadata": {},
   "outputs": [
    {
     "data": {
      "text/plain": [
       "array([122404.71787831, 161376.01691974, 184103.42960976, ...,\n",
       "       157269.70573119, 120448.20342945, 227099.25167983])"
      ]
     },
     "execution_count": 85,
     "metadata": {},
     "output_type": "execute_result"
    }
   ],
   "source": [
    "preds = model.predict(preprocessor.fit_transform(test_df))\n",
    "preds"
   ]
  },
  {
   "cell_type": "code",
   "execution_count": 20,
   "id": "31d968c5",
   "metadata": {},
   "outputs": [
    {
     "data": {
      "text/html": [
       "<div>\n",
       "<style scoped>\n",
       "    .dataframe tbody tr th:only-of-type {\n",
       "        vertical-align: middle;\n",
       "    }\n",
       "\n",
       "    .dataframe tbody tr th {\n",
       "        vertical-align: top;\n",
       "    }\n",
       "\n",
       "    .dataframe thead th {\n",
       "        text-align: right;\n",
       "    }\n",
       "</style>\n",
       "<table border=\"1\" class=\"dataframe\">\n",
       "  <thead>\n",
       "    <tr style=\"text-align: right;\">\n",
       "      <th></th>\n",
       "      <th>Id</th>\n",
       "      <th>SalePrice</th>\n",
       "    </tr>\n",
       "  </thead>\n",
       "  <tbody>\n",
       "    <tr>\n",
       "      <th>0</th>\n",
       "      <td>1461</td>\n",
       "      <td>117253.428429</td>\n",
       "    </tr>\n",
       "    <tr>\n",
       "      <th>1</th>\n",
       "      <td>1462</td>\n",
       "      <td>156618.509957</td>\n",
       "    </tr>\n",
       "    <tr>\n",
       "      <th>2</th>\n",
       "      <td>1463</td>\n",
       "      <td>188900.917608</td>\n",
       "    </tr>\n",
       "    <tr>\n",
       "      <th>3</th>\n",
       "      <td>1464</td>\n",
       "      <td>191010.962803</td>\n",
       "    </tr>\n",
       "    <tr>\n",
       "      <th>4</th>\n",
       "      <td>1465</td>\n",
       "      <td>176464.947546</td>\n",
       "    </tr>\n",
       "  </tbody>\n",
       "</table>\n",
       "</div>"
      ],
      "text/plain": [
       "     Id      SalePrice\n",
       "0  1461  117253.428429\n",
       "1  1462  156618.509957\n",
       "2  1463  188900.917608\n",
       "3  1464  191010.962803\n",
       "4  1465  176464.947546"
      ]
     },
     "metadata": {},
     "output_type": "display_data"
    },
    {
     "data": {
      "text/plain": [
       "1459"
      ]
     },
     "metadata": {},
     "output_type": "display_data"
    },
    {
     "data": {
      "text/plain": [
       "1459"
      ]
     },
     "metadata": {},
     "output_type": "display_data"
    }
   ],
   "source": [
    "submission_df = pd.DataFrame(zip(pd.read_csv('test.csv', )['Id'], preds), columns=['Id', 'SalePrice'])\n",
    "display(submission_df.head(), len(submission_df), len(pd.read_csv('test.csv')))"
   ]
  },
  {
   "cell_type": "code",
   "execution_count": 21,
   "id": "ddcd5c0d",
   "metadata": {},
   "outputs": [],
   "source": [
    "submission_df.to_csv('Catb-StratifiedKFold-5.csv', index=False)"
   ]
  },
  {
   "cell_type": "code",
   "execution_count": null,
   "id": "ed4bf6b6",
   "metadata": {},
   "outputs": [],
   "source": []
  }
 ],
 "metadata": {
  "kernelspec": {
   "display_name": "Python 3 (ipykernel)",
   "language": "python",
   "name": "python3"
  },
  "language_info": {
   "codemirror_mode": {
    "name": "ipython",
    "version": 3
   },
   "file_extension": ".py",
   "mimetype": "text/x-python",
   "name": "python",
   "nbconvert_exporter": "python",
   "pygments_lexer": "ipython3",
   "version": "3.10.8"
  },
  "nbTranslate": {
   "displayLangs": [
    "*"
   ],
   "hotkey": "alt-t",
   "langInMainMenu": true,
   "sourceLang": "en",
   "targetLang": "fr",
   "useGoogleTranslate": true
  },
  "varInspector": {
   "cols": {
    "lenName": 16,
    "lenType": 16,
    "lenVar": 40
   },
   "kernels_config": {
    "python": {
     "delete_cmd_postfix": "",
     "delete_cmd_prefix": "del ",
     "library": "var_list.py",
     "varRefreshCmd": "print(var_dic_list())"
    },
    "r": {
     "delete_cmd_postfix": ") ",
     "delete_cmd_prefix": "rm(",
     "library": "var_list.r",
     "varRefreshCmd": "cat(var_dic_list()) "
    }
   },
   "types_to_exclude": [
    "module",
    "function",
    "builtin_function_or_method",
    "instance",
    "_Feature"
   ],
   "window_display": false
  }
 },
 "nbformat": 4,
 "nbformat_minor": 5
}
