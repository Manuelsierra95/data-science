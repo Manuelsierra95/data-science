{
 "cells": [
  {
   "cell_type": "code",
   "execution_count": 1,
   "id": "46968dae",
   "metadata": {},
   "outputs": [],
   "source": [
    "%matplotlib inline\n",
    "import matplotlib.pyplot as plt\n",
    "import pandas as pd\n",
    "import numpy as np"
   ]
  },
  {
   "cell_type": "code",
   "execution_count": 2,
   "id": "d4a66587",
   "metadata": {
    "scrolled": true
   },
   "outputs": [
    {
     "data": {
      "text/html": [
       "<div>\n",
       "<style scoped>\n",
       "    .dataframe tbody tr th:only-of-type {\n",
       "        vertical-align: middle;\n",
       "    }\n",
       "\n",
       "    .dataframe tbody tr th {\n",
       "        vertical-align: top;\n",
       "    }\n",
       "\n",
       "    .dataframe thead th {\n",
       "        text-align: right;\n",
       "    }\n",
       "</style>\n",
       "<table border=\"1\" class=\"dataframe\">\n",
       "  <thead>\n",
       "    <tr style=\"text-align: right;\">\n",
       "      <th></th>\n",
       "      <th>ID</th>\n",
       "      <th>Age</th>\n",
       "      <th>Nationality</th>\n",
       "      <th>Overall</th>\n",
       "      <th>Potential</th>\n",
       "      <th>Club</th>\n",
       "      <th>Value</th>\n",
       "      <th>Wage</th>\n",
       "      <th>Total stat</th>\n",
       "    </tr>\n",
       "  </thead>\n",
       "  <tbody>\n",
       "    <tr>\n",
       "      <th>0</th>\n",
       "      <td>236988</td>\n",
       "      <td>22</td>\n",
       "      <td>England</td>\n",
       "      <td>72</td>\n",
       "      <td>79</td>\n",
       "      <td>Arsenal</td>\n",
       "      <td>€4.8M</td>\n",
       "      <td>€45K</td>\n",
       "      <td>1698</td>\n",
       "    </tr>\n",
       "    <tr>\n",
       "      <th>1</th>\n",
       "      <td>225863</td>\n",
       "      <td>23</td>\n",
       "      <td>France</td>\n",
       "      <td>77</td>\n",
       "      <td>82</td>\n",
       "      <td>PSV</td>\n",
       "      <td>€14.5M</td>\n",
       "      <td>€15K</td>\n",
       "      <td>1961</td>\n",
       "    </tr>\n",
       "    <tr>\n",
       "      <th>2</th>\n",
       "      <td>241721</td>\n",
       "      <td>22</td>\n",
       "      <td>Portugal</td>\n",
       "      <td>82</td>\n",
       "      <td>90</td>\n",
       "      <td>AC Milan</td>\n",
       "      <td>€68.5M</td>\n",
       "      <td>€52K</td>\n",
       "      <td>1959</td>\n",
       "    </tr>\n",
       "    <tr>\n",
       "      <th>3</th>\n",
       "      <td>224371</td>\n",
       "      <td>24</td>\n",
       "      <td>England</td>\n",
       "      <td>79</td>\n",
       "      <td>82</td>\n",
       "      <td>West Ham United</td>\n",
       "      <td>€24M</td>\n",
       "      <td>€63K</td>\n",
       "      <td>1966</td>\n",
       "    </tr>\n",
       "    <tr>\n",
       "      <th>4</th>\n",
       "      <td>200104</td>\n",
       "      <td>28</td>\n",
       "      <td>Korea Republic</td>\n",
       "      <td>89</td>\n",
       "      <td>89</td>\n",
       "      <td>Tottenham Hotspur</td>\n",
       "      <td>€104M</td>\n",
       "      <td>€240K</td>\n",
       "      <td>2141</td>\n",
       "    </tr>\n",
       "  </tbody>\n",
       "</table>\n",
       "</div>"
      ],
      "text/plain": [
       "       ID  Age     Nationality  Overall  Potential               Club   Value  \\\n",
       "0  236988   22         England       72         79            Arsenal   €4.8M   \n",
       "1  225863   23          France       77         82                PSV  €14.5M   \n",
       "2  241721   22        Portugal       82         90           AC Milan  €68.5M   \n",
       "3  224371   24         England       79         82    West Ham United    €24M   \n",
       "4  200104   28  Korea Republic       89         89  Tottenham Hotspur   €104M   \n",
       "\n",
       "    Wage  Total stat  \n",
       "0   €45K        1698  \n",
       "1   €15K        1961  \n",
       "2   €52K        1959  \n",
       "3   €63K        1966  \n",
       "4  €240K        2141  "
      ]
     },
     "execution_count": 2,
     "metadata": {},
     "output_type": "execute_result"
    }
   ],
   "source": [
    "# Import dataset\n",
    "player_df = pd.read_csv(\"./basic_info.csv\")\n",
    "player_df = player_df.drop(['Unnamed: 0'], axis=1)\n",
    "# Duplicamos el df\n",
    "df = player_df\n",
    "# Quitamos 'Unnamed: 0' que esta mal en este DF\n",
    "df = df.drop(['Contract', 'Name'], axis=1)\n",
    "df.head()"
   ]
  },
  {
   "cell_type": "code",
   "execution_count": 3,
   "id": "d7d569c8",
   "metadata": {},
   "outputs": [
    {
     "name": "stderr",
     "output_type": "stream",
     "text": [
      "C:\\Users\\manue\\AppData\\Local\\Temp\\ipykernel_17728\\2141859909.py:2: FutureWarning: The default value of regex will change from True to False in a future version.\n",
      "  temp_data = df.str.replace('[M, K, €]', '').astype(float)\n"
     ]
    },
    {
     "data": {
      "text/html": [
       "<div>\n",
       "<style scoped>\n",
       "    .dataframe tbody tr th:only-of-type {\n",
       "        vertical-align: middle;\n",
       "    }\n",
       "\n",
       "    .dataframe tbody tr th {\n",
       "        vertical-align: top;\n",
       "    }\n",
       "\n",
       "    .dataframe thead th {\n",
       "        text-align: right;\n",
       "    }\n",
       "</style>\n",
       "<table border=\"1\" class=\"dataframe\">\n",
       "  <thead>\n",
       "    <tr style=\"text-align: right;\">\n",
       "      <th></th>\n",
       "      <th>ID</th>\n",
       "      <th>Age</th>\n",
       "      <th>Nationality</th>\n",
       "      <th>Overall</th>\n",
       "      <th>Potential</th>\n",
       "      <th>Club</th>\n",
       "      <th>Value</th>\n",
       "      <th>Wage</th>\n",
       "      <th>Total stat</th>\n",
       "    </tr>\n",
       "  </thead>\n",
       "  <tbody>\n",
       "    <tr>\n",
       "      <th>0</th>\n",
       "      <td>236988</td>\n",
       "      <td>22</td>\n",
       "      <td>England</td>\n",
       "      <td>72</td>\n",
       "      <td>79</td>\n",
       "      <td>Arsenal</td>\n",
       "      <td>4800000.0</td>\n",
       "      <td>€45K</td>\n",
       "      <td>1698</td>\n",
       "    </tr>\n",
       "    <tr>\n",
       "      <th>1</th>\n",
       "      <td>225863</td>\n",
       "      <td>23</td>\n",
       "      <td>France</td>\n",
       "      <td>77</td>\n",
       "      <td>82</td>\n",
       "      <td>PSV</td>\n",
       "      <td>14500000.0</td>\n",
       "      <td>€15K</td>\n",
       "      <td>1961</td>\n",
       "    </tr>\n",
       "    <tr>\n",
       "      <th>2</th>\n",
       "      <td>241721</td>\n",
       "      <td>22</td>\n",
       "      <td>Portugal</td>\n",
       "      <td>82</td>\n",
       "      <td>90</td>\n",
       "      <td>AC Milan</td>\n",
       "      <td>68500000.0</td>\n",
       "      <td>€52K</td>\n",
       "      <td>1959</td>\n",
       "    </tr>\n",
       "    <tr>\n",
       "      <th>3</th>\n",
       "      <td>224371</td>\n",
       "      <td>24</td>\n",
       "      <td>England</td>\n",
       "      <td>79</td>\n",
       "      <td>82</td>\n",
       "      <td>West Ham United</td>\n",
       "      <td>24000000.0</td>\n",
       "      <td>€63K</td>\n",
       "      <td>1966</td>\n",
       "    </tr>\n",
       "    <tr>\n",
       "      <th>4</th>\n",
       "      <td>200104</td>\n",
       "      <td>28</td>\n",
       "      <td>Korea Republic</td>\n",
       "      <td>89</td>\n",
       "      <td>89</td>\n",
       "      <td>Tottenham Hotspur</td>\n",
       "      <td>104000000.0</td>\n",
       "      <td>€240K</td>\n",
       "      <td>2141</td>\n",
       "    </tr>\n",
       "  </tbody>\n",
       "</table>\n",
       "</div>"
      ],
      "text/plain": [
       "       ID  Age     Nationality  Overall  Potential               Club  \\\n",
       "0  236988   22         England       72         79            Arsenal   \n",
       "1  225863   23          France       77         82                PSV   \n",
       "2  241721   22        Portugal       82         90           AC Milan   \n",
       "3  224371   24         England       79         82    West Ham United   \n",
       "4  200104   28  Korea Republic       89         89  Tottenham Hotspur   \n",
       "\n",
       "         Value   Wage  Total stat  \n",
       "0    4800000.0   €45K        1698  \n",
       "1   14500000.0   €15K        1961  \n",
       "2   68500000.0   €52K        1959  \n",
       "3   24000000.0   €63K        1966  \n",
       "4  104000000.0  €240K        2141  "
      ]
     },
     "execution_count": 3,
     "metadata": {},
     "output_type": "execute_result"
    }
   ],
   "source": [
    "def clean_data_money(df):\n",
    "    temp_data = df.str.replace('[M, K, €]', '').astype(float)\n",
    "    for values, indx in zip(df, df.index):\n",
    "        if values[-1] == 'M':\n",
    "            temp_data[indx] = temp_data[indx] * 1000000\n",
    "        elif values[-1] == 'K':\n",
    "            temp_data[indx] = temp_data[indx] * 1000\n",
    "        else:\n",
    "            pass\n",
    "    return temp_data\n",
    "df['Value'] = clean_data_money(df['Value'])\n",
    "df.head()"
   ]
  },
  {
   "cell_type": "code",
   "execution_count": 4,
   "id": "585c8725",
   "metadata": {},
   "outputs": [
    {
     "name": "stderr",
     "output_type": "stream",
     "text": [
      "C:\\Users\\manue\\AppData\\Local\\Temp\\ipykernel_17728\\2141859909.py:2: FutureWarning: The default value of regex will change from True to False in a future version.\n",
      "  temp_data = df.str.replace('[M, K, €]', '').astype(float)\n"
     ]
    },
    {
     "data": {
      "text/html": [
       "<div>\n",
       "<style scoped>\n",
       "    .dataframe tbody tr th:only-of-type {\n",
       "        vertical-align: middle;\n",
       "    }\n",
       "\n",
       "    .dataframe tbody tr th {\n",
       "        vertical-align: top;\n",
       "    }\n",
       "\n",
       "    .dataframe thead th {\n",
       "        text-align: right;\n",
       "    }\n",
       "</style>\n",
       "<table border=\"1\" class=\"dataframe\">\n",
       "  <thead>\n",
       "    <tr style=\"text-align: right;\">\n",
       "      <th></th>\n",
       "      <th>ID</th>\n",
       "      <th>Age</th>\n",
       "      <th>Nationality</th>\n",
       "      <th>Overall</th>\n",
       "      <th>Potential</th>\n",
       "      <th>Club</th>\n",
       "      <th>Value</th>\n",
       "      <th>Wage</th>\n",
       "      <th>Total stat</th>\n",
       "    </tr>\n",
       "  </thead>\n",
       "  <tbody>\n",
       "    <tr>\n",
       "      <th>0</th>\n",
       "      <td>236988</td>\n",
       "      <td>22</td>\n",
       "      <td>England</td>\n",
       "      <td>72</td>\n",
       "      <td>79</td>\n",
       "      <td>Arsenal</td>\n",
       "      <td>4800000.0</td>\n",
       "      <td>45000.0</td>\n",
       "      <td>1698</td>\n",
       "    </tr>\n",
       "    <tr>\n",
       "      <th>1</th>\n",
       "      <td>225863</td>\n",
       "      <td>23</td>\n",
       "      <td>France</td>\n",
       "      <td>77</td>\n",
       "      <td>82</td>\n",
       "      <td>PSV</td>\n",
       "      <td>14500000.0</td>\n",
       "      <td>15000.0</td>\n",
       "      <td>1961</td>\n",
       "    </tr>\n",
       "    <tr>\n",
       "      <th>2</th>\n",
       "      <td>241721</td>\n",
       "      <td>22</td>\n",
       "      <td>Portugal</td>\n",
       "      <td>82</td>\n",
       "      <td>90</td>\n",
       "      <td>AC Milan</td>\n",
       "      <td>68500000.0</td>\n",
       "      <td>52000.0</td>\n",
       "      <td>1959</td>\n",
       "    </tr>\n",
       "    <tr>\n",
       "      <th>3</th>\n",
       "      <td>224371</td>\n",
       "      <td>24</td>\n",
       "      <td>England</td>\n",
       "      <td>79</td>\n",
       "      <td>82</td>\n",
       "      <td>West Ham United</td>\n",
       "      <td>24000000.0</td>\n",
       "      <td>63000.0</td>\n",
       "      <td>1966</td>\n",
       "    </tr>\n",
       "    <tr>\n",
       "      <th>4</th>\n",
       "      <td>200104</td>\n",
       "      <td>28</td>\n",
       "      <td>Korea Republic</td>\n",
       "      <td>89</td>\n",
       "      <td>89</td>\n",
       "      <td>Tottenham Hotspur</td>\n",
       "      <td>104000000.0</td>\n",
       "      <td>240000.0</td>\n",
       "      <td>2141</td>\n",
       "    </tr>\n",
       "  </tbody>\n",
       "</table>\n",
       "</div>"
      ],
      "text/plain": [
       "       ID  Age     Nationality  Overall  Potential               Club  \\\n",
       "0  236988   22         England       72         79            Arsenal   \n",
       "1  225863   23          France       77         82                PSV   \n",
       "2  241721   22        Portugal       82         90           AC Milan   \n",
       "3  224371   24         England       79         82    West Ham United   \n",
       "4  200104   28  Korea Republic       89         89  Tottenham Hotspur   \n",
       "\n",
       "         Value      Wage  Total stat  \n",
       "0    4800000.0   45000.0        1698  \n",
       "1   14500000.0   15000.0        1961  \n",
       "2   68500000.0   52000.0        1959  \n",
       "3   24000000.0   63000.0        1966  \n",
       "4  104000000.0  240000.0        2141  "
      ]
     },
     "execution_count": 4,
     "metadata": {},
     "output_type": "execute_result"
    }
   ],
   "source": [
    "df['Wage'] = clean_data_money(df['Wage'])\n",
    "df.head()"
   ]
  },
  {
   "cell_type": "code",
   "execution_count": 5,
   "id": "4b27260c",
   "metadata": {
    "scrolled": true
   },
   "outputs": [
    {
     "data": {
      "text/html": [
       "<div>\n",
       "<style scoped>\n",
       "    .dataframe tbody tr th:only-of-type {\n",
       "        vertical-align: middle;\n",
       "    }\n",
       "\n",
       "    .dataframe tbody tr th {\n",
       "        vertical-align: top;\n",
       "    }\n",
       "\n",
       "    .dataframe thead th {\n",
       "        text-align: right;\n",
       "    }\n",
       "</style>\n",
       "<table border=\"1\" class=\"dataframe\">\n",
       "  <thead>\n",
       "    <tr style=\"text-align: right;\">\n",
       "      <th></th>\n",
       "      <th>ID</th>\n",
       "      <th>Age</th>\n",
       "      <th>Nationality</th>\n",
       "      <th>Overall</th>\n",
       "      <th>Potential</th>\n",
       "      <th>Club</th>\n",
       "      <th>Value</th>\n",
       "      <th>Wage</th>\n",
       "      <th>Total stat</th>\n",
       "    </tr>\n",
       "  </thead>\n",
       "  <tbody>\n",
       "    <tr>\n",
       "      <th>0</th>\n",
       "      <td>236988</td>\n",
       "      <td>22</td>\n",
       "      <td>England</td>\n",
       "      <td>72</td>\n",
       "      <td>79</td>\n",
       "      <td>Arsenal</td>\n",
       "      <td>4800000.0</td>\n",
       "      <td>45000.0</td>\n",
       "      <td>1698</td>\n",
       "    </tr>\n",
       "    <tr>\n",
       "      <th>1</th>\n",
       "      <td>225863</td>\n",
       "      <td>23</td>\n",
       "      <td>France</td>\n",
       "      <td>77</td>\n",
       "      <td>82</td>\n",
       "      <td>PSV</td>\n",
       "      <td>14500000.0</td>\n",
       "      <td>15000.0</td>\n",
       "      <td>1961</td>\n",
       "    </tr>\n",
       "    <tr>\n",
       "      <th>2</th>\n",
       "      <td>241721</td>\n",
       "      <td>22</td>\n",
       "      <td>Portugal</td>\n",
       "      <td>82</td>\n",
       "      <td>90</td>\n",
       "      <td>AC Milan</td>\n",
       "      <td>68500000.0</td>\n",
       "      <td>52000.0</td>\n",
       "      <td>1959</td>\n",
       "    </tr>\n",
       "    <tr>\n",
       "      <th>3</th>\n",
       "      <td>224371</td>\n",
       "      <td>24</td>\n",
       "      <td>England</td>\n",
       "      <td>79</td>\n",
       "      <td>82</td>\n",
       "      <td>West Ham United</td>\n",
       "      <td>24000000.0</td>\n",
       "      <td>63000.0</td>\n",
       "      <td>1966</td>\n",
       "    </tr>\n",
       "    <tr>\n",
       "      <th>4</th>\n",
       "      <td>200104</td>\n",
       "      <td>28</td>\n",
       "      <td>Korea Republic</td>\n",
       "      <td>89</td>\n",
       "      <td>89</td>\n",
       "      <td>Tottenham Hotspur</td>\n",
       "      <td>104000000.0</td>\n",
       "      <td>240000.0</td>\n",
       "      <td>2141</td>\n",
       "    </tr>\n",
       "  </tbody>\n",
       "</table>\n",
       "</div>"
      ],
      "text/plain": [
       "       ID  Age     Nationality  Overall  Potential               Club  \\\n",
       "0  236988   22         England       72         79            Arsenal   \n",
       "1  225863   23          France       77         82                PSV   \n",
       "2  241721   22        Portugal       82         90           AC Milan   \n",
       "3  224371   24         England       79         82    West Ham United   \n",
       "4  200104   28  Korea Republic       89         89  Tottenham Hotspur   \n",
       "\n",
       "         Value      Wage  Total stat  \n",
       "0    4800000.0   45000.0        1698  \n",
       "1   14500000.0   15000.0        1961  \n",
       "2   68500000.0   52000.0        1959  \n",
       "3   24000000.0   63000.0        1966  \n",
       "4  104000000.0  240000.0        2141  "
      ]
     },
     "execution_count": 5,
     "metadata": {},
     "output_type": "execute_result"
    }
   ],
   "source": [
    "df.head()"
   ]
  },
  {
   "cell_type": "code",
   "execution_count": 6,
   "id": "575a95d1",
   "metadata": {},
   "outputs": [],
   "source": [
    "# Create X (all the feature columns)\n",
    "X = df.drop(\"Overall\", axis=1)\n",
    "\n",
    "# Create y (the target column)\n",
    "y = df[\"Overall\"]"
   ]
  },
  {
   "cell_type": "code",
   "execution_count": 7,
   "id": "5b955ee8",
   "metadata": {},
   "outputs": [
    {
     "data": {
      "text/html": [
       "<div>\n",
       "<style scoped>\n",
       "    .dataframe tbody tr th:only-of-type {\n",
       "        vertical-align: middle;\n",
       "    }\n",
       "\n",
       "    .dataframe tbody tr th {\n",
       "        vertical-align: top;\n",
       "    }\n",
       "\n",
       "    .dataframe thead th {\n",
       "        text-align: right;\n",
       "    }\n",
       "</style>\n",
       "<table border=\"1\" class=\"dataframe\">\n",
       "  <thead>\n",
       "    <tr style=\"text-align: right;\">\n",
       "      <th></th>\n",
       "      <th>ID</th>\n",
       "      <th>Age</th>\n",
       "      <th>Nationality</th>\n",
       "      <th>Potential</th>\n",
       "      <th>Club</th>\n",
       "      <th>Value</th>\n",
       "      <th>Wage</th>\n",
       "      <th>Total stat</th>\n",
       "    </tr>\n",
       "  </thead>\n",
       "  <tbody>\n",
       "    <tr>\n",
       "      <th>0</th>\n",
       "      <td>236988</td>\n",
       "      <td>22</td>\n",
       "      <td>England</td>\n",
       "      <td>79</td>\n",
       "      <td>Arsenal</td>\n",
       "      <td>4800000.0</td>\n",
       "      <td>45000.0</td>\n",
       "      <td>1698</td>\n",
       "    </tr>\n",
       "    <tr>\n",
       "      <th>1</th>\n",
       "      <td>225863</td>\n",
       "      <td>23</td>\n",
       "      <td>France</td>\n",
       "      <td>82</td>\n",
       "      <td>PSV</td>\n",
       "      <td>14500000.0</td>\n",
       "      <td>15000.0</td>\n",
       "      <td>1961</td>\n",
       "    </tr>\n",
       "    <tr>\n",
       "      <th>2</th>\n",
       "      <td>241721</td>\n",
       "      <td>22</td>\n",
       "      <td>Portugal</td>\n",
       "      <td>90</td>\n",
       "      <td>AC Milan</td>\n",
       "      <td>68500000.0</td>\n",
       "      <td>52000.0</td>\n",
       "      <td>1959</td>\n",
       "    </tr>\n",
       "    <tr>\n",
       "      <th>3</th>\n",
       "      <td>224371</td>\n",
       "      <td>24</td>\n",
       "      <td>England</td>\n",
       "      <td>82</td>\n",
       "      <td>West Ham United</td>\n",
       "      <td>24000000.0</td>\n",
       "      <td>63000.0</td>\n",
       "      <td>1966</td>\n",
       "    </tr>\n",
       "    <tr>\n",
       "      <th>4</th>\n",
       "      <td>200104</td>\n",
       "      <td>28</td>\n",
       "      <td>Korea Republic</td>\n",
       "      <td>89</td>\n",
       "      <td>Tottenham Hotspur</td>\n",
       "      <td>104000000.0</td>\n",
       "      <td>240000.0</td>\n",
       "      <td>2141</td>\n",
       "    </tr>\n",
       "    <tr>\n",
       "      <th>...</th>\n",
       "      <td>...</td>\n",
       "      <td>...</td>\n",
       "      <td>...</td>\n",
       "      <td>...</td>\n",
       "      <td>...</td>\n",
       "      <td>...</td>\n",
       "      <td>...</td>\n",
       "      <td>...</td>\n",
       "    </tr>\n",
       "    <tr>\n",
       "      <th>19820</th>\n",
       "      <td>245534</td>\n",
       "      <td>18</td>\n",
       "      <td>England</td>\n",
       "      <td>64</td>\n",
       "      <td>Tranmere Rovers</td>\n",
       "      <td>80000.0</td>\n",
       "      <td>500.0</td>\n",
       "      <td>1506</td>\n",
       "    </tr>\n",
       "    <tr>\n",
       "      <th>19821</th>\n",
       "      <td>245535</td>\n",
       "      <td>26</td>\n",
       "      <td>Turkey</td>\n",
       "      <td>74</td>\n",
       "      <td>Yukatel Kayserispor</td>\n",
       "      <td>2200000.0</td>\n",
       "      <td>15000.0</td>\n",
       "      <td>2008</td>\n",
       "    </tr>\n",
       "    <tr>\n",
       "      <th>19822</th>\n",
       "      <td>245536</td>\n",
       "      <td>19</td>\n",
       "      <td>Italy</td>\n",
       "      <td>70</td>\n",
       "      <td>Frosinone</td>\n",
       "      <td>200000.0</td>\n",
       "      <td>2000.0</td>\n",
       "      <td>1385</td>\n",
       "    </tr>\n",
       "    <tr>\n",
       "      <th>19823</th>\n",
       "      <td>245540</td>\n",
       "      <td>23</td>\n",
       "      <td>Greece</td>\n",
       "      <td>74</td>\n",
       "      <td>AEK Athens</td>\n",
       "      <td>1900000.0</td>\n",
       "      <td>500.0</td>\n",
       "      <td>1589</td>\n",
       "    </tr>\n",
       "    <tr>\n",
       "      <th>19824</th>\n",
       "      <td>259356</td>\n",
       "      <td>17</td>\n",
       "      <td>England</td>\n",
       "      <td>87</td>\n",
       "      <td>Aston Villa</td>\n",
       "      <td>1800000.0</td>\n",
       "      <td>2000.0</td>\n",
       "      <td>1630</td>\n",
       "    </tr>\n",
       "  </tbody>\n",
       "</table>\n",
       "<p>19825 rows × 8 columns</p>\n",
       "</div>"
      ],
      "text/plain": [
       "           ID  Age     Nationality  Potential                 Club  \\\n",
       "0      236988   22         England         79              Arsenal   \n",
       "1      225863   23          France         82                  PSV   \n",
       "2      241721   22        Portugal         90             AC Milan   \n",
       "3      224371   24         England         82      West Ham United   \n",
       "4      200104   28  Korea Republic         89    Tottenham Hotspur   \n",
       "...       ...  ...             ...        ...                  ...   \n",
       "19820  245534   18         England         64      Tranmere Rovers   \n",
       "19821  245535   26          Turkey         74  Yukatel Kayserispor   \n",
       "19822  245536   19           Italy         70            Frosinone   \n",
       "19823  245540   23          Greece         74           AEK Athens   \n",
       "19824  259356   17         England         87          Aston Villa   \n",
       "\n",
       "             Value      Wage  Total stat  \n",
       "0        4800000.0   45000.0        1698  \n",
       "1       14500000.0   15000.0        1961  \n",
       "2       68500000.0   52000.0        1959  \n",
       "3       24000000.0   63000.0        1966  \n",
       "4      104000000.0  240000.0        2141  \n",
       "...            ...       ...         ...  \n",
       "19820      80000.0     500.0        1506  \n",
       "19821    2200000.0   15000.0        2008  \n",
       "19822     200000.0    2000.0        1385  \n",
       "19823    1900000.0     500.0        1589  \n",
       "19824    1800000.0    2000.0        1630  \n",
       "\n",
       "[19825 rows x 8 columns]"
      ]
     },
     "execution_count": 7,
     "metadata": {},
     "output_type": "execute_result"
    }
   ],
   "source": [
    "X"
   ]
  },
  {
   "cell_type": "code",
   "execution_count": 8,
   "id": "b5744f87",
   "metadata": {},
   "outputs": [
    {
     "data": {
      "text/plain": [
       "0        72\n",
       "1        77\n",
       "2        82\n",
       "3        79\n",
       "4        89\n",
       "         ..\n",
       "19820    52\n",
       "19821    71\n",
       "19822    57\n",
       "19823    69\n",
       "19824    64\n",
       "Name: Overall, Length: 19825, dtype: int64"
      ]
     },
     "execution_count": 8,
     "metadata": {},
     "output_type": "execute_result"
    }
   ],
   "source": [
    "y"
   ]
  },
  {
   "cell_type": "code",
   "execution_count": 9,
   "id": "6027639a",
   "metadata": {},
   "outputs": [
    {
     "data": {
      "text/plain": [
       "<19825x1102 sparse matrix of type '<class 'numpy.float64'>'\n",
       "\twith 157896 stored elements in Compressed Sparse Row format>"
      ]
     },
     "execution_count": 9,
     "metadata": {},
     "output_type": "execute_result"
    }
   ],
   "source": [
    "from sklearn.preprocessing import OneHotEncoder\n",
    "from sklearn.compose import ColumnTransformer\n",
    "\n",
    "categorical_features = ['Nationality', 'Club'] # columnas que queremos transformar en nums\n",
    "one_hot = OneHotEncoder()\n",
    "transformer = ColumnTransformer([('one_hot',\n",
    "                                  one_hot,\n",
    "                                  categorical_features)], # aqui le pasamos la columnas\n",
    "                                  remainder='passthrough') # esto es para no alterar el resto de columnas\n",
    "transformed_X = transformer.fit_transform(X)\n",
    "transformed_X"
   ]
  },
  {
   "cell_type": "code",
   "execution_count": 10,
   "id": "a1cfb682",
   "metadata": {},
   "outputs": [
    {
     "data": {
      "text/plain": [
       "((15860, 1102), (3965, 1102), (15860,), (3965,))"
      ]
     },
     "execution_count": 10,
     "metadata": {},
     "output_type": "execute_result"
    }
   ],
   "source": [
    "# Split the data into training and test sets\n",
    "from sklearn.model_selection import train_test_split\n",
    "\n",
    "X_train, X_test, y_train, y_test = train_test_split(transformed_X,\n",
    "                                                    y,\n",
    "                                                    test_size=0.2)\n",
    "# View the data shapes\n",
    "X_train.shape, X_test.shape, y_train.shape, y_test.shape"
   ]
  },
  {
   "cell_type": "code",
   "execution_count": 11,
   "id": "915fdaa0",
   "metadata": {},
   "outputs": [
    {
     "data": {
      "text/html": [
       "<style>#sk-container-id-1 {color: black;background-color: white;}#sk-container-id-1 pre{padding: 0;}#sk-container-id-1 div.sk-toggleable {background-color: white;}#sk-container-id-1 label.sk-toggleable__label {cursor: pointer;display: block;width: 100%;margin-bottom: 0;padding: 0.3em;box-sizing: border-box;text-align: center;}#sk-container-id-1 label.sk-toggleable__label-arrow:before {content: \"▸\";float: left;margin-right: 0.25em;color: #696969;}#sk-container-id-1 label.sk-toggleable__label-arrow:hover:before {color: black;}#sk-container-id-1 div.sk-estimator:hover label.sk-toggleable__label-arrow:before {color: black;}#sk-container-id-1 div.sk-toggleable__content {max-height: 0;max-width: 0;overflow: hidden;text-align: left;background-color: #f0f8ff;}#sk-container-id-1 div.sk-toggleable__content pre {margin: 0.2em;color: black;border-radius: 0.25em;background-color: #f0f8ff;}#sk-container-id-1 input.sk-toggleable__control:checked~div.sk-toggleable__content {max-height: 200px;max-width: 100%;overflow: auto;}#sk-container-id-1 input.sk-toggleable__control:checked~label.sk-toggleable__label-arrow:before {content: \"▾\";}#sk-container-id-1 div.sk-estimator input.sk-toggleable__control:checked~label.sk-toggleable__label {background-color: #d4ebff;}#sk-container-id-1 div.sk-label input.sk-toggleable__control:checked~label.sk-toggleable__label {background-color: #d4ebff;}#sk-container-id-1 input.sk-hidden--visually {border: 0;clip: rect(1px 1px 1px 1px);clip: rect(1px, 1px, 1px, 1px);height: 1px;margin: -1px;overflow: hidden;padding: 0;position: absolute;width: 1px;}#sk-container-id-1 div.sk-estimator {font-family: monospace;background-color: #f0f8ff;border: 1px dotted black;border-radius: 0.25em;box-sizing: border-box;margin-bottom: 0.5em;}#sk-container-id-1 div.sk-estimator:hover {background-color: #d4ebff;}#sk-container-id-1 div.sk-parallel-item::after {content: \"\";width: 100%;border-bottom: 1px solid gray;flex-grow: 1;}#sk-container-id-1 div.sk-label:hover label.sk-toggleable__label {background-color: #d4ebff;}#sk-container-id-1 div.sk-serial::before {content: \"\";position: absolute;border-left: 1px solid gray;box-sizing: border-box;top: 0;bottom: 0;left: 50%;z-index: 0;}#sk-container-id-1 div.sk-serial {display: flex;flex-direction: column;align-items: center;background-color: white;padding-right: 0.2em;padding-left: 0.2em;position: relative;}#sk-container-id-1 div.sk-item {position: relative;z-index: 1;}#sk-container-id-1 div.sk-parallel {display: flex;align-items: stretch;justify-content: center;background-color: white;position: relative;}#sk-container-id-1 div.sk-item::before, #sk-container-id-1 div.sk-parallel-item::before {content: \"\";position: absolute;border-left: 1px solid gray;box-sizing: border-box;top: 0;bottom: 0;left: 50%;z-index: -1;}#sk-container-id-1 div.sk-parallel-item {display: flex;flex-direction: column;z-index: 1;position: relative;background-color: white;}#sk-container-id-1 div.sk-parallel-item:first-child::after {align-self: flex-end;width: 50%;}#sk-container-id-1 div.sk-parallel-item:last-child::after {align-self: flex-start;width: 50%;}#sk-container-id-1 div.sk-parallel-item:only-child::after {width: 0;}#sk-container-id-1 div.sk-dashed-wrapped {border: 1px dashed gray;margin: 0 0.4em 0.5em 0.4em;box-sizing: border-box;padding-bottom: 0.4em;background-color: white;}#sk-container-id-1 div.sk-label label {font-family: monospace;font-weight: bold;display: inline-block;line-height: 1.2em;}#sk-container-id-1 div.sk-label-container {text-align: center;}#sk-container-id-1 div.sk-container {/* jupyter's `normalize.less` sets `[hidden] { display: none; }` but bootstrap.min.css set `[hidden] { display: none !important; }` so we also need the `!important` here to be able to override the default hidden behavior on the sphinx rendered scikit-learn.org. See: https://github.com/scikit-learn/scikit-learn/issues/21755 */display: inline-block !important;position: relative;}#sk-container-id-1 div.sk-text-repr-fallback {display: none;}</style><div id=\"sk-container-id-1\" class=\"sk-top-container\"><div class=\"sk-text-repr-fallback\"><pre>RandomForestRegressor()</pre><b>In a Jupyter environment, please rerun this cell to show the HTML representation or trust the notebook. <br />On GitHub, the HTML representation is unable to render, please try loading this page with nbviewer.org.</b></div><div class=\"sk-container\" hidden><div class=\"sk-item\"><div class=\"sk-estimator sk-toggleable\"><input class=\"sk-toggleable__control sk-hidden--visually\" id=\"sk-estimator-id-1\" type=\"checkbox\" checked><label for=\"sk-estimator-id-1\" class=\"sk-toggleable__label sk-toggleable__label-arrow\">RandomForestRegressor</label><div class=\"sk-toggleable__content\"><pre>RandomForestRegressor()</pre></div></div></div></div></div>"
      ],
      "text/plain": [
       "RandomForestRegressor()"
      ]
     },
     "execution_count": 11,
     "metadata": {},
     "output_type": "execute_result"
    }
   ],
   "source": [
    "from sklearn.ensemble import RandomForestRegressor\n",
    "\n",
    "model = RandomForestRegressor()\n",
    "model.fit(X_train, y_train)"
   ]
  },
  {
   "cell_type": "code",
   "execution_count": 12,
   "id": "91e322b0",
   "metadata": {
    "scrolled": true
   },
   "outputs": [
    {
     "data": {
      "text/plain": [
       "0.9853847669253286"
      ]
     },
     "execution_count": 12,
     "metadata": {},
     "output_type": "execute_result"
    }
   ],
   "source": [
    "model.score(X_test, y_test)"
   ]
  },
  {
   "cell_type": "code",
   "execution_count": 13,
   "id": "473f6664",
   "metadata": {},
   "outputs": [
    {
     "name": "stdout",
     "output_type": "stream",
     "text": [
      "  (0, 118)\t1.0\n",
      "  (0, 172)\t1.0\n",
      "  (0, 1096)\t254766.0\n",
      "  (0, 1097)\t21.0\n",
      "  (0, 1098)\t69.0\n",
      "  (0, 1099)\t725000.0\n",
      "  (0, 1100)\t2000.0\n",
      "  (0, 1101)\t1531.0\n"
     ]
    }
   ],
   "source": [
    "print(X_test[6]) # Vemos que el elemento (0, 1096) corresponde al ID del jugador"
   ]
  },
  {
   "cell_type": "code",
   "execution_count": 14,
   "id": "f94e3e5f",
   "metadata": {
    "scrolled": false
   },
   "outputs": [
    {
     "name": "stdout",
     "output_type": "stream",
     "text": [
      "ID                              259027\n",
      "Name                   Jhoanner Chávez\n",
      "Age                                 19\n",
      "Nationality                    Ecuador\n",
      "Overall                             63\n",
      "Potential                           74\n",
      "Club           Independiente del Valle\n",
      "Contract                   2020 ~ 2023\n",
      "Value                              €1M\n",
      "Wage                              €500\n",
      "Total stat                        1545\n",
      "Name: 12677, dtype: object\n"
     ]
    },
    {
     "data": {
      "text/html": [
       "<div>\n",
       "<style scoped>\n",
       "    .dataframe tbody tr th:only-of-type {\n",
       "        vertical-align: middle;\n",
       "    }\n",
       "\n",
       "    .dataframe tbody tr th {\n",
       "        vertical-align: top;\n",
       "    }\n",
       "\n",
       "    .dataframe thead th {\n",
       "        text-align: right;\n",
       "    }\n",
       "</style>\n",
       "<table border=\"1\" class=\"dataframe\">\n",
       "  <thead>\n",
       "    <tr style=\"text-align: right;\">\n",
       "      <th></th>\n",
       "      <th>ID</th>\n",
       "      <th>Name</th>\n",
       "      <th>Age</th>\n",
       "      <th>Nationality</th>\n",
       "      <th>Overall</th>\n",
       "      <th>Potential</th>\n",
       "      <th>Club</th>\n",
       "      <th>Contract</th>\n",
       "      <th>Value</th>\n",
       "      <th>Wage</th>\n",
       "      <th>Total stat</th>\n",
       "    </tr>\n",
       "  </thead>\n",
       "  <tbody>\n",
       "    <tr>\n",
       "      <th>12677</th>\n",
       "      <td>259027</td>\n",
       "      <td>Jhoanner Chávez</td>\n",
       "      <td>19</td>\n",
       "      <td>Ecuador</td>\n",
       "      <td>63</td>\n",
       "      <td>74</td>\n",
       "      <td>Independiente del Valle</td>\n",
       "      <td>2020 ~ 2023</td>\n",
       "      <td>€1M</td>\n",
       "      <td>€500</td>\n",
       "      <td>1545</td>\n",
       "    </tr>\n",
       "  </tbody>\n",
       "</table>\n",
       "</div>"
      ],
      "text/plain": [
       "           ID             Name  Age Nationality  Overall  Potential  \\\n",
       "12677  259027  Jhoanner Chávez   19     Ecuador       63         74   \n",
       "\n",
       "                          Club     Contract Value  Wage  Total stat  \n",
       "12677  Independiente del Valle  2020 ~ 2023   €1M  €500        1545  "
      ]
     },
     "execution_count": 14,
     "metadata": {},
     "output_type": "execute_result"
    }
   ],
   "source": [
    "for i in range(player_df.shape[0]):\n",
    "    if player_df.iloc[i]['ID'] == 259027.0:\n",
    "        print(player_df.iloc[i])\n",
    "player_df.loc[player_df['ID'] == 259027.0] # Estamos haciendo lo mismo que el loop de arriba, usar una de las 2 opciones"
   ]
  },
  {
   "cell_type": "code",
   "execution_count": 15,
   "id": "480a8c2b",
   "metadata": {},
   "outputs": [
    {
     "name": "stdout",
     "output_type": "stream",
     "text": [
      "[61.15]\n"
     ]
    }
   ],
   "source": [
    "print(model.predict(X_test[6])) # Coincide exacto, marca 63 y tiene una valoracion de 63 (vease arriba)"
   ]
  },
  {
   "cell_type": "code",
   "execution_count": 16,
   "id": "11de0463",
   "metadata": {},
   "outputs": [
    {
     "name": "stdout",
     "output_type": "stream",
     "text": [
      "69.0\n"
     ]
    }
   ],
   "source": [
    "print(X_test[6, 1098]) # el 6 seria la fila en la que estamos y 1098 la columna 'Potential' de la matrix X_test type(scipy.sparse._csr.csr_matrix)"
   ]
  },
  {
   "cell_type": "code",
   "execution_count": 17,
   "id": "433b9825",
   "metadata": {},
   "outputs": [
    {
     "name": "stdout",
     "output_type": "stream",
     "text": [
      "200389.0\n",
      "37576.0\n",
      "251854.0\n",
      "239818.0\n",
      "188545.0\n",
      "192119.0\n",
      "207865.0\n"
     ]
    }
   ],
   "source": [
    "for i in range(X_test.shape[0]): # Sacamos los ID de jugadores del test que tienen potencial de mas de 90\n",
    "    if X_test[i, 1098] > 90:\n",
    "        print(X_test[i, 1096]) # 1096 corresponde a la columna 'ID'"
   ]
  },
  {
   "cell_type": "code",
   "execution_count": 18,
   "id": "cf0ebe71",
   "metadata": {},
   "outputs": [
    {
     "name": "stdout",
     "output_type": "stream",
     "text": [
      "ID                                       238794\n",
      "Name           Vinícius José de Oliveira Júnior\n",
      "Age                                          20\n",
      "Nationality                              Brazil\n",
      "Overall                                      84\n",
      "Potential                                    91\n",
      "Club                             Real Madrid CF\n",
      "Contract                            2018 ~ 2025\n",
      "Value                                    €83.5M\n",
      "Wage                                      €165K\n",
      "Total stat                                 1970\n",
      "Name: 22, dtype: object\n",
      "ID                                   239818\n",
      "Name           Rúben Santos Gato Alves Dias\n",
      "Age                                      24\n",
      "Nationality                        Portugal\n",
      "Overall                                  88\n",
      "Potential                                91\n",
      "Club                        Manchester City\n",
      "Contract                        2020 ~ 2027\n",
      "Value                               €111.5M\n",
      "Wage                                  €210K\n",
      "Total stat                             1897\n",
      "Name: 90, dtype: object\n",
      "ID                          207865\n",
      "Name            Marcos Aoás Corrêa\n",
      "Age                             27\n",
      "Nationality                 Brazil\n",
      "Overall                         88\n",
      "Potential                       91\n",
      "Club           Paris Saint-Germain\n",
      "Contract               2013 ~ 2024\n",
      "Value                      €103.5M\n",
      "Wage                         €160K\n",
      "Total stat                    2089\n",
      "Name: 481, dtype: object\n",
      "ID                       192119\n",
      "Name           Thibaut Courtois\n",
      "Age                          29\n",
      "Nationality             Belgium\n",
      "Overall                      89\n",
      "Potential                    91\n",
      "Club             Real Madrid CF\n",
      "Contract            2018 ~ 2026\n",
      "Value                    €85.5M\n",
      "Wage                      €250K\n",
      "Total stat                 1327\n",
      "Name: 775, dtype: object\n"
     ]
    }
   ],
   "source": [
    "top_pot_player = [239818.0, 207865.0, 192119.0, 238794.0]\n",
    "\n",
    "for i in range(player_df.shape[0]): # Vemos en la dataframe original que jugadores eran los de arriba\n",
    "    if player_df.iloc[i]['ID'] in top_pot_player:\n",
    "        print(player_df.iloc[i])"
   ]
  },
  {
   "cell_type": "code",
   "execution_count": 19,
   "id": "3fe3c91a",
   "metadata": {
    "scrolled": true
   },
   "outputs": [
    {
     "name": "stdout",
     "output_type": "stream",
     "text": [
      "Rúben Santos Gato Alves Dias | Overall real: 88\n",
      " estimado -->  [86.79]\n",
      "Thibaut Courtois | Overall real:  89 estimado -->  [90.08]\n",
      "Marcos Aoás Corrêa | Overall real:  88 estimado -->  [88.11]\n"
     ]
    }
   ],
   "source": [
    "def clean_data(data): # para que no salga el nombre con toda la info de type, object y demas\n",
    "    data_clean = ''\n",
    "    for i in data:\n",
    "        data_clean += i\n",
    "    return data_clean\n",
    "\n",
    "for i in range(X_test.shape[0]): # Con un loop comprobamos los jugadores con Pot > 90 si acierta con su Overall\n",
    "    if X_test[(i, 1096)] in top_pot_player:\n",
    "        current_player = player_df.loc[player_df['ID'] == X_test[(i, 1096)]]\n",
    "        crr_ply_name = clean_data(current_player['Name'])\n",
    "        crr_ply_overall = clean_data(str(current_player['Overall'])[6:9]) # Lo ultimo es porque salia mal los datos\n",
    "        crr_ply_predict = clean_data(str(model.predict(X_test[i])))\n",
    "        print(f\"{crr_ply_name} | Overall real: {crr_ply_overall} estimado -->  {crr_ply_predict}\")"
   ]
  },
  {
   "cell_type": "code",
   "execution_count": null,
   "id": "ebd281dc",
   "metadata": {},
   "outputs": [],
   "source": [
    "import pickle\n",
    "\n",
    "# Save trained model to file\n",
    "pickle.dump(model, open(\"random_forest_regressor.pkl\", \"wb\"))\n",
    "\n",
    "# Load a saved model and make a prediction on a single example\n",
    "loaded_model = pickle.load(open(\"random_forest_regressor.pkl\", \"rb\"))\n",
    "loaded_model.predict(X_test[6])"
   ]
  },
  {
   "cell_type": "code",
   "execution_count": null,
   "id": "8e77af60",
   "metadata": {},
   "outputs": [],
   "source": []
  }
 ],
 "metadata": {
  "kernelspec": {
   "display_name": "Python 3 (ipykernel)",
   "language": "python",
   "name": "python3"
  },
  "language_info": {
   "codemirror_mode": {
    "name": "ipython",
    "version": 3
   },
   "file_extension": ".py",
   "mimetype": "text/x-python",
   "name": "python",
   "nbconvert_exporter": "python",
   "pygments_lexer": "ipython3",
   "version": "3.10.8"
  }
 },
 "nbformat": 4,
 "nbformat_minor": 5
}
